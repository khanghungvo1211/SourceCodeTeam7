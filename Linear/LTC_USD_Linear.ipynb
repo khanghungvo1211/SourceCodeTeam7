{
  "nbformat": 4,
  "nbformat_minor": 0,
  "metadata": {
    "colab": {
      "provenance": []
    },
    "kernelspec": {
      "name": "python3",
      "display_name": "Python 3"
    },
    "language_info": {
      "name": "python"
    }
  },
  "cells": [
    {
      "cell_type": "markdown",
      "source": [
        "#Import library"
      ],
      "metadata": {
        "id": "T0rZ6btKuo44"
      }
    },
    {
      "cell_type": "markdown",
      "source": [
        "* **numpy.polynomial.polynomial**: provides a number of objects (mostly functions) useful for dealing with polynomials.\n",
        "* **datetime**: create date and datetime objects, loop through a range of dates, parse and format date strings, and more.\n",
        "* **matplotlib.pyplot**: used to create 2D graphs and plots by using python scripts.\n",
        "* **pandas**: analyze data.\n",
        "*\tnumpy: working with arrays.\n",
        "*\t**r2_score**: evaluate the performance of a linear regression model.\n",
        "*\t**LinearRegression**: used to call Linear Regression model.\n",
        "*\t**mean_squared_error**: measures the average squared difference between the estimated values and true value.\n",
        "*\t**seaborn**: making statistical graphics.\n",
        "*\t**matplotlib.pyplot**: creating static, animated, and interactive visualizations.\n"
      ],
      "metadata": {
        "id": "abKr3NGPurHp"
      }
    },
    {
      "cell_type": "code",
      "execution_count": null,
      "metadata": {
        "id": "s3iEg-G5Mep_"
      },
      "outputs": [],
      "source": [
        "import numpy.polynomial.polynomial as poly\n",
        "from datetime import datetime\n",
        "import matplotlib.pyplot as plt\n",
        "import pandas as pd\n",
        "import numpy as np\n",
        "from sklearn.metrics import r2_score\n",
        "from sklearn.linear_model import LinearRegression\n",
        "from sklearn.metrics import mean_squared_error\n",
        "import seaborn as sns\n",
        "import statsmodels.api as sm\n",
        "import matplotlib.pyplot as plt"
      ]
    },
    {
      "cell_type": "markdown",
      "source": [
        "#Import data "
      ],
      "metadata": {
        "id": "tMXUySCAvMy4"
      }
    },
    {
      "cell_type": "code",
      "source": [
        "df=pd.read_csv(r\"/content/LTC-USD.csv\")\n",
        "df"
      ],
      "metadata": {
        "colab": {
          "base_uri": "https://localhost:8080/",
          "height": 423
        },
        "id": "8G202FmyMyni",
        "outputId": "fdd18923-08d5-4843-b835-7708836a2ef5"
      },
      "execution_count": 23,
      "outputs": [
        {
          "output_type": "execute_result",
          "data": {
            "text/plain": [
              "            Date        Open        High         Low       Close   Adj Close  \\\n",
              "0     2017-12-26  273.108002  289.510986  272.261993  286.503998  286.503998   \n",
              "1     2017-12-27  286.588989  290.944000  264.423004  272.174011  272.174011   \n",
              "2     2017-12-28  272.126007  273.177002  231.376999  249.929993  249.929993   \n",
              "3     2017-12-29  250.352005  258.040985  238.332993  245.501999  245.501999   \n",
              "4     2017-12-30  245.087006  245.432999  208.197006  218.962997  218.962997   \n",
              "...          ...         ...         ...         ...         ...         ...   \n",
              "1822  2022-12-22   65.399422   66.514549   64.517052   66.151672   66.151672   \n",
              "1823  2022-12-23   66.152802   66.596397   65.450348   65.772224   65.772224   \n",
              "1824  2022-12-24   65.772232   66.012245   65.263176   65.774788   65.774788   \n",
              "1825  2022-12-25   65.774750   69.363144   65.540604   69.206268   69.206268   \n",
              "1826  2022-12-26   69.206825   70.834938   68.710892   70.684746   70.684746   \n",
              "\n",
              "          Volume  \n",
              "0      842993024  \n",
              "1      777137984  \n",
              "2     2593240064  \n",
              "3     1392210048  \n",
              "4      943667008  \n",
              "...          ...  \n",
              "1822   368489876  \n",
              "1823   306694378  \n",
              "1824   178396939  \n",
              "1825   335124962  \n",
              "1826   457389047  \n",
              "\n",
              "[1827 rows x 7 columns]"
            ],
            "text/html": [
              "\n",
              "  <div id=\"df-4000ce54-89ff-40b2-b76f-f33aea29cbb6\">\n",
              "    <div class=\"colab-df-container\">\n",
              "      <div>\n",
              "<style scoped>\n",
              "    .dataframe tbody tr th:only-of-type {\n",
              "        vertical-align: middle;\n",
              "    }\n",
              "\n",
              "    .dataframe tbody tr th {\n",
              "        vertical-align: top;\n",
              "    }\n",
              "\n",
              "    .dataframe thead th {\n",
              "        text-align: right;\n",
              "    }\n",
              "</style>\n",
              "<table border=\"1\" class=\"dataframe\">\n",
              "  <thead>\n",
              "    <tr style=\"text-align: right;\">\n",
              "      <th></th>\n",
              "      <th>Date</th>\n",
              "      <th>Open</th>\n",
              "      <th>High</th>\n",
              "      <th>Low</th>\n",
              "      <th>Close</th>\n",
              "      <th>Adj Close</th>\n",
              "      <th>Volume</th>\n",
              "    </tr>\n",
              "  </thead>\n",
              "  <tbody>\n",
              "    <tr>\n",
              "      <th>0</th>\n",
              "      <td>2017-12-26</td>\n",
              "      <td>273.108002</td>\n",
              "      <td>289.510986</td>\n",
              "      <td>272.261993</td>\n",
              "      <td>286.503998</td>\n",
              "      <td>286.503998</td>\n",
              "      <td>842993024</td>\n",
              "    </tr>\n",
              "    <tr>\n",
              "      <th>1</th>\n",
              "      <td>2017-12-27</td>\n",
              "      <td>286.588989</td>\n",
              "      <td>290.944000</td>\n",
              "      <td>264.423004</td>\n",
              "      <td>272.174011</td>\n",
              "      <td>272.174011</td>\n",
              "      <td>777137984</td>\n",
              "    </tr>\n",
              "    <tr>\n",
              "      <th>2</th>\n",
              "      <td>2017-12-28</td>\n",
              "      <td>272.126007</td>\n",
              "      <td>273.177002</td>\n",
              "      <td>231.376999</td>\n",
              "      <td>249.929993</td>\n",
              "      <td>249.929993</td>\n",
              "      <td>2593240064</td>\n",
              "    </tr>\n",
              "    <tr>\n",
              "      <th>3</th>\n",
              "      <td>2017-12-29</td>\n",
              "      <td>250.352005</td>\n",
              "      <td>258.040985</td>\n",
              "      <td>238.332993</td>\n",
              "      <td>245.501999</td>\n",
              "      <td>245.501999</td>\n",
              "      <td>1392210048</td>\n",
              "    </tr>\n",
              "    <tr>\n",
              "      <th>4</th>\n",
              "      <td>2017-12-30</td>\n",
              "      <td>245.087006</td>\n",
              "      <td>245.432999</td>\n",
              "      <td>208.197006</td>\n",
              "      <td>218.962997</td>\n",
              "      <td>218.962997</td>\n",
              "      <td>943667008</td>\n",
              "    </tr>\n",
              "    <tr>\n",
              "      <th>...</th>\n",
              "      <td>...</td>\n",
              "      <td>...</td>\n",
              "      <td>...</td>\n",
              "      <td>...</td>\n",
              "      <td>...</td>\n",
              "      <td>...</td>\n",
              "      <td>...</td>\n",
              "    </tr>\n",
              "    <tr>\n",
              "      <th>1822</th>\n",
              "      <td>2022-12-22</td>\n",
              "      <td>65.399422</td>\n",
              "      <td>66.514549</td>\n",
              "      <td>64.517052</td>\n",
              "      <td>66.151672</td>\n",
              "      <td>66.151672</td>\n",
              "      <td>368489876</td>\n",
              "    </tr>\n",
              "    <tr>\n",
              "      <th>1823</th>\n",
              "      <td>2022-12-23</td>\n",
              "      <td>66.152802</td>\n",
              "      <td>66.596397</td>\n",
              "      <td>65.450348</td>\n",
              "      <td>65.772224</td>\n",
              "      <td>65.772224</td>\n",
              "      <td>306694378</td>\n",
              "    </tr>\n",
              "    <tr>\n",
              "      <th>1824</th>\n",
              "      <td>2022-12-24</td>\n",
              "      <td>65.772232</td>\n",
              "      <td>66.012245</td>\n",
              "      <td>65.263176</td>\n",
              "      <td>65.774788</td>\n",
              "      <td>65.774788</td>\n",
              "      <td>178396939</td>\n",
              "    </tr>\n",
              "    <tr>\n",
              "      <th>1825</th>\n",
              "      <td>2022-12-25</td>\n",
              "      <td>65.774750</td>\n",
              "      <td>69.363144</td>\n",
              "      <td>65.540604</td>\n",
              "      <td>69.206268</td>\n",
              "      <td>69.206268</td>\n",
              "      <td>335124962</td>\n",
              "    </tr>\n",
              "    <tr>\n",
              "      <th>1826</th>\n",
              "      <td>2022-12-26</td>\n",
              "      <td>69.206825</td>\n",
              "      <td>70.834938</td>\n",
              "      <td>68.710892</td>\n",
              "      <td>70.684746</td>\n",
              "      <td>70.684746</td>\n",
              "      <td>457389047</td>\n",
              "    </tr>\n",
              "  </tbody>\n",
              "</table>\n",
              "<p>1827 rows × 7 columns</p>\n",
              "</div>\n",
              "      <button class=\"colab-df-convert\" onclick=\"convertToInteractive('df-4000ce54-89ff-40b2-b76f-f33aea29cbb6')\"\n",
              "              title=\"Convert this dataframe to an interactive table.\"\n",
              "              style=\"display:none;\">\n",
              "        \n",
              "  <svg xmlns=\"http://www.w3.org/2000/svg\" height=\"24px\"viewBox=\"0 0 24 24\"\n",
              "       width=\"24px\">\n",
              "    <path d=\"M0 0h24v24H0V0z\" fill=\"none\"/>\n",
              "    <path d=\"M18.56 5.44l.94 2.06.94-2.06 2.06-.94-2.06-.94-.94-2.06-.94 2.06-2.06.94zm-11 1L8.5 8.5l.94-2.06 2.06-.94-2.06-.94L8.5 2.5l-.94 2.06-2.06.94zm10 10l.94 2.06.94-2.06 2.06-.94-2.06-.94-.94-2.06-.94 2.06-2.06.94z\"/><path d=\"M17.41 7.96l-1.37-1.37c-.4-.4-.92-.59-1.43-.59-.52 0-1.04.2-1.43.59L10.3 9.45l-7.72 7.72c-.78.78-.78 2.05 0 2.83L4 21.41c.39.39.9.59 1.41.59.51 0 1.02-.2 1.41-.59l7.78-7.78 2.81-2.81c.8-.78.8-2.07 0-2.86zM5.41 20L4 18.59l7.72-7.72 1.47 1.35L5.41 20z\"/>\n",
              "  </svg>\n",
              "      </button>\n",
              "      \n",
              "  <style>\n",
              "    .colab-df-container {\n",
              "      display:flex;\n",
              "      flex-wrap:wrap;\n",
              "      gap: 12px;\n",
              "    }\n",
              "\n",
              "    .colab-df-convert {\n",
              "      background-color: #E8F0FE;\n",
              "      border: none;\n",
              "      border-radius: 50%;\n",
              "      cursor: pointer;\n",
              "      display: none;\n",
              "      fill: #1967D2;\n",
              "      height: 32px;\n",
              "      padding: 0 0 0 0;\n",
              "      width: 32px;\n",
              "    }\n",
              "\n",
              "    .colab-df-convert:hover {\n",
              "      background-color: #E2EBFA;\n",
              "      box-shadow: 0px 1px 2px rgba(60, 64, 67, 0.3), 0px 1px 3px 1px rgba(60, 64, 67, 0.15);\n",
              "      fill: #174EA6;\n",
              "    }\n",
              "\n",
              "    [theme=dark] .colab-df-convert {\n",
              "      background-color: #3B4455;\n",
              "      fill: #D2E3FC;\n",
              "    }\n",
              "\n",
              "    [theme=dark] .colab-df-convert:hover {\n",
              "      background-color: #434B5C;\n",
              "      box-shadow: 0px 1px 3px 1px rgba(0, 0, 0, 0.15);\n",
              "      filter: drop-shadow(0px 1px 2px rgba(0, 0, 0, 0.3));\n",
              "      fill: #FFFFFF;\n",
              "    }\n",
              "  </style>\n",
              "\n",
              "      <script>\n",
              "        const buttonEl =\n",
              "          document.querySelector('#df-4000ce54-89ff-40b2-b76f-f33aea29cbb6 button.colab-df-convert');\n",
              "        buttonEl.style.display =\n",
              "          google.colab.kernel.accessAllowed ? 'block' : 'none';\n",
              "\n",
              "        async function convertToInteractive(key) {\n",
              "          const element = document.querySelector('#df-4000ce54-89ff-40b2-b76f-f33aea29cbb6');\n",
              "          const dataTable =\n",
              "            await google.colab.kernel.invokeFunction('convertToInteractive',\n",
              "                                                     [key], {});\n",
              "          if (!dataTable) return;\n",
              "\n",
              "          const docLinkHtml = 'Like what you see? Visit the ' +\n",
              "            '<a target=\"_blank\" href=https://colab.research.google.com/notebooks/data_table.ipynb>data table notebook</a>'\n",
              "            + ' to learn more about interactive tables.';\n",
              "          element.innerHTML = '';\n",
              "          dataTable['output_type'] = 'display_data';\n",
              "          await google.colab.output.renderOutput(dataTable, element);\n",
              "          const docLink = document.createElement('div');\n",
              "          docLink.innerHTML = docLinkHtml;\n",
              "          element.appendChild(docLink);\n",
              "        }\n",
              "      </script>\n",
              "    </div>\n",
              "  </div>\n",
              "  "
            ]
          },
          "metadata": {},
          "execution_count": 23
        }
      ]
    },
    {
      "cell_type": "markdown",
      "source": [
        "#Convert to a datetime data type"
      ],
      "metadata": {
        "id": "iLQ4IXJjvRDg"
      }
    },
    {
      "cell_type": "code",
      "source": [
        "df.index = df['Date']\n",
        "# Convert the 'date' column to a datetime data type\n",
        "df['Date']=pd.to_datetime(df.Date,format='%Y-%m-%d')\n",
        "#set the date as the index\n",
        "df=df.set_index(pd.DatetimeIndex(df['Date'].values))\n",
        "df['Time'] = np.arange(len(df.index))\n",
        "df['Close'].plot(figsize=(16,5))"
      ],
      "metadata": {
        "colab": {
          "base_uri": "https://localhost:8080/",
          "height": 338
        },
        "id": "h8I9xIFUM0Eb",
        "outputId": "3201a5cf-94e1-4413-bc75-8ab5ae3ba92e"
      },
      "execution_count": 24,
      "outputs": [
        {
          "output_type": "execute_result",
          "data": {
            "text/plain": [
              "<matplotlib.axes._subplots.AxesSubplot at 0x7f560a6e02e0>"
            ]
          },
          "metadata": {},
          "execution_count": 24
        },
        {
          "output_type": "display_data",
          "data": {
            "text/plain": [
              "<Figure size 1152x360 with 1 Axes>"
            ],
            "image/png": "[encoded data removed]"
          },
          "metadata": {
            "needs_background": "light"
          }
        }
      ]
    },
    {
      "cell_type": "code",
      "source": [
        "df2 = df.copy()\n",
        "#plot the linear regression and the close price"
      ],
      "metadata": {
        "id": "pIPPUmOgM5Lj"
      },
      "execution_count": 25,
      "outputs": []
    },
    {
      "cell_type": "markdown",
      "source": [
        "#create the new column called Numbers"
      ],
      "metadata": {
        "id": "6ouFPC1aM7-W"
      }
    },
    {
      "cell_type": "markdown",
      "source": [
        "* Create the new column called Numbers. Then, we store the “Numbers” to X (independent variable) and ClosePrice to Y (dependent variable).\n",
        "* Using LinearRegression to fix X and Y.\n",
        "* Find Intercept (β0).\n",
        "* Find Slope (β1).\n"
      ],
      "metadata": {
        "id": "fASWPBUrviQ5"
      }
    },
    {
      "cell_type": "code",
      "source": [
        "df2['Numbers'] = list(range(0, len(df2)))\n",
        "#store the 'Numbers' to X and ClosePrice to Y\n",
        "X = np.array(df2[['Numbers']])\n",
        "Y = df2['Close'].values\n",
        "linearmodel = LinearRegression().fit(X,Y)\n",
        "print('Intercept' , linearmodel.intercept_)\n",
        "print('Slope' , linearmodel.coef_)\n",
        "df2['Numbers']"
      ],
      "metadata": {
        "colab": {
          "base_uri": "https://localhost:8080/"
        },
        "id": "sJkNNSRjM8tc",
        "outputId": "59726ca5-55d1-4352-d035-5c69fc966377"
      },
      "execution_count": 26,
      "outputs": [
        {
          "output_type": "stream",
          "name": "stdout",
          "text": [
            "Intercept 91.01347292803005\n",
            "Slope [0.0099428]\n"
          ]
        },
        {
          "output_type": "execute_result",
          "data": {
            "text/plain": [
              "2017-12-26       0\n",
              "2017-12-27       1\n",
              "2017-12-28       2\n",
              "2017-12-29       3\n",
              "2017-12-30       4\n",
              "              ... \n",
              "2022-12-22    1822\n",
              "2022-12-23    1823\n",
              "2022-12-24    1824\n",
              "2022-12-25    1825\n",
              "2022-12-26    1826\n",
              "Name: Numbers, Length: 1827, dtype: int64"
            ]
          },
          "metadata": {},
          "execution_count": 26
        }
      ]
    },
    {
      "cell_type": "markdown",
      "source": [
        "#Visualization"
      ],
      "metadata": {
        "id": "uInf19C6wAux"
      }
    },
    {
      "cell_type": "markdown",
      "source": [
        "* Substitute the result of Intercept and Slope into the formula: **y_pred = linearmodel.coef_* X + linearmodel.intercept_** to find Close Price of BTC-USD.\n",
        "* Visualize predict Close Price of BTC-USD.\n"
      ],
      "metadata": {
        "id": "tNtDXFgYvonw"
      }
    },
    {
      "cell_type": "code",
      "source": [
        "#prepare the data for visualization\n",
        "#store the predicted prices from the model and store them into y_pred\n",
        "#y = ax + b \n",
        "y_pred = linearmodel.coef_* X + linearmodel.intercept_\n",
        "#store the y_pred into new colums call Predicted\n",
        "df2['Predicted'] =  y_pred\n",
        "#plot the data\n",
        "df2['Predicted'].plot(figsize=(10,5),legend = True)\n",
        "df2['Close'].plot(figsize=(10,5),legend = True)\n",
        "plt.title('Close Price Of LTC-USD')"
      ],
      "metadata": {
        "colab": {
          "base_uri": "https://localhost:8080/",
          "height": 353
        },
        "id": "YukIIJ59M-Jz",
        "outputId": "82024bd5-8066-4360-b5a2-dfb71b242655"
      },
      "execution_count": 29,
      "outputs": [
        {
          "output_type": "execute_result",
          "data": {
            "text/plain": [
              "Text(0.5, 1.0, 'Close Price Of LTC-USD')"
            ]
          },
          "metadata": {},
          "execution_count": 29
        },
        {
          "output_type": "display_data",
          "data": {
            "text/plain": [
              "<Figure size 720x360 with 1 Axes>"
            ],
            "image/png": "[encoded data removed]"
          },
          "metadata": {
            "needs_background": "light"
          }
        }
      ]
    },
    {
      "cell_type": "markdown",
      "source": [
        "#Model assessment"
      ],
      "metadata": {
        "id": "fQioEgBBwC0v"
      }
    },
    {
      "cell_type": "code",
      "source": [
        "from sklearn.metrics import mean_absolute_error, mean_squared_error, mean_absolute_percentage_error, r2_score\n",
        "mae = mean_absolute_error(df2['Close'], df2['Predicted'])\n",
        "mape = mean_absolute_percentage_error(df2['Close'], df2['Predicted'])\n",
        "mse = mean_squared_error(df2['Close'], df2['Predicted'])\n",
        "rmse = np.sqrt(mse)\n",
        "print(\"MAE: \",mae)\n",
        "print(\"MAPE: \", mape*100)\n",
        "print(\"RMSE: \", rmse)"
      ],
      "metadata": {
        "colab": {
          "base_uri": "https://localhost:8080/"
        },
        "id": "5t22PjVjM_QD",
        "outputId": "7a32e85a-fab7-4b78-e3f7-f6638a594410"
      },
      "execution_count": 28,
      "outputs": [
        {
          "output_type": "stream",
          "name": "stdout",
          "text": [
            "MAE:  50.28473588522354\n",
            "MAPE:  64.75592822722021\n",
            "RMSE:  61.53056335073976\n"
          ]
        }
      ]
    }
  ]
}