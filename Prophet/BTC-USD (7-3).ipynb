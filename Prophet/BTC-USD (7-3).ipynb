{
  "nbformat": 4,
  "nbformat_minor": 0,
  "metadata": {
    "colab": {
      "provenance": []
    },
    "kernelspec": {
      "name": "python3",
      "display_name": "Python 3"
    },
    "language_info": {
      "name": "python"
    }
  },
  "cells": [
    {
      "cell_type": "markdown",
      "source": [
        "# Import libraries and data\n"
      ],
      "metadata": {
        "id": "PolguKUgFMAb"
      }
    },
    {
      "cell_type": "code",
      "execution_count": 4,
      "metadata": {
        "colab": {
          "base_uri": "https://localhost:8080/"
        },
        "id": "nhV2zxZFqlXp",
        "outputId": "511def6e-4959-44bb-89ee-843b908794d6"
      },
      "outputs": [
        {
          "output_type": "stream",
          "name": "stdout",
          "text": [
            "\u001b[33mWARNING: Ignoring invalid distribution -ystan (/usr/local/lib/python3.8/dist-packages)\u001b[0m\n",
            "\u001b[33mWARNING: Ignoring invalid distribution -ystan (/usr/local/lib/python3.8/dist-packages)\u001b[0m\n",
            "Looking in indexes: https://pypi.org/simple, https://us-python.pkg.dev/colab-wheels/public/simple/\n",
            "Collecting pystan~=2.14\n",
            "  Using cached pystan-2.19.1.1-cp38-cp38-manylinux1_x86_64.whl (62.6 MB)\n",
            "Requirement already satisfied: Cython!=0.25.1,>=0.22 in /usr/local/lib/python3.8/dist-packages (from pystan~=2.14) (0.29.32)\n",
            "Requirement already satisfied: numpy>=1.7 in /usr/local/lib/python3.8/dist-packages (from pystan~=2.14) (1.21.6)\n",
            "\u001b[33mWARNING: Ignoring invalid distribution -ystan (/usr/local/lib/python3.8/dist-packages)\u001b[0m\n",
            "Installing collected packages: pystan\n",
            "\u001b[33mWARNING: Ignoring invalid distribution -ystan (/usr/local/lib/python3.8/dist-packages)\u001b[0m\n",
            "Successfully installed pystan-2.19.1.1\n",
            "\u001b[33mWARNING: Ignoring invalid distribution -ystan (/usr/local/lib/python3.8/dist-packages)\u001b[0m\n",
            "\u001b[33mWARNING: Ignoring invalid distribution -ystan (/usr/local/lib/python3.8/dist-packages)\u001b[0m\n",
            "Looking in indexes: https://pypi.org/simple, https://us-python.pkg.dev/colab-wheels/public/simple/\n",
            "Collecting fbprophet\n",
            "  Using cached fbprophet-0.7.1.tar.gz (64 kB)\n",
            "Requirement already satisfied: Cython>=0.22 in /usr/local/lib/python3.8/dist-packages (from fbprophet) (0.29.32)\n",
            "Collecting cmdstanpy==0.9.5\n",
            "  Using cached cmdstanpy-0.9.5-py3-none-any.whl (37 kB)\n",
            "Requirement already satisfied: pystan>=2.14 in /usr/local/lib/python3.8/dist-packages (from fbprophet) (2.19.1.1)\n",
            "Requirement already satisfied: numpy>=1.15.4 in /usr/local/lib/python3.8/dist-packages (from fbprophet) (1.21.6)\n",
            "Requirement already satisfied: pandas>=1.0.4 in /usr/local/lib/python3.8/dist-packages (from fbprophet) (1.3.5)\n",
            "Requirement already satisfied: matplotlib>=2.0.0 in /usr/local/lib/python3.8/dist-packages (from fbprophet) (3.2.2)\n",
            "Requirement already satisfied: LunarCalendar>=0.0.9 in /usr/local/lib/python3.8/dist-packages (from fbprophet) (0.0.9)\n",
            "Requirement already satisfied: convertdate>=2.1.2 in /usr/local/lib/python3.8/dist-packages (from fbprophet) (2.4.0)\n",
            "Requirement already satisfied: holidays>=0.10.2 in /usr/local/lib/python3.8/dist-packages (from fbprophet) (0.17.2)\n",
            "Requirement already satisfied: setuptools-git>=1.2 in /usr/local/lib/python3.8/dist-packages (from fbprophet) (1.2)\n",
            "Requirement already satisfied: python-dateutil>=2.8.0 in /usr/local/lib/python3.8/dist-packages (from fbprophet) (2.8.2)\n",
            "Requirement already satisfied: tqdm>=4.36.1 in /usr/local/lib/python3.8/dist-packages (from fbprophet) (4.64.1)\n",
            "Requirement already satisfied: pymeeus<=1,>=0.3.13 in /usr/local/lib/python3.8/dist-packages (from convertdate>=2.1.2->fbprophet) (0.5.12)\n",
            "Requirement already satisfied: hijri-converter in /usr/local/lib/python3.8/dist-packages (from holidays>=0.10.2->fbprophet) (2.2.4)\n",
            "Requirement already satisfied: korean-lunar-calendar in /usr/local/lib/python3.8/dist-packages (from holidays>=0.10.2->fbprophet) (0.3.1)\n",
            "Requirement already satisfied: ephem>=3.7.5.3 in /usr/local/lib/python3.8/dist-packages (from LunarCalendar>=0.0.9->fbprophet) (4.1.3)\n",
            "Requirement already satisfied: pytz in /usr/local/lib/python3.8/dist-packages (from LunarCalendar>=0.0.9->fbprophet) (2022.6)\n",
            "Requirement already satisfied: cycler>=0.10 in /usr/local/lib/python3.8/dist-packages (from matplotlib>=2.0.0->fbprophet) (0.11.0)\n",
            "Requirement already satisfied: pyparsing!=2.0.4,!=2.1.2,!=2.1.6,>=2.0.1 in /usr/local/lib/python3.8/dist-packages (from matplotlib>=2.0.0->fbprophet) (3.0.9)\n",
            "Requirement already satisfied: kiwisolver>=1.0.1 in /usr/local/lib/python3.8/dist-packages (from matplotlib>=2.0.0->fbprophet) (1.4.4)\n",
            "Requirement already satisfied: six>=1.5 in /usr/local/lib/python3.8/dist-packages (from python-dateutil>=2.8.0->fbprophet) (1.15.0)\n",
            "Building wheels for collected packages: fbprophet\n",
            "  Building wheel for fbprophet (setup.py) ... \u001b[?25l\u001b[?25hdone\n",
            "  Created wheel for fbprophet: filename=fbprophet-0.7.1-py3-none-any.whl size=6751732 sha256=629cd2f95f8eff60141440bc2a3dffe874f8c967fb24c73185058185f476f0a2\n",
            "  Stored in directory: /root/.cache/pip/wheels/d0/d2/ae/c579b7fd160999d35908f3cb8ebcad7ef64ecaca7b78e4c3c8\n",
            "Successfully built fbprophet\n",
            "\u001b[33mWARNING: Ignoring invalid distribution -ystan (/usr/local/lib/python3.8/dist-packages)\u001b[0m\n",
            "Installing collected packages: cmdstanpy, fbprophet\n",
            "  Attempting uninstall: cmdstanpy\n",
            "\u001b[33m    WARNING: Ignoring invalid distribution -ystan (/usr/local/lib/python3.8/dist-packages)\u001b[0m\n",
            "    Found existing installation: cmdstanpy 1.0.8\n",
            "    Uninstalling cmdstanpy-1.0.8:\n",
            "      Successfully uninstalled cmdstanpy-1.0.8\n",
            "\u001b[33mWARNING: Ignoring invalid distribution -ystan (/usr/local/lib/python3.8/dist-packages)\u001b[0m\n",
            "\u001b[33mWARNING: Ignoring invalid distribution -ystan (/usr/local/lib/python3.8/dist-packages)\u001b[0m\n",
            "\u001b[31mERROR: pip's dependency resolver does not currently take into account all the packages that are installed. This behaviour is the source of the following dependency conflicts.\n",
            "prophet 1.1.1 requires cmdstanpy>=1.0.4, but you have cmdstanpy 0.9.5 which is incompatible.\u001b[0m\n",
            "Successfully installed cmdstanpy-0.9.5 fbprophet-0.7.1\n"
          ]
        }
      ],
      "source": [
        "!pip install pystan~=2.14\n",
        "!pip install fbprophet"
      ]
    },
    {
      "cell_type": "code",
      "source": [
        "#import libraries\n",
        "import itertools #used to iterate over data structures that can be stepped over using a for-loop\n",
        "from fbprophet import Prophet #provided completely automated forecasts\n",
        "import pandas as pd #analyze data\n",
        "import numpy as np #provided a large number of mathematical, algebraic, and transformation functions\n",
        "import matplotlib.pyplot as plt #create 2D graphs and plots by using python scripts\n",
        "import matplotlib.dates as mdates #plot data that consists of dates."
      ],
      "metadata": {
        "id": "nELnHaxgrVae"
      },
      "execution_count": 5,
      "outputs": []
    },
    {
      "cell_type": "code",
      "source": [
        "#get the data\n",
        "data = pd.read_csv(\"/content/BTC-USD.csv\")\n",
        "data.head(5)"
      ],
      "metadata": {
        "id": "4Mn_1TOPrWnV",
        "colab": {
          "base_uri": "https://localhost:8080/",
          "height": 206
        },
        "outputId": "cca0299a-25c1-48b6-e95d-14b77310a4f9"
      },
      "execution_count": 6,
      "outputs": [
        {
          "output_type": "execute_result",
          "data": {
            "text/plain": [
              "         Date          Open          High           Low         Close  \\\n",
              "0  2017-12-26  14036.599609  16461.199219  14028.900391  16099.799805   \n",
              "1  2017-12-27  16163.500000  16930.900391  15114.299805  15838.500000   \n",
              "2  2017-12-28  15864.099609  15888.400391  13937.299805  14606.500000   \n",
              "3  2017-12-29  14695.799805  15279.000000  14307.000000  14656.200195   \n",
              "4  2017-12-30  14681.900391  14681.900391  12350.099609  12952.200195   \n",
              "\n",
              "      Adj Close       Volume  \n",
              "0  16099.799805  13454300160  \n",
              "1  15838.500000  12487600128  \n",
              "2  14606.500000  12336499712  \n",
              "3  14656.200195  13025500160  \n",
              "4  12952.200195  14452599808  "
            ],
            "text/html": [
              "\n",
              "  <div id=\"df-0382bab2-fa28-4c58-855f-4635c72ac125\">\n",
              "    <div class=\"colab-df-container\">\n",
              "      <div>\n",
              "<style scoped>\n",
              "    .dataframe tbody tr th:only-of-type {\n",
              "        vertical-align: middle;\n",
              "    }\n",
              "\n",
              "    .dataframe tbody tr th {\n",
              "        vertical-align: top;\n",
              "    }\n",
              "\n",
              "    .dataframe thead th {\n",
              "        text-align: right;\n",
              "    }\n",
              "</style>\n",
              "<table border=\"1\" class=\"dataframe\">\n",
              "  <thead>\n",
              "    <tr style=\"text-align: right;\">\n",
              "      <th></th>\n",
              "      <th>Date</th>\n",
              "      <th>Open</th>\n",
              "      <th>High</th>\n",
              "      <th>Low</th>\n",
              "      <th>Close</th>\n",
              "      <th>Adj Close</th>\n",
              "      <th>Volume</th>\n",
              "    </tr>\n",
              "  </thead>\n",
              "  <tbody>\n",
              "    <tr>\n",
              "      <th>0</th>\n",
              "      <td>2017-12-26</td>\n",
              "      <td>14036.599609</td>\n",
              "      <td>16461.199219</td>\n",
              "      <td>14028.900391</td>\n",
              "      <td>16099.799805</td>\n",
              "      <td>16099.799805</td>\n",
              "      <td>13454300160</td>\n",
              "    </tr>\n",
              "    <tr>\n",
              "      <th>1</th>\n",
              "      <td>2017-12-27</td>\n",
              "      <td>16163.500000</td>\n",
              "      <td>16930.900391</td>\n",
              "      <td>15114.299805</td>\n",
              "      <td>15838.500000</td>\n",
              "      <td>15838.500000</td>\n",
              "      <td>12487600128</td>\n",
              "    </tr>\n",
              "    <tr>\n",
              "      <th>2</th>\n",
              "      <td>2017-12-28</td>\n",
              "      <td>15864.099609</td>\n",
              "      <td>15888.400391</td>\n",
              "      <td>13937.299805</td>\n",
              "      <td>14606.500000</td>\n",
              "      <td>14606.500000</td>\n",
              "      <td>12336499712</td>\n",
              "    </tr>\n",
              "    <tr>\n",
              "      <th>3</th>\n",
              "      <td>2017-12-29</td>\n",
              "      <td>14695.799805</td>\n",
              "      <td>15279.000000</td>\n",
              "      <td>14307.000000</td>\n",
              "      <td>14656.200195</td>\n",
              "      <td>14656.200195</td>\n",
              "      <td>13025500160</td>\n",
              "    </tr>\n",
              "    <tr>\n",
              "      <th>4</th>\n",
              "      <td>2017-12-30</td>\n",
              "      <td>14681.900391</td>\n",
              "      <td>14681.900391</td>\n",
              "      <td>12350.099609</td>\n",
              "      <td>12952.200195</td>\n",
              "      <td>12952.200195</td>\n",
              "      <td>14452599808</td>\n",
              "    </tr>\n",
              "  </tbody>\n",
              "</table>\n",
              "</div>\n",
              "      <button class=\"colab-df-convert\" onclick=\"convertToInteractive('df-0382bab2-fa28-4c58-855f-4635c72ac125')\"\n",
              "              title=\"Convert this dataframe to an interactive table.\"\n",
              "              style=\"display:none;\">\n",
              "        \n",
              "  <svg xmlns=\"http://www.w3.org/2000/svg\" height=\"24px\"viewBox=\"0 0 24 24\"\n",
              "       width=\"24px\">\n",
              "    <path d=\"M0 0h24v24H0V0z\" fill=\"none\"/>\n",
              "    <path d=\"M18.56 5.44l.94 2.06.94-2.06 2.06-.94-2.06-.94-.94-2.06-.94 2.06-2.06.94zm-11 1L8.5 8.5l.94-2.06 2.06-.94-2.06-.94L8.5 2.5l-.94 2.06-2.06.94zm10 10l.94 2.06.94-2.06 2.06-.94-2.06-.94-.94-2.06-.94 2.06-2.06.94z\"/><path d=\"M17.41 7.96l-1.37-1.37c-.4-.4-.92-.59-1.43-.59-.52 0-1.04.2-1.43.59L10.3 9.45l-7.72 7.72c-.78.78-.78 2.05 0 2.83L4 21.41c.39.39.9.59 1.41.59.51 0 1.02-.2 1.41-.59l7.78-7.78 2.81-2.81c.8-.78.8-2.07 0-2.86zM5.41 20L4 18.59l7.72-7.72 1.47 1.35L5.41 20z\"/>\n",
              "  </svg>\n",
              "      </button>\n",
              "      \n",
              "  <style>\n",
              "    .colab-df-container {\n",
              "      display:flex;\n",
              "      flex-wrap:wrap;\n",
              "      gap: 12px;\n",
              "    }\n",
              "\n",
              "    .colab-df-convert {\n",
              "      background-color: #E8F0FE;\n",
              "      border: none;\n",
              "      border-radius: 50%;\n",
              "      cursor: pointer;\n",
              "      display: none;\n",
              "      fill: #1967D2;\n",
              "      height: 32px;\n",
              "      padding: 0 0 0 0;\n",
              "      width: 32px;\n",
              "    }\n",
              "\n",
              "    .colab-df-convert:hover {\n",
              "      background-color: #E2EBFA;\n",
              "      box-shadow: 0px 1px 2px rgba(60, 64, 67, 0.3), 0px 1px 3px 1px rgba(60, 64, 67, 0.15);\n",
              "      fill: #174EA6;\n",
              "    }\n",
              "\n",
              "    [theme=dark] .colab-df-convert {\n",
              "      background-color: #3B4455;\n",
              "      fill: #D2E3FC;\n",
              "    }\n",
              "\n",
              "    [theme=dark] .colab-df-convert:hover {\n",
              "      background-color: #434B5C;\n",
              "      box-shadow: 0px 1px 3px 1px rgba(0, 0, 0, 0.15);\n",
              "      filter: drop-shadow(0px 1px 2px rgba(0, 0, 0, 0.3));\n",
              "      fill: #FFFFFF;\n",
              "    }\n",
              "  </style>\n",
              "\n",
              "      <script>\n",
              "        const buttonEl =\n",
              "          document.querySelector('#df-0382bab2-fa28-4c58-855f-4635c72ac125 button.colab-df-convert');\n",
              "        buttonEl.style.display =\n",
              "          google.colab.kernel.accessAllowed ? 'block' : 'none';\n",
              "\n",
              "        async function convertToInteractive(key) {\n",
              "          const element = document.querySelector('#df-0382bab2-fa28-4c58-855f-4635c72ac125');\n",
              "          const dataTable =\n",
              "            await google.colab.kernel.invokeFunction('convertToInteractive',\n",
              "                                                     [key], {});\n",
              "          if (!dataTable) return;\n",
              "\n",
              "          const docLinkHtml = 'Like what you see? Visit the ' +\n",
              "            '<a target=\"_blank\" href=https://colab.research.google.com/notebooks/data_table.ipynb>data table notebook</a>'\n",
              "            + ' to learn more about interactive tables.';\n",
              "          element.innerHTML = '';\n",
              "          dataTable['output_type'] = 'display_data';\n",
              "          await google.colab.output.renderOutput(dataTable, element);\n",
              "          const docLink = document.createElement('div');\n",
              "          docLink.innerHTML = docLinkHtml;\n",
              "          element.appendChild(docLink);\n",
              "        }\n",
              "      </script>\n",
              "    </div>\n",
              "  </div>\n",
              "  "
            ]
          },
          "metadata": {},
          "execution_count": 6
        }
      ]
    },
    {
      "cell_type": "code",
      "source": [
        "#select 2 variables: Date and Close\n",
        "dataset = data.loc[:, [\"Date\",\"Close\"]] #label indexing\n",
        "dataset.head(5) #display the number of rows of our choice                       "
      ],
      "metadata": {
        "colab": {
          "base_uri": "https://localhost:8080/",
          "height": 206
        },
        "id": "geGGKFwwrXkO",
        "outputId": "cc20a2dc-77b4-441e-e42d-5b5fcb7e2213"
      },
      "execution_count": 7,
      "outputs": [
        {
          "output_type": "execute_result",
          "data": {
            "text/plain": [
              "         Date         Close\n",
              "0  2017-12-26  16099.799805\n",
              "1  2017-12-27  15838.500000\n",
              "2  2017-12-28  14606.500000\n",
              "3  2017-12-29  14656.200195\n",
              "4  2017-12-30  12952.200195"
            ],
            "text/html": [
              "\n",
              "  <div id=\"df-159c4c0d-71ee-4917-912b-47d5d3334a5c\">\n",
              "    <div class=\"colab-df-container\">\n",
              "      <div>\n",
              "<style scoped>\n",
              "    .dataframe tbody tr th:only-of-type {\n",
              "        vertical-align: middle;\n",
              "    }\n",
              "\n",
              "    .dataframe tbody tr th {\n",
              "        vertical-align: top;\n",
              "    }\n",
              "\n",
              "    .dataframe thead th {\n",
              "        text-align: right;\n",
              "    }\n",
              "</style>\n",
              "<table border=\"1\" class=\"dataframe\">\n",
              "  <thead>\n",
              "    <tr style=\"text-align: right;\">\n",
              "      <th></th>\n",
              "      <th>Date</th>\n",
              "      <th>Close</th>\n",
              "    </tr>\n",
              "  </thead>\n",
              "  <tbody>\n",
              "    <tr>\n",
              "      <th>0</th>\n",
              "      <td>2017-12-26</td>\n",
              "      <td>16099.799805</td>\n",
              "    </tr>\n",
              "    <tr>\n",
              "      <th>1</th>\n",
              "      <td>2017-12-27</td>\n",
              "      <td>15838.500000</td>\n",
              "    </tr>\n",
              "    <tr>\n",
              "      <th>2</th>\n",
              "      <td>2017-12-28</td>\n",
              "      <td>14606.500000</td>\n",
              "    </tr>\n",
              "    <tr>\n",
              "      <th>3</th>\n",
              "      <td>2017-12-29</td>\n",
              "      <td>14656.200195</td>\n",
              "    </tr>\n",
              "    <tr>\n",
              "      <th>4</th>\n",
              "      <td>2017-12-30</td>\n",
              "      <td>12952.200195</td>\n",
              "    </tr>\n",
              "  </tbody>\n",
              "</table>\n",
              "</div>\n",
              "      <button class=\"colab-df-convert\" onclick=\"convertToInteractive('df-159c4c0d-71ee-4917-912b-47d5d3334a5c')\"\n",
              "              title=\"Convert this dataframe to an interactive table.\"\n",
              "              style=\"display:none;\">\n",
              "        \n",
              "  <svg xmlns=\"http://www.w3.org/2000/svg\" height=\"24px\"viewBox=\"0 0 24 24\"\n",
              "       width=\"24px\">\n",
              "    <path d=\"M0 0h24v24H0V0z\" fill=\"none\"/>\n",
              "    <path d=\"M18.56 5.44l.94 2.06.94-2.06 2.06-.94-2.06-.94-.94-2.06-.94 2.06-2.06.94zm-11 1L8.5 8.5l.94-2.06 2.06-.94-2.06-.94L8.5 2.5l-.94 2.06-2.06.94zm10 10l.94 2.06.94-2.06 2.06-.94-2.06-.94-.94-2.06-.94 2.06-2.06.94z\"/><path d=\"M17.41 7.96l-1.37-1.37c-.4-.4-.92-.59-1.43-.59-.52 0-1.04.2-1.43.59L10.3 9.45l-7.72 7.72c-.78.78-.78 2.05 0 2.83L4 21.41c.39.39.9.59 1.41.59.51 0 1.02-.2 1.41-.59l7.78-7.78 2.81-2.81c.8-.78.8-2.07 0-2.86zM5.41 20L4 18.59l7.72-7.72 1.47 1.35L5.41 20z\"/>\n",
              "  </svg>\n",
              "      </button>\n",
              "      \n",
              "  <style>\n",
              "    .colab-df-container {\n",
              "      display:flex;\n",
              "      flex-wrap:wrap;\n",
              "      gap: 12px;\n",
              "    }\n",
              "\n",
              "    .colab-df-convert {\n",
              "      background-color: #E8F0FE;\n",
              "      border: none;\n",
              "      border-radius: 50%;\n",
              "      cursor: pointer;\n",
              "      display: none;\n",
              "      fill: #1967D2;\n",
              "      height: 32px;\n",
              "      padding: 0 0 0 0;\n",
              "      width: 32px;\n",
              "    }\n",
              "\n",
              "    .colab-df-convert:hover {\n",
              "      background-color: #E2EBFA;\n",
              "      box-shadow: 0px 1px 2px rgba(60, 64, 67, 0.3), 0px 1px 3px 1px rgba(60, 64, 67, 0.15);\n",
              "      fill: #174EA6;\n",
              "    }\n",
              "\n",
              "    [theme=dark] .colab-df-convert {\n",
              "      background-color: #3B4455;\n",
              "      fill: #D2E3FC;\n",
              "    }\n",
              "\n",
              "    [theme=dark] .colab-df-convert:hover {\n",
              "      background-color: #434B5C;\n",
              "      box-shadow: 0px 1px 3px 1px rgba(0, 0, 0, 0.15);\n",
              "      filter: drop-shadow(0px 1px 2px rgba(0, 0, 0, 0.3));\n",
              "      fill: #FFFFFF;\n",
              "    }\n",
              "  </style>\n",
              "\n",
              "      <script>\n",
              "        const buttonEl =\n",
              "          document.querySelector('#df-159c4c0d-71ee-4917-912b-47d5d3334a5c button.colab-df-convert');\n",
              "        buttonEl.style.display =\n",
              "          google.colab.kernel.accessAllowed ? 'block' : 'none';\n",
              "\n",
              "        async function convertToInteractive(key) {\n",
              "          const element = document.querySelector('#df-159c4c0d-71ee-4917-912b-47d5d3334a5c');\n",
              "          const dataTable =\n",
              "            await google.colab.kernel.invokeFunction('convertToInteractive',\n",
              "                                                     [key], {});\n",
              "          if (!dataTable) return;\n",
              "\n",
              "          const docLinkHtml = 'Like what you see? Visit the ' +\n",
              "            '<a target=\"_blank\" href=https://colab.research.google.com/notebooks/data_table.ipynb>data table notebook</a>'\n",
              "            + ' to learn more about interactive tables.';\n",
              "          element.innerHTML = '';\n",
              "          dataTable['output_type'] = 'display_data';\n",
              "          await google.colab.output.renderOutput(dataTable, element);\n",
              "          const docLink = document.createElement('div');\n",
              "          docLink.innerHTML = docLinkHtml;\n",
              "          element.appendChild(docLink);\n",
              "        }\n",
              "      </script>\n",
              "    </div>\n",
              "  </div>\n",
              "  "
            ]
          },
          "metadata": {},
          "execution_count": 7
        }
      ]
    },
    {
      "cell_type": "code",
      "source": [
        "dataset.info() #summary of the dataframe"
      ],
      "metadata": {
        "colab": {
          "base_uri": "https://localhost:8080/"
        },
        "id": "UtgNASLzry1-",
        "outputId": "d6215905-acdc-48e5-931e-89eab175df8d"
      },
      "execution_count": 8,
      "outputs": [
        {
          "output_type": "stream",
          "name": "stdout",
          "text": [
            "<class 'pandas.core.frame.DataFrame'>\n",
            "RangeIndex: 1827 entries, 0 to 1826\n",
            "Data columns (total 2 columns):\n",
            " #   Column  Non-Null Count  Dtype  \n",
            "---  ------  --------------  -----  \n",
            " 0   Date    1827 non-null   object \n",
            " 1   Close   1827 non-null   float64\n",
            "dtypes: float64(1), object(1)\n",
            "memory usage: 28.7+ KB\n"
          ]
        }
      ]
    },
    {
      "cell_type": "markdown",
      "source": [
        "#Data Transformation"
      ],
      "metadata": {
        "id": "NC0DxrhFFRZK"
      }
    },
    {
      "cell_type": "markdown",
      "source": [
        "After reading the input file, proceed to edit the data type and rename the column because Prophet is built with two main features:\n",
        "+ ds: has date format, timestamps\n",
        "+ y: represents the quantitative value, representing the measurement that we predict"
      ],
      "metadata": {
        "id": "_E7GKjl5FWX7"
      }
    },
    {
      "cell_type": "code",
      "source": [
        "#Date variable, return datetime format in python\n",
        "dataset.Date = pd.to_datetime(dataset.Date,\n",
        "                                format = \"%Y-%m-%d\")\n",
        "dataset.info()"
      ],
      "metadata": {
        "colab": {
          "base_uri": "https://localhost:8080/"
        },
        "id": "RlPkgEJ2rz2d",
        "outputId": "ff842d5e-0922-467b-f7e4-2d5c119ce2d2"
      },
      "execution_count": 9,
      "outputs": [
        {
          "output_type": "stream",
          "name": "stdout",
          "text": [
            "<class 'pandas.core.frame.DataFrame'>\n",
            "RangeIndex: 1827 entries, 0 to 1826\n",
            "Data columns (total 2 columns):\n",
            " #   Column  Non-Null Count  Dtype         \n",
            "---  ------  --------------  -----         \n",
            " 0   Date    1827 non-null   datetime64[ns]\n",
            " 1   Close   1827 non-null   float64       \n",
            "dtypes: datetime64[ns](1), float64(1)\n",
            "memory usage: 28.7 KB\n"
          ]
        }
      ]
    },
    {
      "cell_type": "code",
      "source": [
        "#renaming variable\n",
        "dataset = dataset.rename(columns = {'Close' : 'y'})\n",
        "dataset = dataset.rename(columns = {'Date' : 'ds'})\n",
        "dataset.head(5)"
      ],
      "metadata": {
        "colab": {
          "base_uri": "https://localhost:8080/",
          "height": 206
        },
        "id": "SJ0VYwbKr03A",
        "outputId": "4b00c11a-5539-47de-fd8c-5a849287c0c3"
      },
      "execution_count": 10,
      "outputs": [
        {
          "output_type": "execute_result",
          "data": {
            "text/plain": [
              "          ds             y\n",
              "0 2017-12-26  16099.799805\n",
              "1 2017-12-27  15838.500000\n",
              "2 2017-12-28  14606.500000\n",
              "3 2017-12-29  14656.200195\n",
              "4 2017-12-30  12952.200195"
            ],
            "text/html": [
              "\n",
              "  <div id=\"df-03dc9a08-3198-4f0b-ae9a-97db38d57098\">\n",
              "    <div class=\"colab-df-container\">\n",
              "      <div>\n",
              "<style scoped>\n",
              "    .dataframe tbody tr th:only-of-type {\n",
              "        vertical-align: middle;\n",
              "    }\n",
              "\n",
              "    .dataframe tbody tr th {\n",
              "        vertical-align: top;\n",
              "    }\n",
              "\n",
              "    .dataframe thead th {\n",
              "        text-align: right;\n",
              "    }\n",
              "</style>\n",
              "<table border=\"1\" class=\"dataframe\">\n",
              "  <thead>\n",
              "    <tr style=\"text-align: right;\">\n",
              "      <th></th>\n",
              "      <th>ds</th>\n",
              "      <th>y</th>\n",
              "    </tr>\n",
              "  </thead>\n",
              "  <tbody>\n",
              "    <tr>\n",
              "      <th>0</th>\n",
              "      <td>2017-12-26</td>\n",
              "      <td>16099.799805</td>\n",
              "    </tr>\n",
              "    <tr>\n",
              "      <th>1</th>\n",
              "      <td>2017-12-27</td>\n",
              "      <td>15838.500000</td>\n",
              "    </tr>\n",
              "    <tr>\n",
              "      <th>2</th>\n",
              "      <td>2017-12-28</td>\n",
              "      <td>14606.500000</td>\n",
              "    </tr>\n",
              "    <tr>\n",
              "      <th>3</th>\n",
              "      <td>2017-12-29</td>\n",
              "      <td>14656.200195</td>\n",
              "    </tr>\n",
              "    <tr>\n",
              "      <th>4</th>\n",
              "      <td>2017-12-30</td>\n",
              "      <td>12952.200195</td>\n",
              "    </tr>\n",
              "  </tbody>\n",
              "</table>\n",
              "</div>\n",
              "      <button class=\"colab-df-convert\" onclick=\"convertToInteractive('df-03dc9a08-3198-4f0b-ae9a-97db38d57098')\"\n",
              "              title=\"Convert this dataframe to an interactive table.\"\n",
              "              style=\"display:none;\">\n",
              "        \n",
              "  <svg xmlns=\"http://www.w3.org/2000/svg\" height=\"24px\"viewBox=\"0 0 24 24\"\n",
              "       width=\"24px\">\n",
              "    <path d=\"M0 0h24v24H0V0z\" fill=\"none\"/>\n",
              "    <path d=\"M18.56 5.44l.94 2.06.94-2.06 2.06-.94-2.06-.94-.94-2.06-.94 2.06-2.06.94zm-11 1L8.5 8.5l.94-2.06 2.06-.94-2.06-.94L8.5 2.5l-.94 2.06-2.06.94zm10 10l.94 2.06.94-2.06 2.06-.94-2.06-.94-.94-2.06-.94 2.06-2.06.94z\"/><path d=\"M17.41 7.96l-1.37-1.37c-.4-.4-.92-.59-1.43-.59-.52 0-1.04.2-1.43.59L10.3 9.45l-7.72 7.72c-.78.78-.78 2.05 0 2.83L4 21.41c.39.39.9.59 1.41.59.51 0 1.02-.2 1.41-.59l7.78-7.78 2.81-2.81c.8-.78.8-2.07 0-2.86zM5.41 20L4 18.59l7.72-7.72 1.47 1.35L5.41 20z\"/>\n",
              "  </svg>\n",
              "      </button>\n",
              "      \n",
              "  <style>\n",
              "    .colab-df-container {\n",
              "      display:flex;\n",
              "      flex-wrap:wrap;\n",
              "      gap: 12px;\n",
              "    }\n",
              "\n",
              "    .colab-df-convert {\n",
              "      background-color: #E8F0FE;\n",
              "      border: none;\n",
              "      border-radius: 50%;\n",
              "      cursor: pointer;\n",
              "      display: none;\n",
              "      fill: #1967D2;\n",
              "      height: 32px;\n",
              "      padding: 0 0 0 0;\n",
              "      width: 32px;\n",
              "    }\n",
              "\n",
              "    .colab-df-convert:hover {\n",
              "      background-color: #E2EBFA;\n",
              "      box-shadow: 0px 1px 2px rgba(60, 64, 67, 0.3), 0px 1px 3px 1px rgba(60, 64, 67, 0.15);\n",
              "      fill: #174EA6;\n",
              "    }\n",
              "\n",
              "    [theme=dark] .colab-df-convert {\n",
              "      background-color: #3B4455;\n",
              "      fill: #D2E3FC;\n",
              "    }\n",
              "\n",
              "    [theme=dark] .colab-df-convert:hover {\n",
              "      background-color: #434B5C;\n",
              "      box-shadow: 0px 1px 3px 1px rgba(0, 0, 0, 0.15);\n",
              "      filter: drop-shadow(0px 1px 2px rgba(0, 0, 0, 0.3));\n",
              "      fill: #FFFFFF;\n",
              "    }\n",
              "  </style>\n",
              "\n",
              "      <script>\n",
              "        const buttonEl =\n",
              "          document.querySelector('#df-03dc9a08-3198-4f0b-ae9a-97db38d57098 button.colab-df-convert');\n",
              "        buttonEl.style.display =\n",
              "          google.colab.kernel.accessAllowed ? 'block' : 'none';\n",
              "\n",
              "        async function convertToInteractive(key) {\n",
              "          const element = document.querySelector('#df-03dc9a08-3198-4f0b-ae9a-97db38d57098');\n",
              "          const dataTable =\n",
              "            await google.colab.kernel.invokeFunction('convertToInteractive',\n",
              "                                                     [key], {});\n",
              "          if (!dataTable) return;\n",
              "\n",
              "          const docLinkHtml = 'Like what you see? Visit the ' +\n",
              "            '<a target=\"_blank\" href=https://colab.research.google.com/notebooks/data_table.ipynb>data table notebook</a>'\n",
              "            + ' to learn more about interactive tables.';\n",
              "          element.innerHTML = '';\n",
              "          dataTable['output_type'] = 'display_data';\n",
              "          await google.colab.output.renderOutput(dataTable, element);\n",
              "          const docLink = document.createElement('div');\n",
              "          docLink.innerHTML = docLinkHtml;\n",
              "          element.appendChild(docLink);\n",
              "        }\n",
              "      </script>\n",
              "    </div>\n",
              "  </div>\n",
              "  "
            ]
          },
          "metadata": {},
          "execution_count": 10
        }
      ]
    },
    {
      "cell_type": "markdown",
      "source": [
        "#Training and Test Set"
      ],
      "metadata": {
        "id": "tffOZMQuFY2F"
      }
    },
    {
      "cell_type": "markdown",
      "source": [
        "Next, the data will be split, then it can be split according to the ratio of 70% train and 30% test or choose a certain length as the test data set length.\n",
        "\n",
        "Here, we use the last 31 lines to test the prediction results and the remaining lines to build the model."
      ],
      "metadata": {
        "id": "1GPDRV06FiUL"
      }
    },
    {
      "cell_type": "code",
      "source": [
        "#Training and test set\n",
        "test_days = int(len(dataset)*0.3) #take 30% length of test data \n",
        "training_set = dataset.iloc[:-test_days, :] #training_set: subset to train the model\n",
        "test_set = dataset.iloc[-test_days:, :] #test_set: subset to test the model\n",
        "test_set.tail(5)"
      ],
      "metadata": {
        "colab": {
          "base_uri": "https://localhost:8080/",
          "height": 206
        },
        "id": "UDMuiFk8FxpK",
        "outputId": "8c9678a6-4a90-4b6d-8ee4-1ab74debdcf1"
      },
      "execution_count": 12,
      "outputs": [
        {
          "output_type": "execute_result",
          "data": {
            "text/plain": [
              "             ds             y\n",
              "1822 2022-12-22  16830.341797\n",
              "1823 2022-12-23  16796.953125\n",
              "1824 2022-12-24  16847.755859\n",
              "1825 2022-12-25  16841.986328\n",
              "1826 2022-12-26  16848.796875"
            ],
            "text/html": [
              "\n",
              "  <div id=\"df-337d1d57-2b0b-4dad-b166-2ed0d4a59f51\">\n",
              "    <div class=\"colab-df-container\">\n",
              "      <div>\n",
              "<style scoped>\n",
              "    .dataframe tbody tr th:only-of-type {\n",
              "        vertical-align: middle;\n",
              "    }\n",
              "\n",
              "    .dataframe tbody tr th {\n",
              "        vertical-align: top;\n",
              "    }\n",
              "\n",
              "    .dataframe thead th {\n",
              "        text-align: right;\n",
              "    }\n",
              "</style>\n",
              "<table border=\"1\" class=\"dataframe\">\n",
              "  <thead>\n",
              "    <tr style=\"text-align: right;\">\n",
              "      <th></th>\n",
              "      <th>ds</th>\n",
              "      <th>y</th>\n",
              "    </tr>\n",
              "  </thead>\n",
              "  <tbody>\n",
              "    <tr>\n",
              "      <th>1822</th>\n",
              "      <td>2022-12-22</td>\n",
              "      <td>16830.341797</td>\n",
              "    </tr>\n",
              "    <tr>\n",
              "      <th>1823</th>\n",
              "      <td>2022-12-23</td>\n",
              "      <td>16796.953125</td>\n",
              "    </tr>\n",
              "    <tr>\n",
              "      <th>1824</th>\n",
              "      <td>2022-12-24</td>\n",
              "      <td>16847.755859</td>\n",
              "    </tr>\n",
              "    <tr>\n",
              "      <th>1825</th>\n",
              "      <td>2022-12-25</td>\n",
              "      <td>16841.986328</td>\n",
              "    </tr>\n",
              "    <tr>\n",
              "      <th>1826</th>\n",
              "      <td>2022-12-26</td>\n",
              "      <td>16848.796875</td>\n",
              "    </tr>\n",
              "  </tbody>\n",
              "</table>\n",
              "</div>\n",
              "      <button class=\"colab-df-convert\" onclick=\"convertToInteractive('df-337d1d57-2b0b-4dad-b166-2ed0d4a59f51')\"\n",
              "              title=\"Convert this dataframe to an interactive table.\"\n",
              "              style=\"display:none;\">\n",
              "        \n",
              "  <svg xmlns=\"http://www.w3.org/2000/svg\" height=\"24px\"viewBox=\"0 0 24 24\"\n",
              "       width=\"24px\">\n",
              "    <path d=\"M0 0h24v24H0V0z\" fill=\"none\"/>\n",
              "    <path d=\"M18.56 5.44l.94 2.06.94-2.06 2.06-.94-2.06-.94-.94-2.06-.94 2.06-2.06.94zm-11 1L8.5 8.5l.94-2.06 2.06-.94-2.06-.94L8.5 2.5l-.94 2.06-2.06.94zm10 10l.94 2.06.94-2.06 2.06-.94-2.06-.94-.94-2.06-.94 2.06-2.06.94z\"/><path d=\"M17.41 7.96l-1.37-1.37c-.4-.4-.92-.59-1.43-.59-.52 0-1.04.2-1.43.59L10.3 9.45l-7.72 7.72c-.78.78-.78 2.05 0 2.83L4 21.41c.39.39.9.59 1.41.59.51 0 1.02-.2 1.41-.59l7.78-7.78 2.81-2.81c.8-.78.8-2.07 0-2.86zM5.41 20L4 18.59l7.72-7.72 1.47 1.35L5.41 20z\"/>\n",
              "  </svg>\n",
              "      </button>\n",
              "      \n",
              "  <style>\n",
              "    .colab-df-container {\n",
              "      display:flex;\n",
              "      flex-wrap:wrap;\n",
              "      gap: 12px;\n",
              "    }\n",
              "\n",
              "    .colab-df-convert {\n",
              "      background-color: #E8F0FE;\n",
              "      border: none;\n",
              "      border-radius: 50%;\n",
              "      cursor: pointer;\n",
              "      display: none;\n",
              "      fill: #1967D2;\n",
              "      height: 32px;\n",
              "      padding: 0 0 0 0;\n",
              "      width: 32px;\n",
              "    }\n",
              "\n",
              "    .colab-df-convert:hover {\n",
              "      background-color: #E2EBFA;\n",
              "      box-shadow: 0px 1px 2px rgba(60, 64, 67, 0.3), 0px 1px 3px 1px rgba(60, 64, 67, 0.15);\n",
              "      fill: #174EA6;\n",
              "    }\n",
              "\n",
              "    [theme=dark] .colab-df-convert {\n",
              "      background-color: #3B4455;\n",
              "      fill: #D2E3FC;\n",
              "    }\n",
              "\n",
              "    [theme=dark] .colab-df-convert:hover {\n",
              "      background-color: #434B5C;\n",
              "      box-shadow: 0px 1px 3px 1px rgba(0, 0, 0, 0.15);\n",
              "      filter: drop-shadow(0px 1px 2px rgba(0, 0, 0, 0.3));\n",
              "      fill: #FFFFFF;\n",
              "    }\n",
              "  </style>\n",
              "\n",
              "      <script>\n",
              "        const buttonEl =\n",
              "          document.querySelector('#df-337d1d57-2b0b-4dad-b166-2ed0d4a59f51 button.colab-df-convert');\n",
              "        buttonEl.style.display =\n",
              "          google.colab.kernel.accessAllowed ? 'block' : 'none';\n",
              "\n",
              "        async function convertToInteractive(key) {\n",
              "          const element = document.querySelector('#df-337d1d57-2b0b-4dad-b166-2ed0d4a59f51');\n",
              "          const dataTable =\n",
              "            await google.colab.kernel.invokeFunction('convertToInteractive',\n",
              "                                                     [key], {});\n",
              "          if (!dataTable) return;\n",
              "\n",
              "          const docLinkHtml = 'Like what you see? Visit the ' +\n",
              "            '<a target=\"_blank\" href=https://colab.research.google.com/notebooks/data_table.ipynb>data table notebook</a>'\n",
              "            + ' to learn more about interactive tables.';\n",
              "          element.innerHTML = '';\n",
              "          dataTable['output_type'] = 'display_data';\n",
              "          await google.colab.output.renderOutput(dataTable, element);\n",
              "          const docLink = document.createElement('div');\n",
              "          docLink.innerHTML = docLinkHtml;\n",
              "          element.appendChild(docLink);\n",
              "        }\n",
              "      </script>\n",
              "    </div>\n",
              "  </div>\n",
              "  "
            ]
          },
          "metadata": {},
          "execution_count": 12
        }
      ]
    },
    {
      "cell_type": "code",
      "source": [
        "len(training_set)"
      ],
      "metadata": {
        "colab": {
          "base_uri": "https://localhost:8080/"
        },
        "id": "m_3Onxbb9Uat",
        "outputId": "b8009728-c797-4cd1-d44a-8a6a86ec9e0c"
      },
      "execution_count": 13,
      "outputs": [
        {
          "output_type": "execute_result",
          "data": {
            "text/plain": [
              "1279"
            ]
          },
          "metadata": {},
          "execution_count": 13
        }
      ]
    },
    {
      "cell_type": "code",
      "source": [
        "len(test_set)"
      ],
      "metadata": {
        "colab": {
          "base_uri": "https://localhost:8080/"
        },
        "id": "hRKoCsKa9XNk",
        "outputId": "dfd739d6-769b-4bc7-f7c0-f90fc8cd4921"
      },
      "execution_count": 14,
      "outputs": [
        {
          "output_type": "execute_result",
          "data": {
            "text/plain": [
              "548"
            ]
          },
          "metadata": {},
          "execution_count": 14
        }
      ]
    },
    {
      "cell_type": "markdown",
      "source": [
        "First, build the Prophet model.\n",
        "\n",
        "In this model there are many parameters such as:\n",
        "\n",
        "*   growth: trend of the pattern\n",
        "\n",
        "*   changepoint_num: maximum number of trend change points\n",
        "\n",
        "*   changepoint_range: range affects the distance between change points to the time series. \n",
        "\n",
        "**Note:** The larger the value, the more flexible the trend is.\n",
        "\n",
        "*   Seasonality by year, week, and day: seasonality_yearly, seasonality_weekly, seasonality_daily.\n",
        "\n",
        "*   seasonality_mode: seasonality.\n",
        "\n",
        "*   changepoint_prior_scale: adjust the strength of the trend. The default \n",
        "\n",
        "*   changepoint_prior_scale is 0.05. When changepoint_prior_scale goes down, the trend is less active and conversely, when changepoint_prior_scale is increased, the trend is more flexible.\n",
        "\n"
      ],
      "metadata": {
        "id": "ksyqWazzFrih"
      }
    },
    {
      "cell_type": "code",
      "source": [
        "#Facebook Prophet model\n",
        "m = Prophet(growth = \"linear\",\n",
        "            yearly_seasonality = True, #True or False if there is or there isn’t yearly seasonality.\n",
        "            weekly_seasonality = True, #True or False if there is or there isn’t weekly seasonality. \n",
        "            daily_seasonality = False, #True or False if there is or there isn’t daily seasonality. \n",
        "            seasonality_mode = \"multiplicative\", #the effect of the seasonality is added to the trend to get the forecast.\n",
        "            seasonality_prior_scale = 10, #strength of the seasonality component or components. This value can be general for all the seasonalities or adjusted specifically for each of them.\n",
        "            holidays_prior_scale = 10, #strength of the holiday component.\n",
        "            changepoint_prior_scale = 0.05) #the strength or possibility of trend change. The bigger the value, the higher the flexibility of the trend.\n",
        "m.fit(training_set)"
      ],
      "metadata": {
        "colab": {
          "base_uri": "https://localhost:8080/"
        },
        "id": "BYrtBVrer8dW",
        "outputId": "2f383ffb-1d0e-4015-f0df-2b485055babc"
      },
      "execution_count": 15,
      "outputs": [
        {
          "output_type": "execute_result",
          "data": {
            "text/plain": [
              "<fbprophet.forecaster.Prophet at 0x7f366d169e20>"
            ]
          },
          "metadata": {},
          "execution_count": 15
        }
      ]
    },
    {
      "cell_type": "markdown",
      "source": [
        "#forecasting "
      ],
      "metadata": {
        "id": "Y7ISYpZnF1ZU"
      }
    },
    {
      "cell_type": "markdown",
      "source": [
        "Because Prophet predicts values based on time series, it is necessary to create a dataframe containing the dates to be predicted in the future.\n",
        "Here, there are two ways:\n",
        "\n",
        "*   Use an existing test_set\n",
        "\n",
        "*   In the absence of test_set, use the make_future_dataframe function.\n",
        "\n",
        "Including some parameters:\n",
        "\n",
        "*   m: model Prophet\n",
        "\n",
        "*   periods: predicted period\n",
        "\n",
        "*   freq: 'day', 'week', 'month', 'quarter', 'year', 1(1 sec), 60(1 minute) or 3600(1 hour).\n",
        "\n",
        "*   include_history : Boolean data type, check dataset containing dataframe about historical dates\n",
        "\n",
        "Through the make_futuer_dataframe function, Prophet helps generate the next days for prediction. In this code, we predict the next 31 days. And one important thing is that we need to determine the frequency of data we want. Suppose, for daily data <strong>fred='D'</strong> or monthly data <strong>fred='MS'</strong>. However, by default, Prophet provides prediction data by date.\n",
        "\n",
        "\n"
      ],
      "metadata": {
        "id": "JQa1q496F2pc"
      }
    },
    {
      "cell_type": "code",
      "source": [
        "future = m.make_future_dataframe(periods = len(test_set),\n",
        "                                 freq = \"D\")\n",
        "future.tail(5)"
      ],
      "metadata": {
        "colab": {
          "base_uri": "https://localhost:8080/",
          "height": 206
        },
        "id": "77N4hb5Gr9pN",
        "outputId": "dba0cf76-646c-402a-9c70-120712b4f014"
      },
      "execution_count": 16,
      "outputs": [
        {
          "output_type": "execute_result",
          "data": {
            "text/plain": [
              "             ds\n",
              "1822 2022-12-22\n",
              "1823 2022-12-23\n",
              "1824 2022-12-24\n",
              "1825 2022-12-25\n",
              "1826 2022-12-26"
            ],
            "text/html": [
              "\n",
              "  <div id=\"df-759ce18a-9d3a-48b3-b840-f365b2a7b388\">\n",
              "    <div class=\"colab-df-container\">\n",
              "      <div>\n",
              "<style scoped>\n",
              "    .dataframe tbody tr th:only-of-type {\n",
              "        vertical-align: middle;\n",
              "    }\n",
              "\n",
              "    .dataframe tbody tr th {\n",
              "        vertical-align: top;\n",
              "    }\n",
              "\n",
              "    .dataframe thead th {\n",
              "        text-align: right;\n",
              "    }\n",
              "</style>\n",
              "<table border=\"1\" class=\"dataframe\">\n",
              "  <thead>\n",
              "    <tr style=\"text-align: right;\">\n",
              "      <th></th>\n",
              "      <th>ds</th>\n",
              "    </tr>\n",
              "  </thead>\n",
              "  <tbody>\n",
              "    <tr>\n",
              "      <th>1822</th>\n",
              "      <td>2022-12-22</td>\n",
              "    </tr>\n",
              "    <tr>\n",
              "      <th>1823</th>\n",
              "      <td>2022-12-23</td>\n",
              "    </tr>\n",
              "    <tr>\n",
              "      <th>1824</th>\n",
              "      <td>2022-12-24</td>\n",
              "    </tr>\n",
              "    <tr>\n",
              "      <th>1825</th>\n",
              "      <td>2022-12-25</td>\n",
              "    </tr>\n",
              "    <tr>\n",
              "      <th>1826</th>\n",
              "      <td>2022-12-26</td>\n",
              "    </tr>\n",
              "  </tbody>\n",
              "</table>\n",
              "</div>\n",
              "      <button class=\"colab-df-convert\" onclick=\"convertToInteractive('df-759ce18a-9d3a-48b3-b840-f365b2a7b388')\"\n",
              "              title=\"Convert this dataframe to an interactive table.\"\n",
              "              style=\"display:none;\">\n",
              "        \n",
              "  <svg xmlns=\"http://www.w3.org/2000/svg\" height=\"24px\"viewBox=\"0 0 24 24\"\n",
              "       width=\"24px\">\n",
              "    <path d=\"M0 0h24v24H0V0z\" fill=\"none\"/>\n",
              "    <path d=\"M18.56 5.44l.94 2.06.94-2.06 2.06-.94-2.06-.94-.94-2.06-.94 2.06-2.06.94zm-11 1L8.5 8.5l.94-2.06 2.06-.94-2.06-.94L8.5 2.5l-.94 2.06-2.06.94zm10 10l.94 2.06.94-2.06 2.06-.94-2.06-.94-.94-2.06-.94 2.06-2.06.94z\"/><path d=\"M17.41 7.96l-1.37-1.37c-.4-.4-.92-.59-1.43-.59-.52 0-1.04.2-1.43.59L10.3 9.45l-7.72 7.72c-.78.78-.78 2.05 0 2.83L4 21.41c.39.39.9.59 1.41.59.51 0 1.02-.2 1.41-.59l7.78-7.78 2.81-2.81c.8-.78.8-2.07 0-2.86zM5.41 20L4 18.59l7.72-7.72 1.47 1.35L5.41 20z\"/>\n",
              "  </svg>\n",
              "      </button>\n",
              "      \n",
              "  <style>\n",
              "    .colab-df-container {\n",
              "      display:flex;\n",
              "      flex-wrap:wrap;\n",
              "      gap: 12px;\n",
              "    }\n",
              "\n",
              "    .colab-df-convert {\n",
              "      background-color: #E8F0FE;\n",
              "      border: none;\n",
              "      border-radius: 50%;\n",
              "      cursor: pointer;\n",
              "      display: none;\n",
              "      fill: #1967D2;\n",
              "      height: 32px;\n",
              "      padding: 0 0 0 0;\n",
              "      width: 32px;\n",
              "    }\n",
              "\n",
              "    .colab-df-convert:hover {\n",
              "      background-color: #E2EBFA;\n",
              "      box-shadow: 0px 1px 2px rgba(60, 64, 67, 0.3), 0px 1px 3px 1px rgba(60, 64, 67, 0.15);\n",
              "      fill: #174EA6;\n",
              "    }\n",
              "\n",
              "    [theme=dark] .colab-df-convert {\n",
              "      background-color: #3B4455;\n",
              "      fill: #D2E3FC;\n",
              "    }\n",
              "\n",
              "    [theme=dark] .colab-df-convert:hover {\n",
              "      background-color: #434B5C;\n",
              "      box-shadow: 0px 1px 3px 1px rgba(0, 0, 0, 0.15);\n",
              "      filter: drop-shadow(0px 1px 2px rgba(0, 0, 0, 0.3));\n",
              "      fill: #FFFFFF;\n",
              "    }\n",
              "  </style>\n",
              "\n",
              "      <script>\n",
              "        const buttonEl =\n",
              "          document.querySelector('#df-759ce18a-9d3a-48b3-b840-f365b2a7b388 button.colab-df-convert');\n",
              "        buttonEl.style.display =\n",
              "          google.colab.kernel.accessAllowed ? 'block' : 'none';\n",
              "\n",
              "        async function convertToInteractive(key) {\n",
              "          const element = document.querySelector('#df-759ce18a-9d3a-48b3-b840-f365b2a7b388');\n",
              "          const dataTable =\n",
              "            await google.colab.kernel.invokeFunction('convertToInteractive',\n",
              "                                                     [key], {});\n",
              "          if (!dataTable) return;\n",
              "\n",
              "          const docLinkHtml = 'Like what you see? Visit the ' +\n",
              "            '<a target=\"_blank\" href=https://colab.research.google.com/notebooks/data_table.ipynb>data table notebook</a>'\n",
              "            + ' to learn more about interactive tables.';\n",
              "          element.innerHTML = '';\n",
              "          dataTable['output_type'] = 'display_data';\n",
              "          await google.colab.output.renderOutput(dataTable, element);\n",
              "          const docLink = document.createElement('div');\n",
              "          docLink.innerHTML = docLinkHtml;\n",
              "          element.appendChild(docLink);\n",
              "        }\n",
              "      </script>\n",
              "    </div>\n",
              "  </div>\n",
              "  "
            ]
          },
          "metadata": {},
          "execution_count": 16
        }
      ]
    },
    {
      "cell_type": "markdown",
      "source": [
        "Match the newly created column ds with the actual value in the test dataset."
      ],
      "metadata": {
        "id": "rSmgqbQZF50F"
      }
    },
    {
      "cell_type": "code",
      "source": [
        "#merge regressors\n",
        "future = pd.concat([future, dataset.iloc[:,1:]], #concat: used to concatenate pandas objects along a particular axis with optional set logic along the other axes. \n",
        "                   axis = 1)\n",
        "future"
      ],
      "metadata": {
        "colab": {
          "base_uri": "https://localhost:8080/",
          "height": 424
        },
        "id": "ekmXN3NWr_Gl",
        "outputId": "a7207aa4-011c-43f4-dcdc-0a009ab18ff9"
      },
      "execution_count": 17,
      "outputs": [
        {
          "output_type": "execute_result",
          "data": {
            "text/plain": [
              "             ds             y\n",
              "0    2017-12-26  16099.799805\n",
              "1    2017-12-27  15838.500000\n",
              "2    2017-12-28  14606.500000\n",
              "3    2017-12-29  14656.200195\n",
              "4    2017-12-30  12952.200195\n",
              "...         ...           ...\n",
              "1822 2022-12-22  16830.341797\n",
              "1823 2022-12-23  16796.953125\n",
              "1824 2022-12-24  16847.755859\n",
              "1825 2022-12-25  16841.986328\n",
              "1826 2022-12-26  16848.796875\n",
              "\n",
              "[1827 rows x 2 columns]"
            ],
            "text/html": [
              "\n",
              "  <div id=\"df-3a941943-598f-479f-8570-75f4d0538ab7\">\n",
              "    <div class=\"colab-df-container\">\n",
              "      <div>\n",
              "<style scoped>\n",
              "    .dataframe tbody tr th:only-of-type {\n",
              "        vertical-align: middle;\n",
              "    }\n",
              "\n",
              "    .dataframe tbody tr th {\n",
              "        vertical-align: top;\n",
              "    }\n",
              "\n",
              "    .dataframe thead th {\n",
              "        text-align: right;\n",
              "    }\n",
              "</style>\n",
              "<table border=\"1\" class=\"dataframe\">\n",
              "  <thead>\n",
              "    <tr style=\"text-align: right;\">\n",
              "      <th></th>\n",
              "      <th>ds</th>\n",
              "      <th>y</th>\n",
              "    </tr>\n",
              "  </thead>\n",
              "  <tbody>\n",
              "    <tr>\n",
              "      <th>0</th>\n",
              "      <td>2017-12-26</td>\n",
              "      <td>16099.799805</td>\n",
              "    </tr>\n",
              "    <tr>\n",
              "      <th>1</th>\n",
              "      <td>2017-12-27</td>\n",
              "      <td>15838.500000</td>\n",
              "    </tr>\n",
              "    <tr>\n",
              "      <th>2</th>\n",
              "      <td>2017-12-28</td>\n",
              "      <td>14606.500000</td>\n",
              "    </tr>\n",
              "    <tr>\n",
              "      <th>3</th>\n",
              "      <td>2017-12-29</td>\n",
              "      <td>14656.200195</td>\n",
              "    </tr>\n",
              "    <tr>\n",
              "      <th>4</th>\n",
              "      <td>2017-12-30</td>\n",
              "      <td>12952.200195</td>\n",
              "    </tr>\n",
              "    <tr>\n",
              "      <th>...</th>\n",
              "      <td>...</td>\n",
              "      <td>...</td>\n",
              "    </tr>\n",
              "    <tr>\n",
              "      <th>1822</th>\n",
              "      <td>2022-12-22</td>\n",
              "      <td>16830.341797</td>\n",
              "    </tr>\n",
              "    <tr>\n",
              "      <th>1823</th>\n",
              "      <td>2022-12-23</td>\n",
              "      <td>16796.953125</td>\n",
              "    </tr>\n",
              "    <tr>\n",
              "      <th>1824</th>\n",
              "      <td>2022-12-24</td>\n",
              "      <td>16847.755859</td>\n",
              "    </tr>\n",
              "    <tr>\n",
              "      <th>1825</th>\n",
              "      <td>2022-12-25</td>\n",
              "      <td>16841.986328</td>\n",
              "    </tr>\n",
              "    <tr>\n",
              "      <th>1826</th>\n",
              "      <td>2022-12-26</td>\n",
              "      <td>16848.796875</td>\n",
              "    </tr>\n",
              "  </tbody>\n",
              "</table>\n",
              "<p>1827 rows × 2 columns</p>\n",
              "</div>\n",
              "      <button class=\"colab-df-convert\" onclick=\"convertToInteractive('df-3a941943-598f-479f-8570-75f4d0538ab7')\"\n",
              "              title=\"Convert this dataframe to an interactive table.\"\n",
              "              style=\"display:none;\">\n",
              "        \n",
              "  <svg xmlns=\"http://www.w3.org/2000/svg\" height=\"24px\"viewBox=\"0 0 24 24\"\n",
              "       width=\"24px\">\n",
              "    <path d=\"M0 0h24v24H0V0z\" fill=\"none\"/>\n",
              "    <path d=\"M18.56 5.44l.94 2.06.94-2.06 2.06-.94-2.06-.94-.94-2.06-.94 2.06-2.06.94zm-11 1L8.5 8.5l.94-2.06 2.06-.94-2.06-.94L8.5 2.5l-.94 2.06-2.06.94zm10 10l.94 2.06.94-2.06 2.06-.94-2.06-.94-.94-2.06-.94 2.06-2.06.94z\"/><path d=\"M17.41 7.96l-1.37-1.37c-.4-.4-.92-.59-1.43-.59-.52 0-1.04.2-1.43.59L10.3 9.45l-7.72 7.72c-.78.78-.78 2.05 0 2.83L4 21.41c.39.39.9.59 1.41.59.51 0 1.02-.2 1.41-.59l7.78-7.78 2.81-2.81c.8-.78.8-2.07 0-2.86zM5.41 20L4 18.59l7.72-7.72 1.47 1.35L5.41 20z\"/>\n",
              "  </svg>\n",
              "      </button>\n",
              "      \n",
              "  <style>\n",
              "    .colab-df-container {\n",
              "      display:flex;\n",
              "      flex-wrap:wrap;\n",
              "      gap: 12px;\n",
              "    }\n",
              "\n",
              "    .colab-df-convert {\n",
              "      background-color: #E8F0FE;\n",
              "      border: none;\n",
              "      border-radius: 50%;\n",
              "      cursor: pointer;\n",
              "      display: none;\n",
              "      fill: #1967D2;\n",
              "      height: 32px;\n",
              "      padding: 0 0 0 0;\n",
              "      width: 32px;\n",
              "    }\n",
              "\n",
              "    .colab-df-convert:hover {\n",
              "      background-color: #E2EBFA;\n",
              "      box-shadow: 0px 1px 2px rgba(60, 64, 67, 0.3), 0px 1px 3px 1px rgba(60, 64, 67, 0.15);\n",
              "      fill: #174EA6;\n",
              "    }\n",
              "\n",
              "    [theme=dark] .colab-df-convert {\n",
              "      background-color: #3B4455;\n",
              "      fill: #D2E3FC;\n",
              "    }\n",
              "\n",
              "    [theme=dark] .colab-df-convert:hover {\n",
              "      background-color: #434B5C;\n",
              "      box-shadow: 0px 1px 3px 1px rgba(0, 0, 0, 0.15);\n",
              "      filter: drop-shadow(0px 1px 2px rgba(0, 0, 0, 0.3));\n",
              "      fill: #FFFFFF;\n",
              "    }\n",
              "  </style>\n",
              "\n",
              "      <script>\n",
              "        const buttonEl =\n",
              "          document.querySelector('#df-3a941943-598f-479f-8570-75f4d0538ab7 button.colab-df-convert');\n",
              "        buttonEl.style.display =\n",
              "          google.colab.kernel.accessAllowed ? 'block' : 'none';\n",
              "\n",
              "        async function convertToInteractive(key) {\n",
              "          const element = document.querySelector('#df-3a941943-598f-479f-8570-75f4d0538ab7');\n",
              "          const dataTable =\n",
              "            await google.colab.kernel.invokeFunction('convertToInteractive',\n",
              "                                                     [key], {});\n",
              "          if (!dataTable) return;\n",
              "\n",
              "          const docLinkHtml = 'Like what you see? Visit the ' +\n",
              "            '<a target=\"_blank\" href=https://colab.research.google.com/notebooks/data_table.ipynb>data table notebook</a>'\n",
              "            + ' to learn more about interactive tables.';\n",
              "          element.innerHTML = '';\n",
              "          dataTable['output_type'] = 'display_data';\n",
              "          await google.colab.output.renderOutput(dataTable, element);\n",
              "          const docLink = document.createElement('div');\n",
              "          docLink.innerHTML = docLinkHtml;\n",
              "          element.appendChild(docLink);\n",
              "        }\n",
              "      </script>\n",
              "    </div>\n",
              "  </div>\n",
              "  "
            ]
          },
          "metadata": {},
          "execution_count": 17
        }
      ]
    },
    {
      "cell_type": "markdown",
      "source": [
        "Make predictions for that set of values.\n",
        "\n",
        "Prophet returns a new Dataframe with more diverse attribute columns. However, we need to consider three main properties in this prediction process:\n",
        "\n",
        "* y_hat: forecast value over time\n",
        "* y_hat_lower: lower limit of forecast value <strong>y_hat</strong>\n",
        "* y_hat_upper: upper limit of forecast value <strong>y_hat</strong>"
      ],
      "metadata": {
        "id": "KxWXIzS3F8DC"
      }
    },
    {
      "cell_type": "code",
      "source": [
        "#forecast\n",
        "forecast = m.predict(future)\n",
        "forecast.tail()"
      ],
      "metadata": {
        "colab": {
          "base_uri": "https://localhost:8080/",
          "height": 357
        },
        "id": "kD_rb0_bsAWe",
        "outputId": "160c870d-40dd-4678-d280-6519085b8f8e"
      },
      "execution_count": 18,
      "outputs": [
        {
          "output_type": "execute_result",
          "data": {
            "text/plain": [
              "             ds         trend    yhat_lower     yhat_upper   trend_lower  \\\n",
              "1822 2022-12-22  91029.795010  32128.747395  119571.702676  37463.045133   \n",
              "1823 2022-12-23  91117.614558  33184.950990  122563.471420  37390.589728   \n",
              "1824 2022-12-24  91205.434105  33985.597401  127282.818825  37333.909143   \n",
              "1825 2022-12-25  91293.253653  34596.532382  130940.430384  37278.068635   \n",
              "1826 2022-12-26  91381.073200  35594.856901  135066.959644  37165.583291   \n",
              "\n",
              "        trend_upper  multiplicative_terms  multiplicative_terms_lower  \\\n",
              "1822  139631.774531             -0.144769                   -0.144769   \n",
              "1823  139856.154646             -0.120671                   -0.120671   \n",
              "1824  140080.499382             -0.094786                   -0.094786   \n",
              "1825  140304.844119             -0.069709                   -0.069709   \n",
              "1826  140529.188855             -0.039302                   -0.039302   \n",
              "\n",
              "      multiplicative_terms_upper    weekly  weekly_lower  weekly_upper  \\\n",
              "1822                   -0.144769  0.001583      0.001583      0.001583   \n",
              "1823                   -0.120671  0.000706      0.000706      0.000706   \n",
              "1824                   -0.094786  0.000101      0.000101      0.000101   \n",
              "1825                   -0.069709 -0.002539     -0.002539     -0.002539   \n",
              "1826                   -0.039302 -0.000755     -0.000755     -0.000755   \n",
              "\n",
              "        yearly  yearly_lower  yearly_upper  additive_terms  \\\n",
              "1822 -0.146352     -0.146352     -0.146352             0.0   \n",
              "1823 -0.121377     -0.121377     -0.121377             0.0   \n",
              "1824 -0.094888     -0.094888     -0.094888             0.0   \n",
              "1825 -0.067170     -0.067170     -0.067170             0.0   \n",
              "1826 -0.038546     -0.038546     -0.038546             0.0   \n",
              "\n",
              "      additive_terms_lower  additive_terms_upper          yhat  \n",
              "1822                   0.0                   0.0  77851.462408  \n",
              "1823                   0.0                   0.0  80122.352432  \n",
              "1824                   0.0                   0.0  82560.391507  \n",
              "1825                   0.0                   0.0  84929.321633  \n",
              "1826                   0.0                   0.0  87789.655919  "
            ],
            "text/html": [
              "\n",
              "  <div id=\"df-153497fa-7034-4868-a47d-21ad6b5326da\">\n",
              "    <div class=\"colab-df-container\">\n",
              "      <div>\n",
              "<style scoped>\n",
              "    .dataframe tbody tr th:only-of-type {\n",
              "        vertical-align: middle;\n",
              "    }\n",
              "\n",
              "    .dataframe tbody tr th {\n",
              "        vertical-align: top;\n",
              "    }\n",
              "\n",
              "    .dataframe thead th {\n",
              "        text-align: right;\n",
              "    }\n",
              "</style>\n",
              "<table border=\"1\" class=\"dataframe\">\n",
              "  <thead>\n",
              "    <tr style=\"text-align: right;\">\n",
              "      <th></th>\n",
              "      <th>ds</th>\n",
              "      <th>trend</th>\n",
              "      <th>yhat_lower</th>\n",
              "      <th>yhat_upper</th>\n",
              "      <th>trend_lower</th>\n",
              "      <th>trend_upper</th>\n",
              "      <th>multiplicative_terms</th>\n",
              "      <th>multiplicative_terms_lower</th>\n",
              "      <th>multiplicative_terms_upper</th>\n",
              "      <th>weekly</th>\n",
              "      <th>weekly_lower</th>\n",
              "      <th>weekly_upper</th>\n",
              "      <th>yearly</th>\n",
              "      <th>yearly_lower</th>\n",
              "      <th>yearly_upper</th>\n",
              "      <th>additive_terms</th>\n",
              "      <th>additive_terms_lower</th>\n",
              "      <th>additive_terms_upper</th>\n",
              "      <th>yhat</th>\n",
              "    </tr>\n",
              "  </thead>\n",
              "  <tbody>\n",
              "    <tr>\n",
              "      <th>1822</th>\n",
              "      <td>2022-12-22</td>\n",
              "      <td>91029.795010</td>\n",
              "      <td>32128.747395</td>\n",
              "      <td>119571.702676</td>\n",
              "      <td>37463.045133</td>\n",
              "      <td>139631.774531</td>\n",
              "      <td>-0.144769</td>\n",
              "      <td>-0.144769</td>\n",
              "      <td>-0.144769</td>\n",
              "      <td>0.001583</td>\n",
              "      <td>0.001583</td>\n",
              "      <td>0.001583</td>\n",
              "      <td>-0.146352</td>\n",
              "      <td>-0.146352</td>\n",
              "      <td>-0.146352</td>\n",
              "      <td>0.0</td>\n",
              "      <td>0.0</td>\n",
              "      <td>0.0</td>\n",
              "      <td>77851.462408</td>\n",
              "    </tr>\n",
              "    <tr>\n",
              "      <th>1823</th>\n",
              "      <td>2022-12-23</td>\n",
              "      <td>91117.614558</td>\n",
              "      <td>33184.950990</td>\n",
              "      <td>122563.471420</td>\n",
              "      <td>37390.589728</td>\n",
              "      <td>139856.154646</td>\n",
              "      <td>-0.120671</td>\n",
              "      <td>-0.120671</td>\n",
              "      <td>-0.120671</td>\n",
              "      <td>0.000706</td>\n",
              "      <td>0.000706</td>\n",
              "      <td>0.000706</td>\n",
              "      <td>-0.121377</td>\n",
              "      <td>-0.121377</td>\n",
              "      <td>-0.121377</td>\n",
              "      <td>0.0</td>\n",
              "      <td>0.0</td>\n",
              "      <td>0.0</td>\n",
              "      <td>80122.352432</td>\n",
              "    </tr>\n",
              "    <tr>\n",
              "      <th>1824</th>\n",
              "      <td>2022-12-24</td>\n",
              "      <td>91205.434105</td>\n",
              "      <td>33985.597401</td>\n",
              "      <td>127282.818825</td>\n",
              "      <td>37333.909143</td>\n",
              "      <td>140080.499382</td>\n",
              "      <td>-0.094786</td>\n",
              "      <td>-0.094786</td>\n",
              "      <td>-0.094786</td>\n",
              "      <td>0.000101</td>\n",
              "      <td>0.000101</td>\n",
              "      <td>0.000101</td>\n",
              "      <td>-0.094888</td>\n",
              "      <td>-0.094888</td>\n",
              "      <td>-0.094888</td>\n",
              "      <td>0.0</td>\n",
              "      <td>0.0</td>\n",
              "      <td>0.0</td>\n",
              "      <td>82560.391507</td>\n",
              "    </tr>\n",
              "    <tr>\n",
              "      <th>1825</th>\n",
              "      <td>2022-12-25</td>\n",
              "      <td>91293.253653</td>\n",
              "      <td>34596.532382</td>\n",
              "      <td>130940.430384</td>\n",
              "      <td>37278.068635</td>\n",
              "      <td>140304.844119</td>\n",
              "      <td>-0.069709</td>\n",
              "      <td>-0.069709</td>\n",
              "      <td>-0.069709</td>\n",
              "      <td>-0.002539</td>\n",
              "      <td>-0.002539</td>\n",
              "      <td>-0.002539</td>\n",
              "      <td>-0.067170</td>\n",
              "      <td>-0.067170</td>\n",
              "      <td>-0.067170</td>\n",
              "      <td>0.0</td>\n",
              "      <td>0.0</td>\n",
              "      <td>0.0</td>\n",
              "      <td>84929.321633</td>\n",
              "    </tr>\n",
              "    <tr>\n",
              "      <th>1826</th>\n",
              "      <td>2022-12-26</td>\n",
              "      <td>91381.073200</td>\n",
              "      <td>35594.856901</td>\n",
              "      <td>135066.959644</td>\n",
              "      <td>37165.583291</td>\n",
              "      <td>140529.188855</td>\n",
              "      <td>-0.039302</td>\n",
              "      <td>-0.039302</td>\n",
              "      <td>-0.039302</td>\n",
              "      <td>-0.000755</td>\n",
              "      <td>-0.000755</td>\n",
              "      <td>-0.000755</td>\n",
              "      <td>-0.038546</td>\n",
              "      <td>-0.038546</td>\n",
              "      <td>-0.038546</td>\n",
              "      <td>0.0</td>\n",
              "      <td>0.0</td>\n",
              "      <td>0.0</td>\n",
              "      <td>87789.655919</td>\n",
              "    </tr>\n",
              "  </tbody>\n",
              "</table>\n",
              "</div>\n",
              "      <button class=\"colab-df-convert\" onclick=\"convertToInteractive('df-153497fa-7034-4868-a47d-21ad6b5326da')\"\n",
              "              title=\"Convert this dataframe to an interactive table.\"\n",
              "              style=\"display:none;\">\n",
              "        \n",
              "  <svg xmlns=\"http://www.w3.org/2000/svg\" height=\"24px\"viewBox=\"0 0 24 24\"\n",
              "       width=\"24px\">\n",
              "    <path d=\"M0 0h24v24H0V0z\" fill=\"none\"/>\n",
              "    <path d=\"M18.56 5.44l.94 2.06.94-2.06 2.06-.94-2.06-.94-.94-2.06-.94 2.06-2.06.94zm-11 1L8.5 8.5l.94-2.06 2.06-.94-2.06-.94L8.5 2.5l-.94 2.06-2.06.94zm10 10l.94 2.06.94-2.06 2.06-.94-2.06-.94-.94-2.06-.94 2.06-2.06.94z\"/><path d=\"M17.41 7.96l-1.37-1.37c-.4-.4-.92-.59-1.43-.59-.52 0-1.04.2-1.43.59L10.3 9.45l-7.72 7.72c-.78.78-.78 2.05 0 2.83L4 21.41c.39.39.9.59 1.41.59.51 0 1.02-.2 1.41-.59l7.78-7.78 2.81-2.81c.8-.78.8-2.07 0-2.86zM5.41 20L4 18.59l7.72-7.72 1.47 1.35L5.41 20z\"/>\n",
              "  </svg>\n",
              "      </button>\n",
              "      \n",
              "  <style>\n",
              "    .colab-df-container {\n",
              "      display:flex;\n",
              "      flex-wrap:wrap;\n",
              "      gap: 12px;\n",
              "    }\n",
              "\n",
              "    .colab-df-convert {\n",
              "      background-color: #E8F0FE;\n",
              "      border: none;\n",
              "      border-radius: 50%;\n",
              "      cursor: pointer;\n",
              "      display: none;\n",
              "      fill: #1967D2;\n",
              "      height: 32px;\n",
              "      padding: 0 0 0 0;\n",
              "      width: 32px;\n",
              "    }\n",
              "\n",
              "    .colab-df-convert:hover {\n",
              "      background-color: #E2EBFA;\n",
              "      box-shadow: 0px 1px 2px rgba(60, 64, 67, 0.3), 0px 1px 3px 1px rgba(60, 64, 67, 0.15);\n",
              "      fill: #174EA6;\n",
              "    }\n",
              "\n",
              "    [theme=dark] .colab-df-convert {\n",
              "      background-color: #3B4455;\n",
              "      fill: #D2E3FC;\n",
              "    }\n",
              "\n",
              "    [theme=dark] .colab-df-convert:hover {\n",
              "      background-color: #434B5C;\n",
              "      box-shadow: 0px 1px 3px 1px rgba(0, 0, 0, 0.15);\n",
              "      filter: drop-shadow(0px 1px 2px rgba(0, 0, 0, 0.3));\n",
              "      fill: #FFFFFF;\n",
              "    }\n",
              "  </style>\n",
              "\n",
              "      <script>\n",
              "        const buttonEl =\n",
              "          document.querySelector('#df-153497fa-7034-4868-a47d-21ad6b5326da button.colab-df-convert');\n",
              "        buttonEl.style.display =\n",
              "          google.colab.kernel.accessAllowed ? 'block' : 'none';\n",
              "\n",
              "        async function convertToInteractive(key) {\n",
              "          const element = document.querySelector('#df-153497fa-7034-4868-a47d-21ad6b5326da');\n",
              "          const dataTable =\n",
              "            await google.colab.kernel.invokeFunction('convertToInteractive',\n",
              "                                                     [key], {});\n",
              "          if (!dataTable) return;\n",
              "\n",
              "          const docLinkHtml = 'Like what you see? Visit the ' +\n",
              "            '<a target=\"_blank\" href=https://colab.research.google.com/notebooks/data_table.ipynb>data table notebook</a>'\n",
              "            + ' to learn more about interactive tables.';\n",
              "          element.innerHTML = '';\n",
              "          dataTable['output_type'] = 'display_data';\n",
              "          await google.colab.output.renderOutput(dataTable, element);\n",
              "          const docLink = document.createElement('div');\n",
              "          docLink.innerHTML = docLinkHtml;\n",
              "          element.appendChild(docLink);\n",
              "        }\n",
              "      </script>\n",
              "    </div>\n",
              "  </div>\n",
              "  "
            ]
          },
          "metadata": {},
          "execution_count": 18
        }
      ]
    },
    {
      "cell_type": "markdown",
      "source": [
        "Get predicted data."
      ],
      "metadata": {
        "id": "5sIGoHKiF9-W"
      }
    },
    {
      "cell_type": "code",
      "source": [
        "#predictions\n",
        "predictions_prophet = forecast.yhat[-test_days:].rename(\"prophet\")\n",
        "predictions_prophet[:5]"
      ],
      "metadata": {
        "colab": {
          "base_uri": "https://localhost:8080/"
        },
        "id": "K7SoUFgbsBkn",
        "outputId": "6d45f81d-2c48-4f56-f23e-4e29c9b3bf28"
      },
      "execution_count": 19,
      "outputs": [
        {
          "output_type": "execute_result",
          "data": {
            "text/plain": [
              "1279    34699.741126\n",
              "1280    34586.445416\n",
              "1281    34451.800117\n",
              "1282    34308.378475\n",
              "1283    34203.898511\n",
              "Name: prophet, dtype: float64"
            ]
          },
          "metadata": {},
          "execution_count": 19
        }
      ]
    },
    {
      "cell_type": "markdown",
      "source": [
        "#Visualization"
      ],
      "metadata": {
        "id": "MdXcd0VFBH7E"
      }
    },
    {
      "cell_type": "markdown",
      "source": [
        "The predicted value will now be different from the original value in the data set. Because the Prophet model is built based on the Markov Chain Monte Carlo (MCMC) method to make the forecast.\n",
        "<li>MCMC is a random forecasting method, so the value may be different after each run."
      ],
      "metadata": {
        "id": "I0CpbOFkBGPk"
      }
    },
    {
      "cell_type": "code",
      "source": [
        "#visualization forecast\n",
        "m.plot(forecast);"
      ],
      "metadata": {
        "colab": {
          "base_uri": "https://localhost:8080/",
          "height": 441
        },
        "id": "pT63yYk8sC9Y",
        "outputId": "7bc46bde-6215-4990-cda8-0de4fd9b5c9d"
      },
      "execution_count": 20,
      "outputs": [
        {
          "output_type": "display_data",
          "data": {
            "text/plain": [
              "<Figure size 720x432 with 1 Axes>"
            ],
            "image/png": "[encoded data removed]"
          },
          "metadata": {}
        }
      ]
    },
    {
      "cell_type": "code",
      "source": [
        "#plot components\n",
        "m.plot_components(forecast);"
      ],
      "metadata": {
        "colab": {
          "base_uri": "https://localhost:8080/",
          "height": 657
        },
        "id": "iPf02yxssD5F",
        "outputId": "5112cb0c-3e61-40ed-95a4-f0bcef448bdb"
      },
      "execution_count": 21,
      "outputs": [
        {
          "output_type": "display_data",
          "data": {
            "text/plain": [
              "<Figure size 648x648 with 3 Axes>"
            ],
            "image/png": "[encoded data removed]"
          },
          "metadata": {}
        }
      ]
    },
    {
      "cell_type": "markdown",
      "source": [
        "#Model assessment"
      ],
      "metadata": {
        "id": "jg3wvCQ0A-ws"
      }
    },
    {
      "cell_type": "code",
      "source": [
        "#MAE and RMSE\n",
        "from sklearn.metrics import mean_squared_error, mean_absolute_error\n",
        "print(round(mean_absolute_error(test_set['y'], predictions_prophet),0))\n",
        "print(round(np.sqrt(mean_squared_error(test_set['y'], predictions_prophet)), 0))"
      ],
      "metadata": {
        "colab": {
          "base_uri": "https://localhost:8080/"
        },
        "id": "atONr3rf20es",
        "outputId": "9cdd4209-948f-48b0-c05c-96ae0b732bc4"
      },
      "execution_count": 22,
      "outputs": [
        {
          "output_type": "stream",
          "name": "stdout",
          "text": [
            "33886.0\n",
            "38836.0\n"
          ]
        }
      ]
    },
    {
      "cell_type": "code",
      "source": [
        "#MAPE function\n",
        "def MAPE(y_true, y_pred):\n",
        "  y_true, y_pred = np.array(y_true), np.array(y_pred)\n",
        "  return np.mean(np.abs((y_true - y_pred) / y_true)) * 100\n",
        "MAPE(test_set['y'], predictions_prophet)"
      ],
      "metadata": {
        "colab": {
          "base_uri": "https://localhost:8080/"
        },
        "id": "rphpqGRosF6I",
        "outputId": "3a93e1b7-e7ed-40ff-cb0e-8927b16df634"
      },
      "execution_count": 23,
      "outputs": [
        {
          "output_type": "execute_result",
          "data": {
            "text/plain": [
              "120.72524856068836"
            ]
          },
          "metadata": {},
          "execution_count": 23
        }
      ]
    },
    {
      "cell_type": "markdown",
      "source": [
        "# Cross-Validation"
      ],
      "metadata": {
        "id": "85P760I3AvWt"
      }
    },
    {
      "cell_type": "markdown",
      "source": [
        "Prophet has a function to measure forecasting error in time series data. That process is done by selecting cutoff points in the data history and each of them is suitable for training the model using the data up to that cutoff point."
      ],
      "metadata": {
        "id": "CJGpVB-aAsHN"
      }
    },
    {
      "cell_type": "markdown",
      "source": [
        "The initial period must be long enough to capture all the components inside the model, especially the seasonalities and extra regressors. In which, we consider at least one year for annual seasonality and weekly for weekly seasonality."
      ],
      "metadata": {
        "id": "IuWXM62TA0XU"
      }
    },
    {
      "cell_type": "markdown",
      "source": [
        "Here, we perform predictability assessment with 1-and-a-half year training data in the first cut and make the prediction again after 31 days."
      ],
      "metadata": {
        "id": "Kkl3DXUeA4ns"
      }
    },
    {
      "cell_type": "code",
      "source": [
        "#CV\n",
        "from fbprophet.diagnostics import cross_validation\n",
        "df_cv = cross_validation(m,\n",
        "                         #Dự đoán 31 ngày tiếp theo\n",
        "                         horizon = '31 days',\n",
        "                         #Lấy 540 ngày dể đào tạo\n",
        "                         initial = '540 days',\n",
        "                         #Xử lý song song\n",
        "                         parallel = \"processes\")\n",
        "df_cv.head()"
      ],
      "metadata": {
        "colab": {
          "base_uri": "https://localhost:8080/",
          "height": 241
        },
        "id": "crHdBXyMsG7O",
        "outputId": "e67a9b6c-8cd9-4f93-b2a4-5cdf1938a253"
      },
      "execution_count": 24,
      "outputs": [
        {
          "output_type": "stream",
          "name": "stderr",
          "text": [
            "INFO:fbprophet:Making 46 forecasts with cutoffs between 2019-06-28 12:00:00 and 2021-05-26 00:00:00\n",
            "INFO:fbprophet:Applying in parallel with <concurrent.futures.process.ProcessPoolExecutor object at 0x7f3660474520>\n"
          ]
        },
        {
          "output_type": "execute_result",
          "data": {
            "text/plain": [
              "          ds          yhat    yhat_lower    yhat_upper             y  \\\n",
              "0 2019-06-29  11679.478312  11011.103187  12348.982148  11959.371094   \n",
              "1 2019-06-30  11886.070744  11197.052038  12562.076543  10817.155273   \n",
              "2 2019-07-01  12078.183726  11379.284147  12757.159151  10583.134766   \n",
              "3 2019-07-02  12321.614934  11675.193452  13003.252584  10801.677734   \n",
              "4 2019-07-03  12554.350585  11851.664404  13233.036207  11961.269531   \n",
              "\n",
              "               cutoff  \n",
              "0 2019-06-28 12:00:00  \n",
              "1 2019-06-28 12:00:00  \n",
              "2 2019-06-28 12:00:00  \n",
              "3 2019-06-28 12:00:00  \n",
              "4 2019-06-28 12:00:00  "
            ],
            "text/html": [
              "\n",
              "  <div id=\"df-f9f0223c-7b3e-47c1-b02e-587cda9bbf68\">\n",
              "    <div class=\"colab-df-container\">\n",
              "      <div>\n",
              "<style scoped>\n",
              "    .dataframe tbody tr th:only-of-type {\n",
              "        vertical-align: middle;\n",
              "    }\n",
              "\n",
              "    .dataframe tbody tr th {\n",
              "        vertical-align: top;\n",
              "    }\n",
              "\n",
              "    .dataframe thead th {\n",
              "        text-align: right;\n",
              "    }\n",
              "</style>\n",
              "<table border=\"1\" class=\"dataframe\">\n",
              "  <thead>\n",
              "    <tr style=\"text-align: right;\">\n",
              "      <th></th>\n",
              "      <th>ds</th>\n",
              "      <th>yhat</th>\n",
              "      <th>yhat_lower</th>\n",
              "      <th>yhat_upper</th>\n",
              "      <th>y</th>\n",
              "      <th>cutoff</th>\n",
              "    </tr>\n",
              "  </thead>\n",
              "  <tbody>\n",
              "    <tr>\n",
              "      <th>0</th>\n",
              "      <td>2019-06-29</td>\n",
              "      <td>11679.478312</td>\n",
              "      <td>11011.103187</td>\n",
              "      <td>12348.982148</td>\n",
              "      <td>11959.371094</td>\n",
              "      <td>2019-06-28 12:00:00</td>\n",
              "    </tr>\n",
              "    <tr>\n",
              "      <th>1</th>\n",
              "      <td>2019-06-30</td>\n",
              "      <td>11886.070744</td>\n",
              "      <td>11197.052038</td>\n",
              "      <td>12562.076543</td>\n",
              "      <td>10817.155273</td>\n",
              "      <td>2019-06-28 12:00:00</td>\n",
              "    </tr>\n",
              "    <tr>\n",
              "      <th>2</th>\n",
              "      <td>2019-07-01</td>\n",
              "      <td>12078.183726</td>\n",
              "      <td>11379.284147</td>\n",
              "      <td>12757.159151</td>\n",
              "      <td>10583.134766</td>\n",
              "      <td>2019-06-28 12:00:00</td>\n",
              "    </tr>\n",
              "    <tr>\n",
              "      <th>3</th>\n",
              "      <td>2019-07-02</td>\n",
              "      <td>12321.614934</td>\n",
              "      <td>11675.193452</td>\n",
              "      <td>13003.252584</td>\n",
              "      <td>10801.677734</td>\n",
              "      <td>2019-06-28 12:00:00</td>\n",
              "    </tr>\n",
              "    <tr>\n",
              "      <th>4</th>\n",
              "      <td>2019-07-03</td>\n",
              "      <td>12554.350585</td>\n",
              "      <td>11851.664404</td>\n",
              "      <td>13233.036207</td>\n",
              "      <td>11961.269531</td>\n",
              "      <td>2019-06-28 12:00:00</td>\n",
              "    </tr>\n",
              "  </tbody>\n",
              "</table>\n",
              "</div>\n",
              "      <button class=\"colab-df-convert\" onclick=\"convertToInteractive('df-f9f0223c-7b3e-47c1-b02e-587cda9bbf68')\"\n",
              "              title=\"Convert this dataframe to an interactive table.\"\n",
              "              style=\"display:none;\">\n",
              "        \n",
              "  <svg xmlns=\"http://www.w3.org/2000/svg\" height=\"24px\"viewBox=\"0 0 24 24\"\n",
              "       width=\"24px\">\n",
              "    <path d=\"M0 0h24v24H0V0z\" fill=\"none\"/>\n",
              "    <path d=\"M18.56 5.44l.94 2.06.94-2.06 2.06-.94-2.06-.94-.94-2.06-.94 2.06-2.06.94zm-11 1L8.5 8.5l.94-2.06 2.06-.94-2.06-.94L8.5 2.5l-.94 2.06-2.06.94zm10 10l.94 2.06.94-2.06 2.06-.94-2.06-.94-.94-2.06-.94 2.06-2.06.94z\"/><path d=\"M17.41 7.96l-1.37-1.37c-.4-.4-.92-.59-1.43-.59-.52 0-1.04.2-1.43.59L10.3 9.45l-7.72 7.72c-.78.78-.78 2.05 0 2.83L4 21.41c.39.39.9.59 1.41.59.51 0 1.02-.2 1.41-.59l7.78-7.78 2.81-2.81c.8-.78.8-2.07 0-2.86zM5.41 20L4 18.59l7.72-7.72 1.47 1.35L5.41 20z\"/>\n",
              "  </svg>\n",
              "      </button>\n",
              "      \n",
              "  <style>\n",
              "    .colab-df-container {\n",
              "      display:flex;\n",
              "      flex-wrap:wrap;\n",
              "      gap: 12px;\n",
              "    }\n",
              "\n",
              "    .colab-df-convert {\n",
              "      background-color: #E8F0FE;\n",
              "      border: none;\n",
              "      border-radius: 50%;\n",
              "      cursor: pointer;\n",
              "      display: none;\n",
              "      fill: #1967D2;\n",
              "      height: 32px;\n",
              "      padding: 0 0 0 0;\n",
              "      width: 32px;\n",
              "    }\n",
              "\n",
              "    .colab-df-convert:hover {\n",
              "      background-color: #E2EBFA;\n",
              "      box-shadow: 0px 1px 2px rgba(60, 64, 67, 0.3), 0px 1px 3px 1px rgba(60, 64, 67, 0.15);\n",
              "      fill: #174EA6;\n",
              "    }\n",
              "\n",
              "    [theme=dark] .colab-df-convert {\n",
              "      background-color: #3B4455;\n",
              "      fill: #D2E3FC;\n",
              "    }\n",
              "\n",
              "    [theme=dark] .colab-df-convert:hover {\n",
              "      background-color: #434B5C;\n",
              "      box-shadow: 0px 1px 3px 1px rgba(0, 0, 0, 0.15);\n",
              "      filter: drop-shadow(0px 1px 2px rgba(0, 0, 0, 0.3));\n",
              "      fill: #FFFFFF;\n",
              "    }\n",
              "  </style>\n",
              "\n",
              "      <script>\n",
              "        const buttonEl =\n",
              "          document.querySelector('#df-f9f0223c-7b3e-47c1-b02e-587cda9bbf68 button.colab-df-convert');\n",
              "        buttonEl.style.display =\n",
              "          google.colab.kernel.accessAllowed ? 'block' : 'none';\n",
              "\n",
              "        async function convertToInteractive(key) {\n",
              "          const element = document.querySelector('#df-f9f0223c-7b3e-47c1-b02e-587cda9bbf68');\n",
              "          const dataTable =\n",
              "            await google.colab.kernel.invokeFunction('convertToInteractive',\n",
              "                                                     [key], {});\n",
              "          if (!dataTable) return;\n",
              "\n",
              "          const docLinkHtml = 'Like what you see? Visit the ' +\n",
              "            '<a target=\"_blank\" href=https://colab.research.google.com/notebooks/data_table.ipynb>data table notebook</a>'\n",
              "            + ' to learn more about interactive tables.';\n",
              "          element.innerHTML = '';\n",
              "          dataTable['output_type'] = 'display_data';\n",
              "          await google.colab.output.renderOutput(dataTable, element);\n",
              "          const docLink = document.createElement('div');\n",
              "          docLink.innerHTML = docLinkHtml;\n",
              "          element.appendChild(docLink);\n",
              "        }\n",
              "      </script>\n",
              "    </div>\n",
              "  </div>\n",
              "  "
            ]
          },
          "metadata": {},
          "execution_count": 24
        }
      ]
    },
    {
      "cell_type": "code",
      "source": [
        "#MAE, RMSE and MAPE\n",
        "print(round(mean_absolute_error(df_cv['y'], df_cv['yhat']),0))\n",
        "print(round(np.sqrt(mean_squared_error(df_cv['y'], df_cv['yhat'])), 0))\n",
        "print(MAPE(df_cv['y'], df_cv['yhat']))"
      ],
      "metadata": {
        "colab": {
          "base_uri": "https://localhost:8080/"
        },
        "id": "IMH3ZM3gA7_0",
        "outputId": "e1a7c610-704e-4811-fc3a-08e99bf6bae2"
      },
      "execution_count": 25,
      "outputs": [
        {
          "output_type": "stream",
          "name": "stdout",
          "text": [
            "4094.0\n",
            "6634.0\n",
            "20.8756377166204\n"
          ]
        }
      ]
    },
    {
      "cell_type": "markdown",
      "source": [
        "#Hyperparameter tuning"
      ],
      "metadata": {
        "id": "aRo0IXCpBMi4"
      }
    },
    {
      "cell_type": "markdown",
      "source": [
        "List the parameters and assign values and choose the model that gives the minimum evaluation criteria."
      ],
      "metadata": {
        "id": "OeMdpBi7BPVW"
      }
    },
    {
      "cell_type": "code",
      "source": [
        "#Parameter grid\n",
        "from sklearn.model_selection import ParameterGrid\n",
        "param_grid = {'seasonality_prior_scale': np.arange(5, 10, 5), #[5, 10]  np.arange(5, 20, 5),\n",
        "              'changepoint_prior_scale': np.arange(0.01, 0.05, 0.01),  # [0.01, 0.02, 0.03, 0.04, 0.05]\n",
        "              'holidays_prior_scale': np.arange(5, 10, 5)}#[5, 10]\n",
        "grid = ParameterGrid(param_grid)\n",
        "list(grid)[:3]            "
      ],
      "metadata": {
        "colab": {
          "base_uri": "https://localhost:8080/"
        },
        "id": "gtMBGywlstDd",
        "outputId": "457699be-8677-4772-cac5-98df725d1eb8"
      },
      "execution_count": 26,
      "outputs": [
        {
          "output_type": "execute_result",
          "data": {
            "text/plain": [
              "[{'changepoint_prior_scale': 0.01,\n",
              "  'holidays_prior_scale': 5,\n",
              "  'seasonality_prior_scale': 5},\n",
              " {'changepoint_prior_scale': 0.02,\n",
              "  'holidays_prior_scale': 5,\n",
              "  'seasonality_prior_scale': 5},\n",
              " {'changepoint_prior_scale': 0.03,\n",
              "  'holidays_prior_scale': 5,\n",
              "  'seasonality_prior_scale': 5}]"
            ]
          },
          "metadata": {},
          "execution_count": 26
        }
      ]
    },
    {
      "cell_type": "code",
      "source": [
        "#Hyper parameter tuning\n",
        "rmse = []\n",
        "for params in grid:\n",
        "  #build model\n",
        "  m = Prophet(growth = \"linear\",\n",
        "            yearly_seasonality = True,\n",
        "            weekly_seasonality = True,\n",
        "            daily_seasonality = False,\n",
        "            seasonality_mode = \"multiplicative\",\n",
        "            seasonality_prior_scale = params['seasonality_prior_scale'],\n",
        "            holidays_prior_scale = params['holidays_prior_scale'],\n",
        "            changepoint_prior_scale = params['changepoint_prior_scale'])\n",
        "  m.fit(training_set)\n",
        "\n",
        "  #cross-validation\n",
        "  df_cv = cross_validation(m,\n",
        "                         horizon = '31 days',\n",
        "                         initial = '540 days',\n",
        "                         parallel = \"processes\")\n",
        "  \n",
        "  #gather the results\n",
        "  error = np.sqrt(mean_squared_error(df_cv['y'], \n",
        "                                     df_cv['yhat']))\n",
        "  rmse.append(error)"
      ],
      "metadata": {
        "colab": {
          "base_uri": "https://localhost:8080/"
        },
        "id": "u9scI6q7svQm",
        "outputId": "df4b61a8-8842-44cb-8376-e78733acf6c8"
      },
      "execution_count": 27,
      "outputs": [
        {
          "output_type": "stream",
          "name": "stderr",
          "text": [
            "INFO:fbprophet:Making 46 forecasts with cutoffs between 2019-06-28 12:00:00 and 2021-05-26 00:00:00\n",
            "INFO:fbprophet:Applying in parallel with <concurrent.futures.process.ProcessPoolExecutor object at 0x7f366336bfa0>\n",
            "INFO:fbprophet:Making 46 forecasts with cutoffs between 2019-06-28 12:00:00 and 2021-05-26 00:00:00\n",
            "INFO:fbprophet:Applying in parallel with <concurrent.futures.process.ProcessPoolExecutor object at 0x7f366d273e20>\n",
            "INFO:fbprophet:Making 46 forecasts with cutoffs between 2019-06-28 12:00:00 and 2021-05-26 00:00:00\n",
            "INFO:fbprophet:Applying in parallel with <concurrent.futures.process.ProcessPoolExecutor object at 0x7f3660474520>\n",
            "INFO:fbprophet:Making 46 forecasts with cutoffs between 2019-06-28 12:00:00 and 2021-05-26 00:00:00\n",
            "INFO:fbprophet:Applying in parallel with <concurrent.futures.process.ProcessPoolExecutor object at 0x7f36604d2be0>\n"
          ]
        }
      ]
    },
    {
      "cell_type": "code",
      "source": [
        "#best parameters\n",
        "best_params = grid[np.argmin(rmse)]\n",
        "print(best_params)"
      ],
      "metadata": {
        "colab": {
          "base_uri": "https://localhost:8080/"
        },
        "id": "xQFtiZ0RBbrl",
        "outputId": "4ce5926b-4187-4952-a361-fa6f705c3ba8"
      },
      "execution_count": 28,
      "outputs": [
        {
          "output_type": "stream",
          "name": "stdout",
          "text": [
            "{'seasonality_prior_scale': 5, 'holidays_prior_scale': 5, 'changepoint_prior_scale': 0.04}\n"
          ]
        }
      ]
    },
    {
      "cell_type": "markdown",
      "source": [
        "#Final Prophet Model"
      ],
      "metadata": {
        "id": "vRN-aP2BBeA8"
      }
    },
    {
      "cell_type": "markdown",
      "source": [
        "Rebuild models and predictions."
      ],
      "metadata": {
        "id": "83L49vzXBg3p"
      }
    },
    {
      "cell_type": "code",
      "source": [
        "#build model\n",
        "m = Prophet(growth = \"linear\",\n",
        "          yearly_seasonality = True,\n",
        "          weekly_seasonality = True,\n",
        "          daily_seasonality = False,\n",
        "          seasonality_mode = \"multiplicative\",\n",
        "          seasonality_prior_scale = best_params['seasonality_prior_scale'],\n",
        "          holidays_prior_scale = best_params['holidays_prior_scale'],\n",
        "          changepoint_prior_scale = best_params['changepoint_prior_scale'])\n",
        "m.fit(training_set)"
      ],
      "metadata": {
        "colab": {
          "base_uri": "https://localhost:8080/"
        },
        "id": "KwDyIPQLBiRP",
        "outputId": "4db76002-473c-4841-b5c2-3195c7ac8725"
      },
      "execution_count": 29,
      "outputs": [
        {
          "output_type": "execute_result",
          "data": {
            "text/plain": [
              "<fbprophet.forecaster.Prophet at 0x7f36605f5130>"
            ]
          },
          "metadata": {},
          "execution_count": 29
        }
      ]
    },
    {
      "cell_type": "code",
      "source": [
        "#Create Future Dataframe\n",
        "future = m.make_future_dataframe(periods = len(test_set),\n",
        "                                 freq = \"D\")\n",
        "future = pd.concat([future, dataset.iloc[:,1:]],\n",
        "                   axis = 1)\n",
        "future.tail(1)"
      ],
      "metadata": {
        "colab": {
          "base_uri": "https://localhost:8080/",
          "height": 81
        },
        "id": "3R1ExE2tBjlo",
        "outputId": "8bc90c0f-d947-46a1-fabf-4552965e955c"
      },
      "execution_count": 30,
      "outputs": [
        {
          "output_type": "execute_result",
          "data": {
            "text/plain": [
              "             ds             y\n",
              "1826 2022-12-26  16848.796875"
            ],
            "text/html": [
              "\n",
              "  <div id=\"df-ff397cda-ebe4-411b-96e4-f232c39b887a\">\n",
              "    <div class=\"colab-df-container\">\n",
              "      <div>\n",
              "<style scoped>\n",
              "    .dataframe tbody tr th:only-of-type {\n",
              "        vertical-align: middle;\n",
              "    }\n",
              "\n",
              "    .dataframe tbody tr th {\n",
              "        vertical-align: top;\n",
              "    }\n",
              "\n",
              "    .dataframe thead th {\n",
              "        text-align: right;\n",
              "    }\n",
              "</style>\n",
              "<table border=\"1\" class=\"dataframe\">\n",
              "  <thead>\n",
              "    <tr style=\"text-align: right;\">\n",
              "      <th></th>\n",
              "      <th>ds</th>\n",
              "      <th>y</th>\n",
              "    </tr>\n",
              "  </thead>\n",
              "  <tbody>\n",
              "    <tr>\n",
              "      <th>1826</th>\n",
              "      <td>2022-12-26</td>\n",
              "      <td>16848.796875</td>\n",
              "    </tr>\n",
              "  </tbody>\n",
              "</table>\n",
              "</div>\n",
              "      <button class=\"colab-df-convert\" onclick=\"convertToInteractive('df-ff397cda-ebe4-411b-96e4-f232c39b887a')\"\n",
              "              title=\"Convert this dataframe to an interactive table.\"\n",
              "              style=\"display:none;\">\n",
              "        \n",
              "  <svg xmlns=\"http://www.w3.org/2000/svg\" height=\"24px\"viewBox=\"0 0 24 24\"\n",
              "       width=\"24px\">\n",
              "    <path d=\"M0 0h24v24H0V0z\" fill=\"none\"/>\n",
              "    <path d=\"M18.56 5.44l.94 2.06.94-2.06 2.06-.94-2.06-.94-.94-2.06-.94 2.06-2.06.94zm-11 1L8.5 8.5l.94-2.06 2.06-.94-2.06-.94L8.5 2.5l-.94 2.06-2.06.94zm10 10l.94 2.06.94-2.06 2.06-.94-2.06-.94-.94-2.06-.94 2.06-2.06.94z\"/><path d=\"M17.41 7.96l-1.37-1.37c-.4-.4-.92-.59-1.43-.59-.52 0-1.04.2-1.43.59L10.3 9.45l-7.72 7.72c-.78.78-.78 2.05 0 2.83L4 21.41c.39.39.9.59 1.41.59.51 0 1.02-.2 1.41-.59l7.78-7.78 2.81-2.81c.8-.78.8-2.07 0-2.86zM5.41 20L4 18.59l7.72-7.72 1.47 1.35L5.41 20z\"/>\n",
              "  </svg>\n",
              "      </button>\n",
              "      \n",
              "  <style>\n",
              "    .colab-df-container {\n",
              "      display:flex;\n",
              "      flex-wrap:wrap;\n",
              "      gap: 12px;\n",
              "    }\n",
              "\n",
              "    .colab-df-convert {\n",
              "      background-color: #E8F0FE;\n",
              "      border: none;\n",
              "      border-radius: 50%;\n",
              "      cursor: pointer;\n",
              "      display: none;\n",
              "      fill: #1967D2;\n",
              "      height: 32px;\n",
              "      padding: 0 0 0 0;\n",
              "      width: 32px;\n",
              "    }\n",
              "\n",
              "    .colab-df-convert:hover {\n",
              "      background-color: #E2EBFA;\n",
              "      box-shadow: 0px 1px 2px rgba(60, 64, 67, 0.3), 0px 1px 3px 1px rgba(60, 64, 67, 0.15);\n",
              "      fill: #174EA6;\n",
              "    }\n",
              "\n",
              "    [theme=dark] .colab-df-convert {\n",
              "      background-color: #3B4455;\n",
              "      fill: #D2E3FC;\n",
              "    }\n",
              "\n",
              "    [theme=dark] .colab-df-convert:hover {\n",
              "      background-color: #434B5C;\n",
              "      box-shadow: 0px 1px 3px 1px rgba(0, 0, 0, 0.15);\n",
              "      filter: drop-shadow(0px 1px 2px rgba(0, 0, 0, 0.3));\n",
              "      fill: #FFFFFF;\n",
              "    }\n",
              "  </style>\n",
              "\n",
              "      <script>\n",
              "        const buttonEl =\n",
              "          document.querySelector('#df-ff397cda-ebe4-411b-96e4-f232c39b887a button.colab-df-convert');\n",
              "        buttonEl.style.display =\n",
              "          google.colab.kernel.accessAllowed ? 'block' : 'none';\n",
              "\n",
              "        async function convertToInteractive(key) {\n",
              "          const element = document.querySelector('#df-ff397cda-ebe4-411b-96e4-f232c39b887a');\n",
              "          const dataTable =\n",
              "            await google.colab.kernel.invokeFunction('convertToInteractive',\n",
              "                                                     [key], {});\n",
              "          if (!dataTable) return;\n",
              "\n",
              "          const docLinkHtml = 'Like what you see? Visit the ' +\n",
              "            '<a target=\"_blank\" href=https://colab.research.google.com/notebooks/data_table.ipynb>data table notebook</a>'\n",
              "            + ' to learn more about interactive tables.';\n",
              "          element.innerHTML = '';\n",
              "          dataTable['output_type'] = 'display_data';\n",
              "          await google.colab.output.renderOutput(dataTable, element);\n",
              "          const docLink = document.createElement('div');\n",
              "          docLink.innerHTML = docLinkHtml;\n",
              "          element.appendChild(docLink);\n",
              "        }\n",
              "      </script>\n",
              "    </div>\n",
              "  </div>\n",
              "  "
            ]
          },
          "metadata": {},
          "execution_count": 30
        }
      ]
    },
    {
      "cell_type": "code",
      "source": [
        "#forecast\n",
        "forecast = m.predict(future)\n",
        "forecast.head()"
      ],
      "metadata": {
        "colab": {
          "base_uri": "https://localhost:8080/",
          "height": 357
        },
        "id": "BXIAmeYjBmHV",
        "outputId": "274836ba-6c0b-4de2-d9c9-678280911117"
      },
      "execution_count": 31,
      "outputs": [
        {
          "output_type": "execute_result",
          "data": {
            "text/plain": [
              "          ds         trend    yhat_lower    yhat_upper   trend_lower  \\\n",
              "0 2017-12-26  12762.110666  10528.310648  14234.396842  12762.110666   \n",
              "1 2017-12-27  12652.297846  10688.991157  14561.993010  12652.297846   \n",
              "2 2017-12-28  12542.485026  11138.971109  14734.019021  12542.485026   \n",
              "3 2017-12-29  12432.672205  11269.160413  14941.445957  12432.672205   \n",
              "4 2017-12-30  12322.859385  11437.446945  15215.951129  12322.859385   \n",
              "\n",
              "    trend_upper  multiplicative_terms  multiplicative_terms_lower  \\\n",
              "0  12762.110666             -0.034530                   -0.034530   \n",
              "1  12652.297846             -0.004925                   -0.004925   \n",
              "2  12542.485026              0.025268                    0.025268   \n",
              "3  12432.672205              0.053347                    0.053347   \n",
              "4  12322.859385              0.081026                    0.081026   \n",
              "\n",
              "   multiplicative_terms_upper    weekly  weekly_lower  weekly_upper    yearly  \\\n",
              "0                   -0.034530  0.000273      0.000273      0.000273 -0.034802   \n",
              "1                   -0.004925  0.000683      0.000683      0.000683 -0.005608   \n",
              "2                    0.025268  0.001589      0.001589      0.001589  0.023679   \n",
              "3                    0.053347  0.000674      0.000674      0.000674  0.052673   \n",
              "4                    0.081026  0.000047      0.000047      0.000047  0.080979   \n",
              "\n",
              "   yearly_lower  yearly_upper  additive_terms  additive_terms_lower  \\\n",
              "0     -0.034802     -0.034802             0.0                   0.0   \n",
              "1     -0.005608     -0.005608             0.0                   0.0   \n",
              "2      0.023679      0.023679             0.0                   0.0   \n",
              "3      0.052673      0.052673             0.0                   0.0   \n",
              "4      0.080979      0.080979             0.0                   0.0   \n",
              "\n",
              "   additive_terms_upper          yhat  \n",
              "0                   0.0  12321.438296  \n",
              "1                   0.0  12589.980120  \n",
              "2                   0.0  12859.410059  \n",
              "3                   0.0  13095.917134  \n",
              "4                   0.0  13321.329708  "
            ],
            "text/html": [
              "\n",
              "  <div id=\"df-20c72ede-aee1-42da-8efb-61f1fef373c6\">\n",
              "    <div class=\"colab-df-container\">\n",
              "      <div>\n",
              "<style scoped>\n",
              "    .dataframe tbody tr th:only-of-type {\n",
              "        vertical-align: middle;\n",
              "    }\n",
              "\n",
              "    .dataframe tbody tr th {\n",
              "        vertical-align: top;\n",
              "    }\n",
              "\n",
              "    .dataframe thead th {\n",
              "        text-align: right;\n",
              "    }\n",
              "</style>\n",
              "<table border=\"1\" class=\"dataframe\">\n",
              "  <thead>\n",
              "    <tr style=\"text-align: right;\">\n",
              "      <th></th>\n",
              "      <th>ds</th>\n",
              "      <th>trend</th>\n",
              "      <th>yhat_lower</th>\n",
              "      <th>yhat_upper</th>\n",
              "      <th>trend_lower</th>\n",
              "      <th>trend_upper</th>\n",
              "      <th>multiplicative_terms</th>\n",
              "      <th>multiplicative_terms_lower</th>\n",
              "      <th>multiplicative_terms_upper</th>\n",
              "      <th>weekly</th>\n",
              "      <th>weekly_lower</th>\n",
              "      <th>weekly_upper</th>\n",
              "      <th>yearly</th>\n",
              "      <th>yearly_lower</th>\n",
              "      <th>yearly_upper</th>\n",
              "      <th>additive_terms</th>\n",
              "      <th>additive_terms_lower</th>\n",
              "      <th>additive_terms_upper</th>\n",
              "      <th>yhat</th>\n",
              "    </tr>\n",
              "  </thead>\n",
              "  <tbody>\n",
              "    <tr>\n",
              "      <th>0</th>\n",
              "      <td>2017-12-26</td>\n",
              "      <td>12762.110666</td>\n",
              "      <td>10528.310648</td>\n",
              "      <td>14234.396842</td>\n",
              "      <td>12762.110666</td>\n",
              "      <td>12762.110666</td>\n",
              "      <td>-0.034530</td>\n",
              "      <td>-0.034530</td>\n",
              "      <td>-0.034530</td>\n",
              "      <td>0.000273</td>\n",
              "      <td>0.000273</td>\n",
              "      <td>0.000273</td>\n",
              "      <td>-0.034802</td>\n",
              "      <td>-0.034802</td>\n",
              "      <td>-0.034802</td>\n",
              "      <td>0.0</td>\n",
              "      <td>0.0</td>\n",
              "      <td>0.0</td>\n",
              "      <td>12321.438296</td>\n",
              "    </tr>\n",
              "    <tr>\n",
              "      <th>1</th>\n",
              "      <td>2017-12-27</td>\n",
              "      <td>12652.297846</td>\n",
              "      <td>10688.991157</td>\n",
              "      <td>14561.993010</td>\n",
              "      <td>12652.297846</td>\n",
              "      <td>12652.297846</td>\n",
              "      <td>-0.004925</td>\n",
              "      <td>-0.004925</td>\n",
              "      <td>-0.004925</td>\n",
              "      <td>0.000683</td>\n",
              "      <td>0.000683</td>\n",
              "      <td>0.000683</td>\n",
              "      <td>-0.005608</td>\n",
              "      <td>-0.005608</td>\n",
              "      <td>-0.005608</td>\n",
              "      <td>0.0</td>\n",
              "      <td>0.0</td>\n",
              "      <td>0.0</td>\n",
              "      <td>12589.980120</td>\n",
              "    </tr>\n",
              "    <tr>\n",
              "      <th>2</th>\n",
              "      <td>2017-12-28</td>\n",
              "      <td>12542.485026</td>\n",
              "      <td>11138.971109</td>\n",
              "      <td>14734.019021</td>\n",
              "      <td>12542.485026</td>\n",
              "      <td>12542.485026</td>\n",
              "      <td>0.025268</td>\n",
              "      <td>0.025268</td>\n",
              "      <td>0.025268</td>\n",
              "      <td>0.001589</td>\n",
              "      <td>0.001589</td>\n",
              "      <td>0.001589</td>\n",
              "      <td>0.023679</td>\n",
              "      <td>0.023679</td>\n",
              "      <td>0.023679</td>\n",
              "      <td>0.0</td>\n",
              "      <td>0.0</td>\n",
              "      <td>0.0</td>\n",
              "      <td>12859.410059</td>\n",
              "    </tr>\n",
              "    <tr>\n",
              "      <th>3</th>\n",
              "      <td>2017-12-29</td>\n",
              "      <td>12432.672205</td>\n",
              "      <td>11269.160413</td>\n",
              "      <td>14941.445957</td>\n",
              "      <td>12432.672205</td>\n",
              "      <td>12432.672205</td>\n",
              "      <td>0.053347</td>\n",
              "      <td>0.053347</td>\n",
              "      <td>0.053347</td>\n",
              "      <td>0.000674</td>\n",
              "      <td>0.000674</td>\n",
              "      <td>0.000674</td>\n",
              "      <td>0.052673</td>\n",
              "      <td>0.052673</td>\n",
              "      <td>0.052673</td>\n",
              "      <td>0.0</td>\n",
              "      <td>0.0</td>\n",
              "      <td>0.0</td>\n",
              "      <td>13095.917134</td>\n",
              "    </tr>\n",
              "    <tr>\n",
              "      <th>4</th>\n",
              "      <td>2017-12-30</td>\n",
              "      <td>12322.859385</td>\n",
              "      <td>11437.446945</td>\n",
              "      <td>15215.951129</td>\n",
              "      <td>12322.859385</td>\n",
              "      <td>12322.859385</td>\n",
              "      <td>0.081026</td>\n",
              "      <td>0.081026</td>\n",
              "      <td>0.081026</td>\n",
              "      <td>0.000047</td>\n",
              "      <td>0.000047</td>\n",
              "      <td>0.000047</td>\n",
              "      <td>0.080979</td>\n",
              "      <td>0.080979</td>\n",
              "      <td>0.080979</td>\n",
              "      <td>0.0</td>\n",
              "      <td>0.0</td>\n",
              "      <td>0.0</td>\n",
              "      <td>13321.329708</td>\n",
              "    </tr>\n",
              "  </tbody>\n",
              "</table>\n",
              "</div>\n",
              "      <button class=\"colab-df-convert\" onclick=\"convertToInteractive('df-20c72ede-aee1-42da-8efb-61f1fef373c6')\"\n",
              "              title=\"Convert this dataframe to an interactive table.\"\n",
              "              style=\"display:none;\">\n",
              "        \n",
              "  <svg xmlns=\"http://www.w3.org/2000/svg\" height=\"24px\"viewBox=\"0 0 24 24\"\n",
              "       width=\"24px\">\n",
              "    <path d=\"M0 0h24v24H0V0z\" fill=\"none\"/>\n",
              "    <path d=\"M18.56 5.44l.94 2.06.94-2.06 2.06-.94-2.06-.94-.94-2.06-.94 2.06-2.06.94zm-11 1L8.5 8.5l.94-2.06 2.06-.94-2.06-.94L8.5 2.5l-.94 2.06-2.06.94zm10 10l.94 2.06.94-2.06 2.06-.94-2.06-.94-.94-2.06-.94 2.06-2.06.94z\"/><path d=\"M17.41 7.96l-1.37-1.37c-.4-.4-.92-.59-1.43-.59-.52 0-1.04.2-1.43.59L10.3 9.45l-7.72 7.72c-.78.78-.78 2.05 0 2.83L4 21.41c.39.39.9.59 1.41.59.51 0 1.02-.2 1.41-.59l7.78-7.78 2.81-2.81c.8-.78.8-2.07 0-2.86zM5.41 20L4 18.59l7.72-7.72 1.47 1.35L5.41 20z\"/>\n",
              "  </svg>\n",
              "      </button>\n",
              "      \n",
              "  <style>\n",
              "    .colab-df-container {\n",
              "      display:flex;\n",
              "      flex-wrap:wrap;\n",
              "      gap: 12px;\n",
              "    }\n",
              "\n",
              "    .colab-df-convert {\n",
              "      background-color: #E8F0FE;\n",
              "      border: none;\n",
              "      border-radius: 50%;\n",
              "      cursor: pointer;\n",
              "      display: none;\n",
              "      fill: #1967D2;\n",
              "      height: 32px;\n",
              "      padding: 0 0 0 0;\n",
              "      width: 32px;\n",
              "    }\n",
              "\n",
              "    .colab-df-convert:hover {\n",
              "      background-color: #E2EBFA;\n",
              "      box-shadow: 0px 1px 2px rgba(60, 64, 67, 0.3), 0px 1px 3px 1px rgba(60, 64, 67, 0.15);\n",
              "      fill: #174EA6;\n",
              "    }\n",
              "\n",
              "    [theme=dark] .colab-df-convert {\n",
              "      background-color: #3B4455;\n",
              "      fill: #D2E3FC;\n",
              "    }\n",
              "\n",
              "    [theme=dark] .colab-df-convert:hover {\n",
              "      background-color: #434B5C;\n",
              "      box-shadow: 0px 1px 3px 1px rgba(0, 0, 0, 0.15);\n",
              "      filter: drop-shadow(0px 1px 2px rgba(0, 0, 0, 0.3));\n",
              "      fill: #FFFFFF;\n",
              "    }\n",
              "  </style>\n",
              "\n",
              "      <script>\n",
              "        const buttonEl =\n",
              "          document.querySelector('#df-20c72ede-aee1-42da-8efb-61f1fef373c6 button.colab-df-convert');\n",
              "        buttonEl.style.display =\n",
              "          google.colab.kernel.accessAllowed ? 'block' : 'none';\n",
              "\n",
              "        async function convertToInteractive(key) {\n",
              "          const element = document.querySelector('#df-20c72ede-aee1-42da-8efb-61f1fef373c6');\n",
              "          const dataTable =\n",
              "            await google.colab.kernel.invokeFunction('convertToInteractive',\n",
              "                                                     [key], {});\n",
              "          if (!dataTable) return;\n",
              "\n",
              "          const docLinkHtml = 'Like what you see? Visit the ' +\n",
              "            '<a target=\"_blank\" href=https://colab.research.google.com/notebooks/data_table.ipynb>data table notebook</a>'\n",
              "            + ' to learn more about interactive tables.';\n",
              "          element.innerHTML = '';\n",
              "          dataTable['output_type'] = 'display_data';\n",
              "          await google.colab.output.renderOutput(dataTable, element);\n",
              "          const docLink = document.createElement('div');\n",
              "          docLink.innerHTML = docLinkHtml;\n",
              "          element.appendChild(docLink);\n",
              "        }\n",
              "      </script>\n",
              "    </div>\n",
              "  </div>\n",
              "  "
            ]
          },
          "metadata": {},
          "execution_count": 31
        }
      ]
    },
    {
      "cell_type": "code",
      "source": [
        "#MAE, RMSE and MAPE\n",
        "print(round(mean_absolute_error(df_cv['y'], df_cv['yhat']),0))\n",
        "print(round(np.sqrt(mean_squared_error(df_cv['y'], df_cv['yhat'])), 0))\n",
        "print(MAPE(df_cv['y'], df_cv['yhat']))"
      ],
      "metadata": {
        "colab": {
          "base_uri": "https://localhost:8080/"
        },
        "id": "exvNs6z7CorT",
        "outputId": "938133b0-369e-4194-8d26-746afefe9fdf"
      },
      "execution_count": 32,
      "outputs": [
        {
          "output_type": "stream",
          "name": "stdout",
          "text": [
            "4320.0\n",
            "6852.0\n",
            "21.589629243398917\n"
          ]
        }
      ]
    }
  ]
}