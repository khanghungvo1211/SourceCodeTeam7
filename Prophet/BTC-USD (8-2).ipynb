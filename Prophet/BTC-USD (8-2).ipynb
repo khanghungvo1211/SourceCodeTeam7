{
  "nbformat": 4,
  "nbformat_minor": 0,
  "metadata": {
    "colab": {
      "provenance": []
    },
    "kernelspec": {
      "name": "python3",
      "display_name": "Python 3"
    },
    "language_info": {
      "name": "python"
    }
  },
  "cells": [
    {
      "cell_type": "markdown",
      "source": [
        "# Import libraries and data\n"
      ],
      "metadata": {
        "id": "PolguKUgFMAb"
      }
    },
    {
      "cell_type": "code",
      "execution_count": 4,
      "metadata": {
        "colab": {
          "base_uri": "https://localhost:8080/"
        },
        "id": "nhV2zxZFqlXp",
        "outputId": "511def6e-4959-44bb-89ee-843b908794d6"
      },
      "outputs": [
        {
          "output_type": "stream",
          "name": "stdout",
          "text": [
            "\u001b[33mWARNING: Ignoring invalid distribution -ystan (/usr/local/lib/python3.8/dist-packages)\u001b[0m\n",
            "\u001b[33mWARNING: Ignoring invalid distribution -ystan (/usr/local/lib/python3.8/dist-packages)\u001b[0m\n",
            "Looking in indexes: https://pypi.org/simple, https://us-python.pkg.dev/colab-wheels/public/simple/\n",
            "Collecting pystan~=2.14\n",
            "  Using cached pystan-2.19.1.1-cp38-cp38-manylinux1_x86_64.whl (62.6 MB)\n",
            "Requirement already satisfied: Cython!=0.25.1,>=0.22 in /usr/local/lib/python3.8/dist-packages (from pystan~=2.14) (0.29.32)\n",
            "Requirement already satisfied: numpy>=1.7 in /usr/local/lib/python3.8/dist-packages (from pystan~=2.14) (1.21.6)\n",
            "\u001b[33mWARNING: Ignoring invalid distribution -ystan (/usr/local/lib/python3.8/dist-packages)\u001b[0m\n",
            "Installing collected packages: pystan\n",
            "\u001b[33mWARNING: Ignoring invalid distribution -ystan (/usr/local/lib/python3.8/dist-packages)\u001b[0m\n",
            "Successfully installed pystan-2.19.1.1\n",
            "\u001b[33mWARNING: Ignoring invalid distribution -ystan (/usr/local/lib/python3.8/dist-packages)\u001b[0m\n",
            "\u001b[33mWARNING: Ignoring invalid distribution -ystan (/usr/local/lib/python3.8/dist-packages)\u001b[0m\n",
            "Looking in indexes: https://pypi.org/simple, https://us-python.pkg.dev/colab-wheels/public/simple/\n",
            "Collecting fbprophet\n",
            "  Using cached fbprophet-0.7.1.tar.gz (64 kB)\n",
            "Requirement already satisfied: Cython>=0.22 in /usr/local/lib/python3.8/dist-packages (from fbprophet) (0.29.32)\n",
            "Collecting cmdstanpy==0.9.5\n",
            "  Using cached cmdstanpy-0.9.5-py3-none-any.whl (37 kB)\n",
            "Requirement already satisfied: pystan>=2.14 in /usr/local/lib/python3.8/dist-packages (from fbprophet) (2.19.1.1)\n",
            "Requirement already satisfied: numpy>=1.15.4 in /usr/local/lib/python3.8/dist-packages (from fbprophet) (1.21.6)\n",
            "Requirement already satisfied: pandas>=1.0.4 in /usr/local/lib/python3.8/dist-packages (from fbprophet) (1.3.5)\n",
            "Requirement already satisfied: matplotlib>=2.0.0 in /usr/local/lib/python3.8/dist-packages (from fbprophet) (3.2.2)\n",
            "Requirement already satisfied: LunarCalendar>=0.0.9 in /usr/local/lib/python3.8/dist-packages (from fbprophet) (0.0.9)\n",
            "Requirement already satisfied: convertdate>=2.1.2 in /usr/local/lib/python3.8/dist-packages (from fbprophet) (2.4.0)\n",
            "Requirement already satisfied: holidays>=0.10.2 in /usr/local/lib/python3.8/dist-packages (from fbprophet) (0.17.2)\n",
            "Requirement already satisfied: setuptools-git>=1.2 in /usr/local/lib/python3.8/dist-packages (from fbprophet) (1.2)\n",
            "Requirement already satisfied: python-dateutil>=2.8.0 in /usr/local/lib/python3.8/dist-packages (from fbprophet) (2.8.2)\n",
            "Requirement already satisfied: tqdm>=4.36.1 in /usr/local/lib/python3.8/dist-packages (from fbprophet) (4.64.1)\n",
            "Requirement already satisfied: pymeeus<=1,>=0.3.13 in /usr/local/lib/python3.8/dist-packages (from convertdate>=2.1.2->fbprophet) (0.5.12)\n",
            "Requirement already satisfied: hijri-converter in /usr/local/lib/python3.8/dist-packages (from holidays>=0.10.2->fbprophet) (2.2.4)\n",
            "Requirement already satisfied: korean-lunar-calendar in /usr/local/lib/python3.8/dist-packages (from holidays>=0.10.2->fbprophet) (0.3.1)\n",
            "Requirement already satisfied: ephem>=3.7.5.3 in /usr/local/lib/python3.8/dist-packages (from LunarCalendar>=0.0.9->fbprophet) (4.1.3)\n",
            "Requirement already satisfied: pytz in /usr/local/lib/python3.8/dist-packages (from LunarCalendar>=0.0.9->fbprophet) (2022.6)\n",
            "Requirement already satisfied: cycler>=0.10 in /usr/local/lib/python3.8/dist-packages (from matplotlib>=2.0.0->fbprophet) (0.11.0)\n",
            "Requirement already satisfied: pyparsing!=2.0.4,!=2.1.2,!=2.1.6,>=2.0.1 in /usr/local/lib/python3.8/dist-packages (from matplotlib>=2.0.0->fbprophet) (3.0.9)\n",
            "Requirement already satisfied: kiwisolver>=1.0.1 in /usr/local/lib/python3.8/dist-packages (from matplotlib>=2.0.0->fbprophet) (1.4.4)\n",
            "Requirement already satisfied: six>=1.5 in /usr/local/lib/python3.8/dist-packages (from python-dateutil>=2.8.0->fbprophet) (1.15.0)\n",
            "Building wheels for collected packages: fbprophet\n",
            "  Building wheel for fbprophet (setup.py) ... \u001b[?25l\u001b[?25hdone\n",
            "  Created wheel for fbprophet: filename=fbprophet-0.7.1-py3-none-any.whl size=6751732 sha256=629cd2f95f8eff60141440bc2a3dffe874f8c967fb24c73185058185f476f0a2\n",
            "  Stored in directory: /root/.cache/pip/wheels/d0/d2/ae/c579b7fd160999d35908f3cb8ebcad7ef64ecaca7b78e4c3c8\n",
            "Successfully built fbprophet\n",
            "\u001b[33mWARNING: Ignoring invalid distribution -ystan (/usr/local/lib/python3.8/dist-packages)\u001b[0m\n",
            "Installing collected packages: cmdstanpy, fbprophet\n",
            "  Attempting uninstall: cmdstanpy\n",
            "\u001b[33m    WARNING: Ignoring invalid distribution -ystan (/usr/local/lib/python3.8/dist-packages)\u001b[0m\n",
            "    Found existing installation: cmdstanpy 1.0.8\n",
            "    Uninstalling cmdstanpy-1.0.8:\n",
            "      Successfully uninstalled cmdstanpy-1.0.8\n",
            "\u001b[33mWARNING: Ignoring invalid distribution -ystan (/usr/local/lib/python3.8/dist-packages)\u001b[0m\n",
            "\u001b[33mWARNING: Ignoring invalid distribution -ystan (/usr/local/lib/python3.8/dist-packages)\u001b[0m\n",
            "\u001b[31mERROR: pip's dependency resolver does not currently take into account all the packages that are installed. This behaviour is the source of the following dependency conflicts.\n",
            "prophet 1.1.1 requires cmdstanpy>=1.0.4, but you have cmdstanpy 0.9.5 which is incompatible.\u001b[0m\n",
            "Successfully installed cmdstanpy-0.9.5 fbprophet-0.7.1\n"
          ]
        }
      ],
      "source": [
        "!pip install pystan~=2.14\n",
        "!pip install fbprophet"
      ]
    },
    {
      "cell_type": "code",
      "source": [
        "#import libraries\n",
        "import itertools #used to iterate over data structures that can be stepped over using a for-loop\n",
        "from fbprophet import Prophet #provided completely automated forecasts\n",
        "import pandas as pd #analyze data\n",
        "import numpy as np #provided a large number of mathematical, algebraic, and transformation functions\n",
        "import matplotlib.pyplot as plt #create 2D graphs and plots by using python scripts\n",
        "import matplotlib.dates as mdates #plot data that consists of dates."
      ],
      "metadata": {
        "id": "nELnHaxgrVae"
      },
      "execution_count": 5,
      "outputs": []
    },
    {
      "cell_type": "code",
      "source": [
        "#get the data\n",
        "data = pd.read_csv(\"/content/BTC-USD.csv\")\n",
        "data.head(5)"
      ],
      "metadata": {
        "id": "4Mn_1TOPrWnV",
        "colab": {
          "base_uri": "https://localhost:8080/",
          "height": 206
        },
        "outputId": "cca0299a-25c1-48b6-e95d-14b77310a4f9"
      },
      "execution_count": 6,
      "outputs": [
        {
          "output_type": "execute_result",
          "data": {
            "text/plain": [
              "         Date          Open          High           Low         Close  \\\n",
              "0  2017-12-26  14036.599609  16461.199219  14028.900391  16099.799805   \n",
              "1  2017-12-27  16163.500000  16930.900391  15114.299805  15838.500000   \n",
              "2  2017-12-28  15864.099609  15888.400391  13937.299805  14606.500000   \n",
              "3  2017-12-29  14695.799805  15279.000000  14307.000000  14656.200195   \n",
              "4  2017-12-30  14681.900391  14681.900391  12350.099609  12952.200195   \n",
              "\n",
              "      Adj Close       Volume  \n",
              "0  16099.799805  13454300160  \n",
              "1  15838.500000  12487600128  \n",
              "2  14606.500000  12336499712  \n",
              "3  14656.200195  13025500160  \n",
              "4  12952.200195  14452599808  "
            ],
            "text/html": [
              "\n",
              "  <div id=\"df-0382bab2-fa28-4c58-855f-4635c72ac125\">\n",
              "    <div class=\"colab-df-container\">\n",
              "      <div>\n",
              "<style scoped>\n",
              "    .dataframe tbody tr th:only-of-type {\n",
              "        vertical-align: middle;\n",
              "    }\n",
              "\n",
              "    .dataframe tbody tr th {\n",
              "        vertical-align: top;\n",
              "    }\n",
              "\n",
              "    .dataframe thead th {\n",
              "        text-align: right;\n",
              "    }\n",
              "</style>\n",
              "<table border=\"1\" class=\"dataframe\">\n",
              "  <thead>\n",
              "    <tr style=\"text-align: right;\">\n",
              "      <th></th>\n",
              "      <th>Date</th>\n",
              "      <th>Open</th>\n",
              "      <th>High</th>\n",
              "      <th>Low</th>\n",
              "      <th>Close</th>\n",
              "      <th>Adj Close</th>\n",
              "      <th>Volume</th>\n",
              "    </tr>\n",
              "  </thead>\n",
              "  <tbody>\n",
              "    <tr>\n",
              "      <th>0</th>\n",
              "      <td>2017-12-26</td>\n",
              "      <td>14036.599609</td>\n",
              "      <td>16461.199219</td>\n",
              "      <td>14028.900391</td>\n",
              "      <td>16099.799805</td>\n",
              "      <td>16099.799805</td>\n",
              "      <td>13454300160</td>\n",
              "    </tr>\n",
              "    <tr>\n",
              "      <th>1</th>\n",
              "      <td>2017-12-27</td>\n",
              "      <td>16163.500000</td>\n",
              "      <td>16930.900391</td>\n",
              "      <td>15114.299805</td>\n",
              "      <td>15838.500000</td>\n",
              "      <td>15838.500000</td>\n",
              "      <td>12487600128</td>\n",
              "    </tr>\n",
              "    <tr>\n",
              "      <th>2</th>\n",
              "      <td>2017-12-28</td>\n",
              "      <td>15864.099609</td>\n",
              "      <td>15888.400391</td>\n",
              "      <td>13937.299805</td>\n",
              "      <td>14606.500000</td>\n",
              "      <td>14606.500000</td>\n",
              "      <td>12336499712</td>\n",
              "    </tr>\n",
              "    <tr>\n",
              "      <th>3</th>\n",
              "      <td>2017-12-29</td>\n",
              "      <td>14695.799805</td>\n",
              "      <td>15279.000000</td>\n",
              "      <td>14307.000000</td>\n",
              "      <td>14656.200195</td>\n",
              "      <td>14656.200195</td>\n",
              "      <td>13025500160</td>\n",
              "    </tr>\n",
              "    <tr>\n",
              "      <th>4</th>\n",
              "      <td>2017-12-30</td>\n",
              "      <td>14681.900391</td>\n",
              "      <td>14681.900391</td>\n",
              "      <td>12350.099609</td>\n",
              "      <td>12952.200195</td>\n",
              "      <td>12952.200195</td>\n",
              "      <td>14452599808</td>\n",
              "    </tr>\n",
              "  </tbody>\n",
              "</table>\n",
              "</div>\n",
              "      <button class=\"colab-df-convert\" onclick=\"convertToInteractive('df-0382bab2-fa28-4c58-855f-4635c72ac125')\"\n",
              "              title=\"Convert this dataframe to an interactive table.\"\n",
              "              style=\"display:none;\">\n",
              "        \n",
              "  <svg xmlns=\"http://www.w3.org/2000/svg\" height=\"24px\"viewBox=\"0 0 24 24\"\n",
              "       width=\"24px\">\n",
              "    <path d=\"M0 0h24v24H0V0z\" fill=\"none\"/>\n",
              "    <path d=\"M18.56 5.44l.94 2.06.94-2.06 2.06-.94-2.06-.94-.94-2.06-.94 2.06-2.06.94zm-11 1L8.5 8.5l.94-2.06 2.06-.94-2.06-.94L8.5 2.5l-.94 2.06-2.06.94zm10 10l.94 2.06.94-2.06 2.06-.94-2.06-.94-.94-2.06-.94 2.06-2.06.94z\"/><path d=\"M17.41 7.96l-1.37-1.37c-.4-.4-.92-.59-1.43-.59-.52 0-1.04.2-1.43.59L10.3 9.45l-7.72 7.72c-.78.78-.78 2.05 0 2.83L4 21.41c.39.39.9.59 1.41.59.51 0 1.02-.2 1.41-.59l7.78-7.78 2.81-2.81c.8-.78.8-2.07 0-2.86zM5.41 20L4 18.59l7.72-7.72 1.47 1.35L5.41 20z\"/>\n",
              "  </svg>\n",
              "      </button>\n",
              "      \n",
              "  <style>\n",
              "    .colab-df-container {\n",
              "      display:flex;\n",
              "      flex-wrap:wrap;\n",
              "      gap: 12px;\n",
              "    }\n",
              "\n",
              "    .colab-df-convert {\n",
              "      background-color: #E8F0FE;\n",
              "      border: none;\n",
              "      border-radius: 50%;\n",
              "      cursor: pointer;\n",
              "      display: none;\n",
              "      fill: #1967D2;\n",
              "      height: 32px;\n",
              "      padding: 0 0 0 0;\n",
              "      width: 32px;\n",
              "    }\n",
              "\n",
              "    .colab-df-convert:hover {\n",
              "      background-color: #E2EBFA;\n",
              "      box-shadow: 0px 1px 2px rgba(60, 64, 67, 0.3), 0px 1px 3px 1px rgba(60, 64, 67, 0.15);\n",
              "      fill: #174EA6;\n",
              "    }\n",
              "\n",
              "    [theme=dark] .colab-df-convert {\n",
              "      background-color: #3B4455;\n",
              "      fill: #D2E3FC;\n",
              "    }\n",
              "\n",
              "    [theme=dark] .colab-df-convert:hover {\n",
              "      background-color: #434B5C;\n",
              "      box-shadow: 0px 1px 3px 1px rgba(0, 0, 0, 0.15);\n",
              "      filter: drop-shadow(0px 1px 2px rgba(0, 0, 0, 0.3));\n",
              "      fill: #FFFFFF;\n",
              "    }\n",
              "  </style>\n",
              "\n",
              "      <script>\n",
              "        const buttonEl =\n",
              "          document.querySelector('#df-0382bab2-fa28-4c58-855f-4635c72ac125 button.colab-df-convert');\n",
              "        buttonEl.style.display =\n",
              "          google.colab.kernel.accessAllowed ? 'block' : 'none';\n",
              "\n",
              "        async function convertToInteractive(key) {\n",
              "          const element = document.querySelector('#df-0382bab2-fa28-4c58-855f-4635c72ac125');\n",
              "          const dataTable =\n",
              "            await google.colab.kernel.invokeFunction('convertToInteractive',\n",
              "                                                     [key], {});\n",
              "          if (!dataTable) return;\n",
              "\n",
              "          const docLinkHtml = 'Like what you see? Visit the ' +\n",
              "            '<a target=\"_blank\" href=https://colab.research.google.com/notebooks/data_table.ipynb>data table notebook</a>'\n",
              "            + ' to learn more about interactive tables.';\n",
              "          element.innerHTML = '';\n",
              "          dataTable['output_type'] = 'display_data';\n",
              "          await google.colab.output.renderOutput(dataTable, element);\n",
              "          const docLink = document.createElement('div');\n",
              "          docLink.innerHTML = docLinkHtml;\n",
              "          element.appendChild(docLink);\n",
              "        }\n",
              "      </script>\n",
              "    </div>\n",
              "  </div>\n",
              "  "
            ]
          },
          "metadata": {},
          "execution_count": 6
        }
      ]
    },
    {
      "cell_type": "code",
      "source": [
        "#select 2 variables: Date and Close\n",
        "dataset = data.loc[:, [\"Date\",\"Close\"]] #label indexing\n",
        "dataset.head(5) #display the number of rows of our choice                       "
      ],
      "metadata": {
        "colab": {
          "base_uri": "https://localhost:8080/",
          "height": 206
        },
        "id": "geGGKFwwrXkO",
        "outputId": "cc20a2dc-77b4-441e-e42d-5b5fcb7e2213"
      },
      "execution_count": 7,
      "outputs": [
        {
          "output_type": "execute_result",
          "data": {
            "text/plain": [
              "         Date         Close\n",
              "0  2017-12-26  16099.799805\n",
              "1  2017-12-27  15838.500000\n",
              "2  2017-12-28  14606.500000\n",
              "3  2017-12-29  14656.200195\n",
              "4  2017-12-30  12952.200195"
            ],
            "text/html": [
              "\n",
              "  <div id=\"df-159c4c0d-71ee-4917-912b-47d5d3334a5c\">\n",
              "    <div class=\"colab-df-container\">\n",
              "      <div>\n",
              "<style scoped>\n",
              "    .dataframe tbody tr th:only-of-type {\n",
              "        vertical-align: middle;\n",
              "    }\n",
              "\n",
              "    .dataframe tbody tr th {\n",
              "        vertical-align: top;\n",
              "    }\n",
              "\n",
              "    .dataframe thead th {\n",
              "        text-align: right;\n",
              "    }\n",
              "</style>\n",
              "<table border=\"1\" class=\"dataframe\">\n",
              "  <thead>\n",
              "    <tr style=\"text-align: right;\">\n",
              "      <th></th>\n",
              "      <th>Date</th>\n",
              "      <th>Close</th>\n",
              "    </tr>\n",
              "  </thead>\n",
              "  <tbody>\n",
              "    <tr>\n",
              "      <th>0</th>\n",
              "      <td>2017-12-26</td>\n",
              "      <td>16099.799805</td>\n",
              "    </tr>\n",
              "    <tr>\n",
              "      <th>1</th>\n",
              "      <td>2017-12-27</td>\n",
              "      <td>15838.500000</td>\n",
              "    </tr>\n",
              "    <tr>\n",
              "      <th>2</th>\n",
              "      <td>2017-12-28</td>\n",
              "      <td>14606.500000</td>\n",
              "    </tr>\n",
              "    <tr>\n",
              "      <th>3</th>\n",
              "      <td>2017-12-29</td>\n",
              "      <td>14656.200195</td>\n",
              "    </tr>\n",
              "    <tr>\n",
              "      <th>4</th>\n",
              "      <td>2017-12-30</td>\n",
              "      <td>12952.200195</td>\n",
              "    </tr>\n",
              "  </tbody>\n",
              "</table>\n",
              "</div>\n",
              "      <button class=\"colab-df-convert\" onclick=\"convertToInteractive('df-159c4c0d-71ee-4917-912b-47d5d3334a5c')\"\n",
              "              title=\"Convert this dataframe to an interactive table.\"\n",
              "              style=\"display:none;\">\n",
              "        \n",
              "  <svg xmlns=\"http://www.w3.org/2000/svg\" height=\"24px\"viewBox=\"0 0 24 24\"\n",
              "       width=\"24px\">\n",
              "    <path d=\"M0 0h24v24H0V0z\" fill=\"none\"/>\n",
              "    <path d=\"M18.56 5.44l.94 2.06.94-2.06 2.06-.94-2.06-.94-.94-2.06-.94 2.06-2.06.94zm-11 1L8.5 8.5l.94-2.06 2.06-.94-2.06-.94L8.5 2.5l-.94 2.06-2.06.94zm10 10l.94 2.06.94-2.06 2.06-.94-2.06-.94-.94-2.06-.94 2.06-2.06.94z\"/><path d=\"M17.41 7.96l-1.37-1.37c-.4-.4-.92-.59-1.43-.59-.52 0-1.04.2-1.43.59L10.3 9.45l-7.72 7.72c-.78.78-.78 2.05 0 2.83L4 21.41c.39.39.9.59 1.41.59.51 0 1.02-.2 1.41-.59l7.78-7.78 2.81-2.81c.8-.78.8-2.07 0-2.86zM5.41 20L4 18.59l7.72-7.72 1.47 1.35L5.41 20z\"/>\n",
              "  </svg>\n",
              "      </button>\n",
              "      \n",
              "  <style>\n",
              "    .colab-df-container {\n",
              "      display:flex;\n",
              "      flex-wrap:wrap;\n",
              "      gap: 12px;\n",
              "    }\n",
              "\n",
              "    .colab-df-convert {\n",
              "      background-color: #E8F0FE;\n",
              "      border: none;\n",
              "      border-radius: 50%;\n",
              "      cursor: pointer;\n",
              "      display: none;\n",
              "      fill: #1967D2;\n",
              "      height: 32px;\n",
              "      padding: 0 0 0 0;\n",
              "      width: 32px;\n",
              "    }\n",
              "\n",
              "    .colab-df-convert:hover {\n",
              "      background-color: #E2EBFA;\n",
              "      box-shadow: 0px 1px 2px rgba(60, 64, 67, 0.3), 0px 1px 3px 1px rgba(60, 64, 67, 0.15);\n",
              "      fill: #174EA6;\n",
              "    }\n",
              "\n",
              "    [theme=dark] .colab-df-convert {\n",
              "      background-color: #3B4455;\n",
              "      fill: #D2E3FC;\n",
              "    }\n",
              "\n",
              "    [theme=dark] .colab-df-convert:hover {\n",
              "      background-color: #434B5C;\n",
              "      box-shadow: 0px 1px 3px 1px rgba(0, 0, 0, 0.15);\n",
              "      filter: drop-shadow(0px 1px 2px rgba(0, 0, 0, 0.3));\n",
              "      fill: #FFFFFF;\n",
              "    }\n",
              "  </style>\n",
              "\n",
              "      <script>\n",
              "        const buttonEl =\n",
              "          document.querySelector('#df-159c4c0d-71ee-4917-912b-47d5d3334a5c button.colab-df-convert');\n",
              "        buttonEl.style.display =\n",
              "          google.colab.kernel.accessAllowed ? 'block' : 'none';\n",
              "\n",
              "        async function convertToInteractive(key) {\n",
              "          const element = document.querySelector('#df-159c4c0d-71ee-4917-912b-47d5d3334a5c');\n",
              "          const dataTable =\n",
              "            await google.colab.kernel.invokeFunction('convertToInteractive',\n",
              "                                                     [key], {});\n",
              "          if (!dataTable) return;\n",
              "\n",
              "          const docLinkHtml = 'Like what you see? Visit the ' +\n",
              "            '<a target=\"_blank\" href=https://colab.research.google.com/notebooks/data_table.ipynb>data table notebook</a>'\n",
              "            + ' to learn more about interactive tables.';\n",
              "          element.innerHTML = '';\n",
              "          dataTable['output_type'] = 'display_data';\n",
              "          await google.colab.output.renderOutput(dataTable, element);\n",
              "          const docLink = document.createElement('div');\n",
              "          docLink.innerHTML = docLinkHtml;\n",
              "          element.appendChild(docLink);\n",
              "        }\n",
              "      </script>\n",
              "    </div>\n",
              "  </div>\n",
              "  "
            ]
          },
          "metadata": {},
          "execution_count": 7
        }
      ]
    },
    {
      "cell_type": "code",
      "source": [
        "dataset.info() #summary of the dataframe"
      ],
      "metadata": {
        "colab": {
          "base_uri": "https://localhost:8080/"
        },
        "id": "UtgNASLzry1-",
        "outputId": "d6215905-acdc-48e5-931e-89eab175df8d"
      },
      "execution_count": 8,
      "outputs": [
        {
          "output_type": "stream",
          "name": "stdout",
          "text": [
            "<class 'pandas.core.frame.DataFrame'>\n",
            "RangeIndex: 1827 entries, 0 to 1826\n",
            "Data columns (total 2 columns):\n",
            " #   Column  Non-Null Count  Dtype  \n",
            "---  ------  --------------  -----  \n",
            " 0   Date    1827 non-null   object \n",
            " 1   Close   1827 non-null   float64\n",
            "dtypes: float64(1), object(1)\n",
            "memory usage: 28.7+ KB\n"
          ]
        }
      ]
    },
    {
      "cell_type": "markdown",
      "source": [
        "#Data Transformation"
      ],
      "metadata": {
        "id": "NC0DxrhFFRZK"
      }
    },
    {
      "cell_type": "markdown",
      "source": [
        "After reading the input file, proceed to edit the data type and rename the column because Prophet is built with two main features:\n",
        "+ ds: has date format, timestamps\n",
        "+ y: represents the quantitative value, representing the measurement that we predict"
      ],
      "metadata": {
        "id": "_E7GKjl5FWX7"
      }
    },
    {
      "cell_type": "code",
      "source": [
        "#Date variable, return datetime format in python\n",
        "dataset.Date = pd.to_datetime(dataset.Date,\n",
        "                                format = \"%Y-%m-%d\")\n",
        "dataset.info()"
      ],
      "metadata": {
        "colab": {
          "base_uri": "https://localhost:8080/"
        },
        "id": "RlPkgEJ2rz2d",
        "outputId": "ff842d5e-0922-467b-f7e4-2d5c119ce2d2"
      },
      "execution_count": 9,
      "outputs": [
        {
          "output_type": "stream",
          "name": "stdout",
          "text": [
            "<class 'pandas.core.frame.DataFrame'>\n",
            "RangeIndex: 1827 entries, 0 to 1826\n",
            "Data columns (total 2 columns):\n",
            " #   Column  Non-Null Count  Dtype         \n",
            "---  ------  --------------  -----         \n",
            " 0   Date    1827 non-null   datetime64[ns]\n",
            " 1   Close   1827 non-null   float64       \n",
            "dtypes: datetime64[ns](1), float64(1)\n",
            "memory usage: 28.7 KB\n"
          ]
        }
      ]
    },
    {
      "cell_type": "code",
      "source": [
        "#renaming variable\n",
        "dataset = dataset.rename(columns = {'Close' : 'y'})\n",
        "dataset = dataset.rename(columns = {'Date' : 'ds'})\n",
        "dataset.head(5)"
      ],
      "metadata": {
        "colab": {
          "base_uri": "https://localhost:8080/",
          "height": 206
        },
        "id": "SJ0VYwbKr03A",
        "outputId": "4b00c11a-5539-47de-fd8c-5a849287c0c3"
      },
      "execution_count": 10,
      "outputs": [
        {
          "output_type": "execute_result",
          "data": {
            "text/plain": [
              "          ds             y\n",
              "0 2017-12-26  16099.799805\n",
              "1 2017-12-27  15838.500000\n",
              "2 2017-12-28  14606.500000\n",
              "3 2017-12-29  14656.200195\n",
              "4 2017-12-30  12952.200195"
            ],
            "text/html": [
              "\n",
              "  <div id=\"df-03dc9a08-3198-4f0b-ae9a-97db38d57098\">\n",
              "    <div class=\"colab-df-container\">\n",
              "      <div>\n",
              "<style scoped>\n",
              "    .dataframe tbody tr th:only-of-type {\n",
              "        vertical-align: middle;\n",
              "    }\n",
              "\n",
              "    .dataframe tbody tr th {\n",
              "        vertical-align: top;\n",
              "    }\n",
              "\n",
              "    .dataframe thead th {\n",
              "        text-align: right;\n",
              "    }\n",
              "</style>\n",
              "<table border=\"1\" class=\"dataframe\">\n",
              "  <thead>\n",
              "    <tr style=\"text-align: right;\">\n",
              "      <th></th>\n",
              "      <th>ds</th>\n",
              "      <th>y</th>\n",
              "    </tr>\n",
              "  </thead>\n",
              "  <tbody>\n",
              "    <tr>\n",
              "      <th>0</th>\n",
              "      <td>2017-12-26</td>\n",
              "      <td>16099.799805</td>\n",
              "    </tr>\n",
              "    <tr>\n",
              "      <th>1</th>\n",
              "      <td>2017-12-27</td>\n",
              "      <td>15838.500000</td>\n",
              "    </tr>\n",
              "    <tr>\n",
              "      <th>2</th>\n",
              "      <td>2017-12-28</td>\n",
              "      <td>14606.500000</td>\n",
              "    </tr>\n",
              "    <tr>\n",
              "      <th>3</th>\n",
              "      <td>2017-12-29</td>\n",
              "      <td>14656.200195</td>\n",
              "    </tr>\n",
              "    <tr>\n",
              "      <th>4</th>\n",
              "      <td>2017-12-30</td>\n",
              "      <td>12952.200195</td>\n",
              "    </tr>\n",
              "  </tbody>\n",
              "</table>\n",
              "</div>\n",
              "      <button class=\"colab-df-convert\" onclick=\"convertToInteractive('df-03dc9a08-3198-4f0b-ae9a-97db38d57098')\"\n",
              "              title=\"Convert this dataframe to an interactive table.\"\n",
              "              style=\"display:none;\">\n",
              "        \n",
              "  <svg xmlns=\"http://www.w3.org/2000/svg\" height=\"24px\"viewBox=\"0 0 24 24\"\n",
              "       width=\"24px\">\n",
              "    <path d=\"M0 0h24v24H0V0z\" fill=\"none\"/>\n",
              "    <path d=\"M18.56 5.44l.94 2.06.94-2.06 2.06-.94-2.06-.94-.94-2.06-.94 2.06-2.06.94zm-11 1L8.5 8.5l.94-2.06 2.06-.94-2.06-.94L8.5 2.5l-.94 2.06-2.06.94zm10 10l.94 2.06.94-2.06 2.06-.94-2.06-.94-.94-2.06-.94 2.06-2.06.94z\"/><path d=\"M17.41 7.96l-1.37-1.37c-.4-.4-.92-.59-1.43-.59-.52 0-1.04.2-1.43.59L10.3 9.45l-7.72 7.72c-.78.78-.78 2.05 0 2.83L4 21.41c.39.39.9.59 1.41.59.51 0 1.02-.2 1.41-.59l7.78-7.78 2.81-2.81c.8-.78.8-2.07 0-2.86zM5.41 20L4 18.59l7.72-7.72 1.47 1.35L5.41 20z\"/>\n",
              "  </svg>\n",
              "      </button>\n",
              "      \n",
              "  <style>\n",
              "    .colab-df-container {\n",
              "      display:flex;\n",
              "      flex-wrap:wrap;\n",
              "      gap: 12px;\n",
              "    }\n",
              "\n",
              "    .colab-df-convert {\n",
              "      background-color: #E8F0FE;\n",
              "      border: none;\n",
              "      border-radius: 50%;\n",
              "      cursor: pointer;\n",
              "      display: none;\n",
              "      fill: #1967D2;\n",
              "      height: 32px;\n",
              "      padding: 0 0 0 0;\n",
              "      width: 32px;\n",
              "    }\n",
              "\n",
              "    .colab-df-convert:hover {\n",
              "      background-color: #E2EBFA;\n",
              "      box-shadow: 0px 1px 2px rgba(60, 64, 67, 0.3), 0px 1px 3px 1px rgba(60, 64, 67, 0.15);\n",
              "      fill: #174EA6;\n",
              "    }\n",
              "\n",
              "    [theme=dark] .colab-df-convert {\n",
              "      background-color: #3B4455;\n",
              "      fill: #D2E3FC;\n",
              "    }\n",
              "\n",
              "    [theme=dark] .colab-df-convert:hover {\n",
              "      background-color: #434B5C;\n",
              "      box-shadow: 0px 1px 3px 1px rgba(0, 0, 0, 0.15);\n",
              "      filter: drop-shadow(0px 1px 2px rgba(0, 0, 0, 0.3));\n",
              "      fill: #FFFFFF;\n",
              "    }\n",
              "  </style>\n",
              "\n",
              "      <script>\n",
              "        const buttonEl =\n",
              "          document.querySelector('#df-03dc9a08-3198-4f0b-ae9a-97db38d57098 button.colab-df-convert');\n",
              "        buttonEl.style.display =\n",
              "          google.colab.kernel.accessAllowed ? 'block' : 'none';\n",
              "\n",
              "        async function convertToInteractive(key) {\n",
              "          const element = document.querySelector('#df-03dc9a08-3198-4f0b-ae9a-97db38d57098');\n",
              "          const dataTable =\n",
              "            await google.colab.kernel.invokeFunction('convertToInteractive',\n",
              "                                                     [key], {});\n",
              "          if (!dataTable) return;\n",
              "\n",
              "          const docLinkHtml = 'Like what you see? Visit the ' +\n",
              "            '<a target=\"_blank\" href=https://colab.research.google.com/notebooks/data_table.ipynb>data table notebook</a>'\n",
              "            + ' to learn more about interactive tables.';\n",
              "          element.innerHTML = '';\n",
              "          dataTable['output_type'] = 'display_data';\n",
              "          await google.colab.output.renderOutput(dataTable, element);\n",
              "          const docLink = document.createElement('div');\n",
              "          docLink.innerHTML = docLinkHtml;\n",
              "          element.appendChild(docLink);\n",
              "        }\n",
              "      </script>\n",
              "    </div>\n",
              "  </div>\n",
              "  "
            ]
          },
          "metadata": {},
          "execution_count": 10
        }
      ]
    },
    {
      "cell_type": "markdown",
      "source": [
        "#Training and Test Set"
      ],
      "metadata": {
        "id": "tffOZMQuFY2F"
      }
    },
    {
      "cell_type": "markdown",
      "source": [
        "Next, the data will be split, then it can be split according to the ratio of 80% train and 20% test or choose a certain length as the test data set length.\n",
        "\n",
        "Here, we use the last 31 lines to test the prediction results and the remaining lines to build the model."
      ],
      "metadata": {
        "id": "1GPDRV06FiUL"
      }
    },
    {
      "cell_type": "code",
      "source": [
        "#Training and test set\n",
        "test_days = int(len(dataset)*0.2) #take 20% length of test data \n",
        "training_set = dataset.iloc[:-test_days, :] #training_set: subset to train the model\n",
        "test_set = dataset.iloc[-test_days:, :] #test_set: subset to test the model\n",
        "test_set.tail(5)"
      ],
      "metadata": {
        "colab": {
          "base_uri": "https://localhost:8080/",
          "height": 206
        },
        "id": "UDMuiFk8FxpK",
        "outputId": "5f5dad63-33fe-465b-dbd1-f4f2efe3394c"
      },
      "execution_count": 33,
      "outputs": [
        {
          "output_type": "execute_result",
          "data": {
            "text/plain": [
              "             ds             y\n",
              "1822 2022-12-22  16830.341797\n",
              "1823 2022-12-23  16796.953125\n",
              "1824 2022-12-24  16847.755859\n",
              "1825 2022-12-25  16841.986328\n",
              "1826 2022-12-26  16848.796875"
            ],
            "text/html": [
              "\n",
              "  <div id=\"df-4ed1b4e6-6f8a-42af-a1ee-ca5623b0ec27\">\n",
              "    <div class=\"colab-df-container\">\n",
              "      <div>\n",
              "<style scoped>\n",
              "    .dataframe tbody tr th:only-of-type {\n",
              "        vertical-align: middle;\n",
              "    }\n",
              "\n",
              "    .dataframe tbody tr th {\n",
              "        vertical-align: top;\n",
              "    }\n",
              "\n",
              "    .dataframe thead th {\n",
              "        text-align: right;\n",
              "    }\n",
              "</style>\n",
              "<table border=\"1\" class=\"dataframe\">\n",
              "  <thead>\n",
              "    <tr style=\"text-align: right;\">\n",
              "      <th></th>\n",
              "      <th>ds</th>\n",
              "      <th>y</th>\n",
              "    </tr>\n",
              "  </thead>\n",
              "  <tbody>\n",
              "    <tr>\n",
              "      <th>1822</th>\n",
              "      <td>2022-12-22</td>\n",
              "      <td>16830.341797</td>\n",
              "    </tr>\n",
              "    <tr>\n",
              "      <th>1823</th>\n",
              "      <td>2022-12-23</td>\n",
              "      <td>16796.953125</td>\n",
              "    </tr>\n",
              "    <tr>\n",
              "      <th>1824</th>\n",
              "      <td>2022-12-24</td>\n",
              "      <td>16847.755859</td>\n",
              "    </tr>\n",
              "    <tr>\n",
              "      <th>1825</th>\n",
              "      <td>2022-12-25</td>\n",
              "      <td>16841.986328</td>\n",
              "    </tr>\n",
              "    <tr>\n",
              "      <th>1826</th>\n",
              "      <td>2022-12-26</td>\n",
              "      <td>16848.796875</td>\n",
              "    </tr>\n",
              "  </tbody>\n",
              "</table>\n",
              "</div>\n",
              "      <button class=\"colab-df-convert\" onclick=\"convertToInteractive('df-4ed1b4e6-6f8a-42af-a1ee-ca5623b0ec27')\"\n",
              "              title=\"Convert this dataframe to an interactive table.\"\n",
              "              style=\"display:none;\">\n",
              "        \n",
              "  <svg xmlns=\"http://www.w3.org/2000/svg\" height=\"24px\"viewBox=\"0 0 24 24\"\n",
              "       width=\"24px\">\n",
              "    <path d=\"M0 0h24v24H0V0z\" fill=\"none\"/>\n",
              "    <path d=\"M18.56 5.44l.94 2.06.94-2.06 2.06-.94-2.06-.94-.94-2.06-.94 2.06-2.06.94zm-11 1L8.5 8.5l.94-2.06 2.06-.94-2.06-.94L8.5 2.5l-.94 2.06-2.06.94zm10 10l.94 2.06.94-2.06 2.06-.94-2.06-.94-.94-2.06-.94 2.06-2.06.94z\"/><path d=\"M17.41 7.96l-1.37-1.37c-.4-.4-.92-.59-1.43-.59-.52 0-1.04.2-1.43.59L10.3 9.45l-7.72 7.72c-.78.78-.78 2.05 0 2.83L4 21.41c.39.39.9.59 1.41.59.51 0 1.02-.2 1.41-.59l7.78-7.78 2.81-2.81c.8-.78.8-2.07 0-2.86zM5.41 20L4 18.59l7.72-7.72 1.47 1.35L5.41 20z\"/>\n",
              "  </svg>\n",
              "      </button>\n",
              "      \n",
              "  <style>\n",
              "    .colab-df-container {\n",
              "      display:flex;\n",
              "      flex-wrap:wrap;\n",
              "      gap: 12px;\n",
              "    }\n",
              "\n",
              "    .colab-df-convert {\n",
              "      background-color: #E8F0FE;\n",
              "      border: none;\n",
              "      border-radius: 50%;\n",
              "      cursor: pointer;\n",
              "      display: none;\n",
              "      fill: #1967D2;\n",
              "      height: 32px;\n",
              "      padding: 0 0 0 0;\n",
              "      width: 32px;\n",
              "    }\n",
              "\n",
              "    .colab-df-convert:hover {\n",
              "      background-color: #E2EBFA;\n",
              "      box-shadow: 0px 1px 2px rgba(60, 64, 67, 0.3), 0px 1px 3px 1px rgba(60, 64, 67, 0.15);\n",
              "      fill: #174EA6;\n",
              "    }\n",
              "\n",
              "    [theme=dark] .colab-df-convert {\n",
              "      background-color: #3B4455;\n",
              "      fill: #D2E3FC;\n",
              "    }\n",
              "\n",
              "    [theme=dark] .colab-df-convert:hover {\n",
              "      background-color: #434B5C;\n",
              "      box-shadow: 0px 1px 3px 1px rgba(0, 0, 0, 0.15);\n",
              "      filter: drop-shadow(0px 1px 2px rgba(0, 0, 0, 0.3));\n",
              "      fill: #FFFFFF;\n",
              "    }\n",
              "  </style>\n",
              "\n",
              "      <script>\n",
              "        const buttonEl =\n",
              "          document.querySelector('#df-4ed1b4e6-6f8a-42af-a1ee-ca5623b0ec27 button.colab-df-convert');\n",
              "        buttonEl.style.display =\n",
              "          google.colab.kernel.accessAllowed ? 'block' : 'none';\n",
              "\n",
              "        async function convertToInteractive(key) {\n",
              "          const element = document.querySelector('#df-4ed1b4e6-6f8a-42af-a1ee-ca5623b0ec27');\n",
              "          const dataTable =\n",
              "            await google.colab.kernel.invokeFunction('convertToInteractive',\n",
              "                                                     [key], {});\n",
              "          if (!dataTable) return;\n",
              "\n",
              "          const docLinkHtml = 'Like what you see? Visit the ' +\n",
              "            '<a target=\"_blank\" href=https://colab.research.google.com/notebooks/data_table.ipynb>data table notebook</a>'\n",
              "            + ' to learn more about interactive tables.';\n",
              "          element.innerHTML = '';\n",
              "          dataTable['output_type'] = 'display_data';\n",
              "          await google.colab.output.renderOutput(dataTable, element);\n",
              "          const docLink = document.createElement('div');\n",
              "          docLink.innerHTML = docLinkHtml;\n",
              "          element.appendChild(docLink);\n",
              "        }\n",
              "      </script>\n",
              "    </div>\n",
              "  </div>\n",
              "  "
            ]
          },
          "metadata": {},
          "execution_count": 33
        }
      ]
    },
    {
      "cell_type": "code",
      "source": [
        "len(training_set)"
      ],
      "metadata": {
        "colab": {
          "base_uri": "https://localhost:8080/"
        },
        "id": "m_3Onxbb9Uat",
        "outputId": "c34296f1-5bb0-4dfe-98c7-9f8d0e61ffb6"
      },
      "execution_count": 34,
      "outputs": [
        {
          "output_type": "execute_result",
          "data": {
            "text/plain": [
              "1462"
            ]
          },
          "metadata": {},
          "execution_count": 34
        }
      ]
    },
    {
      "cell_type": "code",
      "source": [
        "len(test_set)"
      ],
      "metadata": {
        "colab": {
          "base_uri": "https://localhost:8080/"
        },
        "id": "hRKoCsKa9XNk",
        "outputId": "f322227e-992f-4b91-9638-8e87dd71118d"
      },
      "execution_count": 35,
      "outputs": [
        {
          "output_type": "execute_result",
          "data": {
            "text/plain": [
              "365"
            ]
          },
          "metadata": {},
          "execution_count": 35
        }
      ]
    },
    {
      "cell_type": "markdown",
      "source": [
        "First, build the Prophet model.\n",
        "\n",
        "In this model there are many parameters such as:\n",
        "\n",
        "*   growth: trend of the pattern\n",
        "\n",
        "*   changepoint_num: maximum number of trend change points\n",
        "\n",
        "*   changepoint_range: range affects the distance between change points to the time series. \n",
        "\n",
        "**Note:** The larger the value, the more flexible the trend is.\n",
        "\n",
        "*   Seasonality by year, week, and day: seasonality_yearly, seasonality_weekly, seasonality_daily.\n",
        "\n",
        "*   seasonality_mode: seasonality.\n",
        "\n",
        "*   changepoint_prior_scale: adjust the strength of the trend. The default \n",
        "\n",
        "*   changepoint_prior_scale is 0.05. When changepoint_prior_scale goes down, the trend is less active and conversely, when changepoint_prior_scale is increased, the trend is more flexible.\n",
        "\n"
      ],
      "metadata": {
        "id": "ksyqWazzFrih"
      }
    },
    {
      "cell_type": "code",
      "source": [
        "#Facebook Prophet model\n",
        "m = Prophet(growth = \"linear\",\n",
        "            yearly_seasonality = True, #True or False if there is or there isn’t yearly seasonality.\n",
        "            weekly_seasonality = True, #True or False if there is or there isn’t weekly seasonality. \n",
        "            daily_seasonality = False, #True or False if there is or there isn’t daily seasonality. \n",
        "            seasonality_mode = \"multiplicative\", #the effect of the seasonality is added to the trend to get the forecast.\n",
        "            seasonality_prior_scale = 10, #strength of the seasonality component or components. This value can be general for all the seasonalities or adjusted specifically for each of them.\n",
        "            holidays_prior_scale = 10, #strength of the holiday component.\n",
        "            changepoint_prior_scale = 0.05) #the strength or possibility of trend change. The bigger the value, the higher the flexibility of the trend.\n",
        "m.fit(training_set)"
      ],
      "metadata": {
        "colab": {
          "base_uri": "https://localhost:8080/"
        },
        "id": "BYrtBVrer8dW",
        "outputId": "db4e3d32-050a-4ec7-dbdf-8a7d262999f6"
      },
      "execution_count": 37,
      "outputs": [
        {
          "output_type": "execute_result",
          "data": {
            "text/plain": [
              "<fbprophet.forecaster.Prophet at 0x7f3660579fd0>"
            ]
          },
          "metadata": {},
          "execution_count": 37
        }
      ]
    },
    {
      "cell_type": "markdown",
      "source": [
        "#forecasting "
      ],
      "metadata": {
        "id": "Y7ISYpZnF1ZU"
      }
    },
    {
      "cell_type": "markdown",
      "source": [
        "Because Prophet predicts values based on time series, it is necessary to create a dataframe containing the dates to be predicted in the future.\n",
        "Here, there are two ways:\n",
        "\n",
        "*   Use an existing test_set\n",
        "\n",
        "*   In the absence of test_set, use the make_future_dataframe function.\n",
        "\n",
        "Including some parameters:\n",
        "\n",
        "*   m: model Prophet\n",
        "\n",
        "*   periods: predicted period\n",
        "\n",
        "*   freq: 'day', 'week', 'month', 'quarter', 'year', 1(1 sec), 60(1 minute) or 3600(1 hour).\n",
        "\n",
        "*   include_history : Boolean data type, check dataset containing dataframe about historical dates\n",
        "\n",
        "Through the make_futuer_dataframe function, Prophet helps generate the next days for prediction. In this code, we predict the next 31 days. And one important thing is that we need to determine the frequency of data we want. Suppose, for daily data <strong>fred='D'</strong> or monthly data <strong>fred='MS'</strong>. However, by default, Prophet provides prediction data by date.\n",
        "\n",
        "\n"
      ],
      "metadata": {
        "id": "JQa1q496F2pc"
      }
    },
    {
      "cell_type": "code",
      "source": [
        "future = m.make_future_dataframe(periods = len(test_set),\n",
        "                                 freq = \"D\")\n",
        "future.tail(5)"
      ],
      "metadata": {
        "colab": {
          "base_uri": "https://localhost:8080/",
          "height": 206
        },
        "id": "77N4hb5Gr9pN",
        "outputId": "749f7df9-b6b1-4b27-8048-19125c9305c2"
      },
      "execution_count": 38,
      "outputs": [
        {
          "output_type": "execute_result",
          "data": {
            "text/plain": [
              "             ds\n",
              "1822 2022-12-22\n",
              "1823 2022-12-23\n",
              "1824 2022-12-24\n",
              "1825 2022-12-25\n",
              "1826 2022-12-26"
            ],
            "text/html": [
              "\n",
              "  <div id=\"df-160fd1cb-447c-4f2b-b8c6-e8d6b727bf21\">\n",
              "    <div class=\"colab-df-container\">\n",
              "      <div>\n",
              "<style scoped>\n",
              "    .dataframe tbody tr th:only-of-type {\n",
              "        vertical-align: middle;\n",
              "    }\n",
              "\n",
              "    .dataframe tbody tr th {\n",
              "        vertical-align: top;\n",
              "    }\n",
              "\n",
              "    .dataframe thead th {\n",
              "        text-align: right;\n",
              "    }\n",
              "</style>\n",
              "<table border=\"1\" class=\"dataframe\">\n",
              "  <thead>\n",
              "    <tr style=\"text-align: right;\">\n",
              "      <th></th>\n",
              "      <th>ds</th>\n",
              "    </tr>\n",
              "  </thead>\n",
              "  <tbody>\n",
              "    <tr>\n",
              "      <th>1822</th>\n",
              "      <td>2022-12-22</td>\n",
              "    </tr>\n",
              "    <tr>\n",
              "      <th>1823</th>\n",
              "      <td>2022-12-23</td>\n",
              "    </tr>\n",
              "    <tr>\n",
              "      <th>1824</th>\n",
              "      <td>2022-12-24</td>\n",
              "    </tr>\n",
              "    <tr>\n",
              "      <th>1825</th>\n",
              "      <td>2022-12-25</td>\n",
              "    </tr>\n",
              "    <tr>\n",
              "      <th>1826</th>\n",
              "      <td>2022-12-26</td>\n",
              "    </tr>\n",
              "  </tbody>\n",
              "</table>\n",
              "</div>\n",
              "      <button class=\"colab-df-convert\" onclick=\"convertToInteractive('df-160fd1cb-447c-4f2b-b8c6-e8d6b727bf21')\"\n",
              "              title=\"Convert this dataframe to an interactive table.\"\n",
              "              style=\"display:none;\">\n",
              "        \n",
              "  <svg xmlns=\"http://www.w3.org/2000/svg\" height=\"24px\"viewBox=\"0 0 24 24\"\n",
              "       width=\"24px\">\n",
              "    <path d=\"M0 0h24v24H0V0z\" fill=\"none\"/>\n",
              "    <path d=\"M18.56 5.44l.94 2.06.94-2.06 2.06-.94-2.06-.94-.94-2.06-.94 2.06-2.06.94zm-11 1L8.5 8.5l.94-2.06 2.06-.94-2.06-.94L8.5 2.5l-.94 2.06-2.06.94zm10 10l.94 2.06.94-2.06 2.06-.94-2.06-.94-.94-2.06-.94 2.06-2.06.94z\"/><path d=\"M17.41 7.96l-1.37-1.37c-.4-.4-.92-.59-1.43-.59-.52 0-1.04.2-1.43.59L10.3 9.45l-7.72 7.72c-.78.78-.78 2.05 0 2.83L4 21.41c.39.39.9.59 1.41.59.51 0 1.02-.2 1.41-.59l7.78-7.78 2.81-2.81c.8-.78.8-2.07 0-2.86zM5.41 20L4 18.59l7.72-7.72 1.47 1.35L5.41 20z\"/>\n",
              "  </svg>\n",
              "      </button>\n",
              "      \n",
              "  <style>\n",
              "    .colab-df-container {\n",
              "      display:flex;\n",
              "      flex-wrap:wrap;\n",
              "      gap: 12px;\n",
              "    }\n",
              "\n",
              "    .colab-df-convert {\n",
              "      background-color: #E8F0FE;\n",
              "      border: none;\n",
              "      border-radius: 50%;\n",
              "      cursor: pointer;\n",
              "      display: none;\n",
              "      fill: #1967D2;\n",
              "      height: 32px;\n",
              "      padding: 0 0 0 0;\n",
              "      width: 32px;\n",
              "    }\n",
              "\n",
              "    .colab-df-convert:hover {\n",
              "      background-color: #E2EBFA;\n",
              "      box-shadow: 0px 1px 2px rgba(60, 64, 67, 0.3), 0px 1px 3px 1px rgba(60, 64, 67, 0.15);\n",
              "      fill: #174EA6;\n",
              "    }\n",
              "\n",
              "    [theme=dark] .colab-df-convert {\n",
              "      background-color: #3B4455;\n",
              "      fill: #D2E3FC;\n",
              "    }\n",
              "\n",
              "    [theme=dark] .colab-df-convert:hover {\n",
              "      background-color: #434B5C;\n",
              "      box-shadow: 0px 1px 3px 1px rgba(0, 0, 0, 0.15);\n",
              "      filter: drop-shadow(0px 1px 2px rgba(0, 0, 0, 0.3));\n",
              "      fill: #FFFFFF;\n",
              "    }\n",
              "  </style>\n",
              "\n",
              "      <script>\n",
              "        const buttonEl =\n",
              "          document.querySelector('#df-160fd1cb-447c-4f2b-b8c6-e8d6b727bf21 button.colab-df-convert');\n",
              "        buttonEl.style.display =\n",
              "          google.colab.kernel.accessAllowed ? 'block' : 'none';\n",
              "\n",
              "        async function convertToInteractive(key) {\n",
              "          const element = document.querySelector('#df-160fd1cb-447c-4f2b-b8c6-e8d6b727bf21');\n",
              "          const dataTable =\n",
              "            await google.colab.kernel.invokeFunction('convertToInteractive',\n",
              "                                                     [key], {});\n",
              "          if (!dataTable) return;\n",
              "\n",
              "          const docLinkHtml = 'Like what you see? Visit the ' +\n",
              "            '<a target=\"_blank\" href=https://colab.research.google.com/notebooks/data_table.ipynb>data table notebook</a>'\n",
              "            + ' to learn more about interactive tables.';\n",
              "          element.innerHTML = '';\n",
              "          dataTable['output_type'] = 'display_data';\n",
              "          await google.colab.output.renderOutput(dataTable, element);\n",
              "          const docLink = document.createElement('div');\n",
              "          docLink.innerHTML = docLinkHtml;\n",
              "          element.appendChild(docLink);\n",
              "        }\n",
              "      </script>\n",
              "    </div>\n",
              "  </div>\n",
              "  "
            ]
          },
          "metadata": {},
          "execution_count": 38
        }
      ]
    },
    {
      "cell_type": "markdown",
      "source": [
        "Match the newly created column ds with the actual value in the test dataset."
      ],
      "metadata": {
        "id": "rSmgqbQZF50F"
      }
    },
    {
      "cell_type": "code",
      "source": [
        "#merge regressors\n",
        "future = pd.concat([future, dataset.iloc[:,1:]], \n",
        "                   axis = 1)#concat: used to concatenate pandas objects along a particular axis with optional set logic along the other axes. \n",
        "future"
      ],
      "metadata": {
        "colab": {
          "base_uri": "https://localhost:8080/",
          "height": 424
        },
        "id": "ekmXN3NWr_Gl",
        "outputId": "b55da33b-c244-47ce-d4b6-4e043d2baac9"
      },
      "execution_count": 39,
      "outputs": [
        {
          "output_type": "execute_result",
          "data": {
            "text/plain": [
              "             ds             y\n",
              "0    2017-12-26  16099.799805\n",
              "1    2017-12-27  15838.500000\n",
              "2    2017-12-28  14606.500000\n",
              "3    2017-12-29  14656.200195\n",
              "4    2017-12-30  12952.200195\n",
              "...         ...           ...\n",
              "1822 2022-12-22  16830.341797\n",
              "1823 2022-12-23  16796.953125\n",
              "1824 2022-12-24  16847.755859\n",
              "1825 2022-12-25  16841.986328\n",
              "1826 2022-12-26  16848.796875\n",
              "\n",
              "[1827 rows x 2 columns]"
            ],
            "text/html": [
              "\n",
              "  <div id=\"df-802a39af-7547-485d-b81f-6f8763a06f31\">\n",
              "    <div class=\"colab-df-container\">\n",
              "      <div>\n",
              "<style scoped>\n",
              "    .dataframe tbody tr th:only-of-type {\n",
              "        vertical-align: middle;\n",
              "    }\n",
              "\n",
              "    .dataframe tbody tr th {\n",
              "        vertical-align: top;\n",
              "    }\n",
              "\n",
              "    .dataframe thead th {\n",
              "        text-align: right;\n",
              "    }\n",
              "</style>\n",
              "<table border=\"1\" class=\"dataframe\">\n",
              "  <thead>\n",
              "    <tr style=\"text-align: right;\">\n",
              "      <th></th>\n",
              "      <th>ds</th>\n",
              "      <th>y</th>\n",
              "    </tr>\n",
              "  </thead>\n",
              "  <tbody>\n",
              "    <tr>\n",
              "      <th>0</th>\n",
              "      <td>2017-12-26</td>\n",
              "      <td>16099.799805</td>\n",
              "    </tr>\n",
              "    <tr>\n",
              "      <th>1</th>\n",
              "      <td>2017-12-27</td>\n",
              "      <td>15838.500000</td>\n",
              "    </tr>\n",
              "    <tr>\n",
              "      <th>2</th>\n",
              "      <td>2017-12-28</td>\n",
              "      <td>14606.500000</td>\n",
              "    </tr>\n",
              "    <tr>\n",
              "      <th>3</th>\n",
              "      <td>2017-12-29</td>\n",
              "      <td>14656.200195</td>\n",
              "    </tr>\n",
              "    <tr>\n",
              "      <th>4</th>\n",
              "      <td>2017-12-30</td>\n",
              "      <td>12952.200195</td>\n",
              "    </tr>\n",
              "    <tr>\n",
              "      <th>...</th>\n",
              "      <td>...</td>\n",
              "      <td>...</td>\n",
              "    </tr>\n",
              "    <tr>\n",
              "      <th>1822</th>\n",
              "      <td>2022-12-22</td>\n",
              "      <td>16830.341797</td>\n",
              "    </tr>\n",
              "    <tr>\n",
              "      <th>1823</th>\n",
              "      <td>2022-12-23</td>\n",
              "      <td>16796.953125</td>\n",
              "    </tr>\n",
              "    <tr>\n",
              "      <th>1824</th>\n",
              "      <td>2022-12-24</td>\n",
              "      <td>16847.755859</td>\n",
              "    </tr>\n",
              "    <tr>\n",
              "      <th>1825</th>\n",
              "      <td>2022-12-25</td>\n",
              "      <td>16841.986328</td>\n",
              "    </tr>\n",
              "    <tr>\n",
              "      <th>1826</th>\n",
              "      <td>2022-12-26</td>\n",
              "      <td>16848.796875</td>\n",
              "    </tr>\n",
              "  </tbody>\n",
              "</table>\n",
              "<p>1827 rows × 2 columns</p>\n",
              "</div>\n",
              "      <button class=\"colab-df-convert\" onclick=\"convertToInteractive('df-802a39af-7547-485d-b81f-6f8763a06f31')\"\n",
              "              title=\"Convert this dataframe to an interactive table.\"\n",
              "              style=\"display:none;\">\n",
              "        \n",
              "  <svg xmlns=\"http://www.w3.org/2000/svg\" height=\"24px\"viewBox=\"0 0 24 24\"\n",
              "       width=\"24px\">\n",
              "    <path d=\"M0 0h24v24H0V0z\" fill=\"none\"/>\n",
              "    <path d=\"M18.56 5.44l.94 2.06.94-2.06 2.06-.94-2.06-.94-.94-2.06-.94 2.06-2.06.94zm-11 1L8.5 8.5l.94-2.06 2.06-.94-2.06-.94L8.5 2.5l-.94 2.06-2.06.94zm10 10l.94 2.06.94-2.06 2.06-.94-2.06-.94-.94-2.06-.94 2.06-2.06.94z\"/><path d=\"M17.41 7.96l-1.37-1.37c-.4-.4-.92-.59-1.43-.59-.52 0-1.04.2-1.43.59L10.3 9.45l-7.72 7.72c-.78.78-.78 2.05 0 2.83L4 21.41c.39.39.9.59 1.41.59.51 0 1.02-.2 1.41-.59l7.78-7.78 2.81-2.81c.8-.78.8-2.07 0-2.86zM5.41 20L4 18.59l7.72-7.72 1.47 1.35L5.41 20z\"/>\n",
              "  </svg>\n",
              "      </button>\n",
              "      \n",
              "  <style>\n",
              "    .colab-df-container {\n",
              "      display:flex;\n",
              "      flex-wrap:wrap;\n",
              "      gap: 12px;\n",
              "    }\n",
              "\n",
              "    .colab-df-convert {\n",
              "      background-color: #E8F0FE;\n",
              "      border: none;\n",
              "      border-radius: 50%;\n",
              "      cursor: pointer;\n",
              "      display: none;\n",
              "      fill: #1967D2;\n",
              "      height: 32px;\n",
              "      padding: 0 0 0 0;\n",
              "      width: 32px;\n",
              "    }\n",
              "\n",
              "    .colab-df-convert:hover {\n",
              "      background-color: #E2EBFA;\n",
              "      box-shadow: 0px 1px 2px rgba(60, 64, 67, 0.3), 0px 1px 3px 1px rgba(60, 64, 67, 0.15);\n",
              "      fill: #174EA6;\n",
              "    }\n",
              "\n",
              "    [theme=dark] .colab-df-convert {\n",
              "      background-color: #3B4455;\n",
              "      fill: #D2E3FC;\n",
              "    }\n",
              "\n",
              "    [theme=dark] .colab-df-convert:hover {\n",
              "      background-color: #434B5C;\n",
              "      box-shadow: 0px 1px 3px 1px rgba(0, 0, 0, 0.15);\n",
              "      filter: drop-shadow(0px 1px 2px rgba(0, 0, 0, 0.3));\n",
              "      fill: #FFFFFF;\n",
              "    }\n",
              "  </style>\n",
              "\n",
              "      <script>\n",
              "        const buttonEl =\n",
              "          document.querySelector('#df-802a39af-7547-485d-b81f-6f8763a06f31 button.colab-df-convert');\n",
              "        buttonEl.style.display =\n",
              "          google.colab.kernel.accessAllowed ? 'block' : 'none';\n",
              "\n",
              "        async function convertToInteractive(key) {\n",
              "          const element = document.querySelector('#df-802a39af-7547-485d-b81f-6f8763a06f31');\n",
              "          const dataTable =\n",
              "            await google.colab.kernel.invokeFunction('convertToInteractive',\n",
              "                                                     [key], {});\n",
              "          if (!dataTable) return;\n",
              "\n",
              "          const docLinkHtml = 'Like what you see? Visit the ' +\n",
              "            '<a target=\"_blank\" href=https://colab.research.google.com/notebooks/data_table.ipynb>data table notebook</a>'\n",
              "            + ' to learn more about interactive tables.';\n",
              "          element.innerHTML = '';\n",
              "          dataTable['output_type'] = 'display_data';\n",
              "          await google.colab.output.renderOutput(dataTable, element);\n",
              "          const docLink = document.createElement('div');\n",
              "          docLink.innerHTML = docLinkHtml;\n",
              "          element.appendChild(docLink);\n",
              "        }\n",
              "      </script>\n",
              "    </div>\n",
              "  </div>\n",
              "  "
            ]
          },
          "metadata": {},
          "execution_count": 39
        }
      ]
    },
    {
      "cell_type": "markdown",
      "source": [
        "Make predictions for that set of values.\n",
        "\n",
        "Prophet returns a new Dataframe with more diverse attribute columns. However, we need to consider three main properties in this prediction process:\n",
        "\n",
        "* y_hat: forecast value over time\n",
        "* y_hat_lower: lower limit of forecast value <strong>y_hat</strong>\n",
        "* y_hat_upper: upper limit of forecast value <strong>y_hat</strong>"
      ],
      "metadata": {
        "id": "KxWXIzS3F8DC"
      }
    },
    {
      "cell_type": "code",
      "source": [
        "#forecast\n",
        "forecast = m.predict(future)\n",
        "forecast.tail()"
      ],
      "metadata": {
        "colab": {
          "base_uri": "https://localhost:8080/",
          "height": 357
        },
        "id": "kD_rb0_bsAWe",
        "outputId": "c398825e-db67-46b5-846f-a4ae8a2d7285"
      },
      "execution_count": 40,
      "outputs": [
        {
          "output_type": "execute_result",
          "data": {
            "text/plain": [
              "             ds         trend    yhat_lower     yhat_upper   trend_lower  \\\n",
              "1822 2022-12-22  88214.623009  45314.197000  101397.064757  54297.472825   \n",
              "1823 2022-12-23  88286.635221  46818.771655  104168.948607  54126.971631   \n",
              "1824 2022-12-24  88358.647434  47176.895014  107112.897511  54111.530626   \n",
              "1825 2022-12-25  88430.659646  49070.545699  110607.543884  54122.653632   \n",
              "1826 2022-12-26  88502.671859  49547.280755  114652.044516  54115.440157   \n",
              "\n",
              "        trend_upper  multiplicative_terms  multiplicative_terms_lower  \\\n",
              "1822  122800.041835             -0.171659                   -0.171659   \n",
              "1823  122958.945696             -0.148404                   -0.148404   \n",
              "1824  123107.471450             -0.125755                   -0.125755   \n",
              "1825  123240.458742             -0.100854                   -0.100854   \n",
              "1826  123337.059755             -0.073671                   -0.073671   \n",
              "\n",
              "      multiplicative_terms_upper    weekly  weekly_lower  weekly_upper  \\\n",
              "1822                   -0.171659 -0.002292     -0.002292     -0.002292   \n",
              "1823                   -0.148404 -0.000019     -0.000019     -0.000019   \n",
              "1824                   -0.125755 -0.000240     -0.000240     -0.000240   \n",
              "1825                   -0.100854  0.000217      0.000217      0.000217   \n",
              "1826                   -0.073671  0.001734      0.001734      0.001734   \n",
              "\n",
              "        yearly  yearly_lower  yearly_upper  additive_terms  \\\n",
              "1822 -0.169366     -0.169366     -0.169366             0.0   \n",
              "1823 -0.148385     -0.148385     -0.148385             0.0   \n",
              "1824 -0.125515     -0.125515     -0.125515             0.0   \n",
              "1825 -0.101071     -0.101071     -0.101071             0.0   \n",
              "1826 -0.075405     -0.075405     -0.075405             0.0   \n",
              "\n",
              "      additive_terms_lower  additive_terms_upper          yhat  \n",
              "1822                   0.0                   0.0  73071.812731  \n",
              "1823                   0.0                   0.0  75184.508049  \n",
              "1824                   0.0                   0.0  77247.098288  \n",
              "1825                   0.0                   0.0  79512.073318  \n",
              "1826                   0.0                   0.0  81982.596108  "
            ],
            "text/html": [
              "\n",
              "  <div id=\"df-86bafa34-47e1-4cf6-9f42-bab7aaaf4468\">\n",
              "    <div class=\"colab-df-container\">\n",
              "      <div>\n",
              "<style scoped>\n",
              "    .dataframe tbody tr th:only-of-type {\n",
              "        vertical-align: middle;\n",
              "    }\n",
              "\n",
              "    .dataframe tbody tr th {\n",
              "        vertical-align: top;\n",
              "    }\n",
              "\n",
              "    .dataframe thead th {\n",
              "        text-align: right;\n",
              "    }\n",
              "</style>\n",
              "<table border=\"1\" class=\"dataframe\">\n",
              "  <thead>\n",
              "    <tr style=\"text-align: right;\">\n",
              "      <th></th>\n",
              "      <th>ds</th>\n",
              "      <th>trend</th>\n",
              "      <th>yhat_lower</th>\n",
              "      <th>yhat_upper</th>\n",
              "      <th>trend_lower</th>\n",
              "      <th>trend_upper</th>\n",
              "      <th>multiplicative_terms</th>\n",
              "      <th>multiplicative_terms_lower</th>\n",
              "      <th>multiplicative_terms_upper</th>\n",
              "      <th>weekly</th>\n",
              "      <th>weekly_lower</th>\n",
              "      <th>weekly_upper</th>\n",
              "      <th>yearly</th>\n",
              "      <th>yearly_lower</th>\n",
              "      <th>yearly_upper</th>\n",
              "      <th>additive_terms</th>\n",
              "      <th>additive_terms_lower</th>\n",
              "      <th>additive_terms_upper</th>\n",
              "      <th>yhat</th>\n",
              "    </tr>\n",
              "  </thead>\n",
              "  <tbody>\n",
              "    <tr>\n",
              "      <th>1822</th>\n",
              "      <td>2022-12-22</td>\n",
              "      <td>88214.623009</td>\n",
              "      <td>45314.197000</td>\n",
              "      <td>101397.064757</td>\n",
              "      <td>54297.472825</td>\n",
              "      <td>122800.041835</td>\n",
              "      <td>-0.171659</td>\n",
              "      <td>-0.171659</td>\n",
              "      <td>-0.171659</td>\n",
              "      <td>-0.002292</td>\n",
              "      <td>-0.002292</td>\n",
              "      <td>-0.002292</td>\n",
              "      <td>-0.169366</td>\n",
              "      <td>-0.169366</td>\n",
              "      <td>-0.169366</td>\n",
              "      <td>0.0</td>\n",
              "      <td>0.0</td>\n",
              "      <td>0.0</td>\n",
              "      <td>73071.812731</td>\n",
              "    </tr>\n",
              "    <tr>\n",
              "      <th>1823</th>\n",
              "      <td>2022-12-23</td>\n",
              "      <td>88286.635221</td>\n",
              "      <td>46818.771655</td>\n",
              "      <td>104168.948607</td>\n",
              "      <td>54126.971631</td>\n",
              "      <td>122958.945696</td>\n",
              "      <td>-0.148404</td>\n",
              "      <td>-0.148404</td>\n",
              "      <td>-0.148404</td>\n",
              "      <td>-0.000019</td>\n",
              "      <td>-0.000019</td>\n",
              "      <td>-0.000019</td>\n",
              "      <td>-0.148385</td>\n",
              "      <td>-0.148385</td>\n",
              "      <td>-0.148385</td>\n",
              "      <td>0.0</td>\n",
              "      <td>0.0</td>\n",
              "      <td>0.0</td>\n",
              "      <td>75184.508049</td>\n",
              "    </tr>\n",
              "    <tr>\n",
              "      <th>1824</th>\n",
              "      <td>2022-12-24</td>\n",
              "      <td>88358.647434</td>\n",
              "      <td>47176.895014</td>\n",
              "      <td>107112.897511</td>\n",
              "      <td>54111.530626</td>\n",
              "      <td>123107.471450</td>\n",
              "      <td>-0.125755</td>\n",
              "      <td>-0.125755</td>\n",
              "      <td>-0.125755</td>\n",
              "      <td>-0.000240</td>\n",
              "      <td>-0.000240</td>\n",
              "      <td>-0.000240</td>\n",
              "      <td>-0.125515</td>\n",
              "      <td>-0.125515</td>\n",
              "      <td>-0.125515</td>\n",
              "      <td>0.0</td>\n",
              "      <td>0.0</td>\n",
              "      <td>0.0</td>\n",
              "      <td>77247.098288</td>\n",
              "    </tr>\n",
              "    <tr>\n",
              "      <th>1825</th>\n",
              "      <td>2022-12-25</td>\n",
              "      <td>88430.659646</td>\n",
              "      <td>49070.545699</td>\n",
              "      <td>110607.543884</td>\n",
              "      <td>54122.653632</td>\n",
              "      <td>123240.458742</td>\n",
              "      <td>-0.100854</td>\n",
              "      <td>-0.100854</td>\n",
              "      <td>-0.100854</td>\n",
              "      <td>0.000217</td>\n",
              "      <td>0.000217</td>\n",
              "      <td>0.000217</td>\n",
              "      <td>-0.101071</td>\n",
              "      <td>-0.101071</td>\n",
              "      <td>-0.101071</td>\n",
              "      <td>0.0</td>\n",
              "      <td>0.0</td>\n",
              "      <td>0.0</td>\n",
              "      <td>79512.073318</td>\n",
              "    </tr>\n",
              "    <tr>\n",
              "      <th>1826</th>\n",
              "      <td>2022-12-26</td>\n",
              "      <td>88502.671859</td>\n",
              "      <td>49547.280755</td>\n",
              "      <td>114652.044516</td>\n",
              "      <td>54115.440157</td>\n",
              "      <td>123337.059755</td>\n",
              "      <td>-0.073671</td>\n",
              "      <td>-0.073671</td>\n",
              "      <td>-0.073671</td>\n",
              "      <td>0.001734</td>\n",
              "      <td>0.001734</td>\n",
              "      <td>0.001734</td>\n",
              "      <td>-0.075405</td>\n",
              "      <td>-0.075405</td>\n",
              "      <td>-0.075405</td>\n",
              "      <td>0.0</td>\n",
              "      <td>0.0</td>\n",
              "      <td>0.0</td>\n",
              "      <td>81982.596108</td>\n",
              "    </tr>\n",
              "  </tbody>\n",
              "</table>\n",
              "</div>\n",
              "      <button class=\"colab-df-convert\" onclick=\"convertToInteractive('df-86bafa34-47e1-4cf6-9f42-bab7aaaf4468')\"\n",
              "              title=\"Convert this dataframe to an interactive table.\"\n",
              "              style=\"display:none;\">\n",
              "        \n",
              "  <svg xmlns=\"http://www.w3.org/2000/svg\" height=\"24px\"viewBox=\"0 0 24 24\"\n",
              "       width=\"24px\">\n",
              "    <path d=\"M0 0h24v24H0V0z\" fill=\"none\"/>\n",
              "    <path d=\"M18.56 5.44l.94 2.06.94-2.06 2.06-.94-2.06-.94-.94-2.06-.94 2.06-2.06.94zm-11 1L8.5 8.5l.94-2.06 2.06-.94-2.06-.94L8.5 2.5l-.94 2.06-2.06.94zm10 10l.94 2.06.94-2.06 2.06-.94-2.06-.94-.94-2.06-.94 2.06-2.06.94z\"/><path d=\"M17.41 7.96l-1.37-1.37c-.4-.4-.92-.59-1.43-.59-.52 0-1.04.2-1.43.59L10.3 9.45l-7.72 7.72c-.78.78-.78 2.05 0 2.83L4 21.41c.39.39.9.59 1.41.59.51 0 1.02-.2 1.41-.59l7.78-7.78 2.81-2.81c.8-.78.8-2.07 0-2.86zM5.41 20L4 18.59l7.72-7.72 1.47 1.35L5.41 20z\"/>\n",
              "  </svg>\n",
              "      </button>\n",
              "      \n",
              "  <style>\n",
              "    .colab-df-container {\n",
              "      display:flex;\n",
              "      flex-wrap:wrap;\n",
              "      gap: 12px;\n",
              "    }\n",
              "\n",
              "    .colab-df-convert {\n",
              "      background-color: #E8F0FE;\n",
              "      border: none;\n",
              "      border-radius: 50%;\n",
              "      cursor: pointer;\n",
              "      display: none;\n",
              "      fill: #1967D2;\n",
              "      height: 32px;\n",
              "      padding: 0 0 0 0;\n",
              "      width: 32px;\n",
              "    }\n",
              "\n",
              "    .colab-df-convert:hover {\n",
              "      background-color: #E2EBFA;\n",
              "      box-shadow: 0px 1px 2px rgba(60, 64, 67, 0.3), 0px 1px 3px 1px rgba(60, 64, 67, 0.15);\n",
              "      fill: #174EA6;\n",
              "    }\n",
              "\n",
              "    [theme=dark] .colab-df-convert {\n",
              "      background-color: #3B4455;\n",
              "      fill: #D2E3FC;\n",
              "    }\n",
              "\n",
              "    [theme=dark] .colab-df-convert:hover {\n",
              "      background-color: #434B5C;\n",
              "      box-shadow: 0px 1px 3px 1px rgba(0, 0, 0, 0.15);\n",
              "      filter: drop-shadow(0px 1px 2px rgba(0, 0, 0, 0.3));\n",
              "      fill: #FFFFFF;\n",
              "    }\n",
              "  </style>\n",
              "\n",
              "      <script>\n",
              "        const buttonEl =\n",
              "          document.querySelector('#df-86bafa34-47e1-4cf6-9f42-bab7aaaf4468 button.colab-df-convert');\n",
              "        buttonEl.style.display =\n",
              "          google.colab.kernel.accessAllowed ? 'block' : 'none';\n",
              "\n",
              "        async function convertToInteractive(key) {\n",
              "          const element = document.querySelector('#df-86bafa34-47e1-4cf6-9f42-bab7aaaf4468');\n",
              "          const dataTable =\n",
              "            await google.colab.kernel.invokeFunction('convertToInteractive',\n",
              "                                                     [key], {});\n",
              "          if (!dataTable) return;\n",
              "\n",
              "          const docLinkHtml = 'Like what you see? Visit the ' +\n",
              "            '<a target=\"_blank\" href=https://colab.research.google.com/notebooks/data_table.ipynb>data table notebook</a>'\n",
              "            + ' to learn more about interactive tables.';\n",
              "          element.innerHTML = '';\n",
              "          dataTable['output_type'] = 'display_data';\n",
              "          await google.colab.output.renderOutput(dataTable, element);\n",
              "          const docLink = document.createElement('div');\n",
              "          docLink.innerHTML = docLinkHtml;\n",
              "          element.appendChild(docLink);\n",
              "        }\n",
              "      </script>\n",
              "    </div>\n",
              "  </div>\n",
              "  "
            ]
          },
          "metadata": {},
          "execution_count": 40
        }
      ]
    },
    {
      "cell_type": "markdown",
      "source": [
        "Get predicted data."
      ],
      "metadata": {
        "id": "5sIGoHKiF9-W"
      }
    },
    {
      "cell_type": "code",
      "source": [
        "#predictions\n",
        "predictions_prophet = forecast.yhat[-test_days:].rename(\"prophet\")\n",
        "predictions_prophet[:5]"
      ],
      "metadata": {
        "colab": {
          "base_uri": "https://localhost:8080/"
        },
        "id": "K7SoUFgbsBkn",
        "outputId": "bfa98ff7-9f8e-4ddc-ac09-54862c0b7c07"
      },
      "execution_count": 41,
      "outputs": [
        {
          "output_type": "execute_result",
          "data": {
            "text/plain": [
              "1462    59770.777433\n",
              "1463    61299.937619\n",
              "1464    63321.942288\n",
              "1465    64751.692185\n",
              "1466    66568.519596\n",
              "Name: prophet, dtype: float64"
            ]
          },
          "metadata": {},
          "execution_count": 41
        }
      ]
    },
    {
      "cell_type": "markdown",
      "source": [
        "#Visualization"
      ],
      "metadata": {
        "id": "MdXcd0VFBH7E"
      }
    },
    {
      "cell_type": "markdown",
      "source": [
        "The predicted value will now be different from the original value in the data set. Because the Prophet model is built based on the Markov Chain Monte Carlo (MCMC) method to make the forecast.\n",
        "<li>MCMC is a random forecasting method, so the value may be different after each run."
      ],
      "metadata": {
        "id": "I0CpbOFkBGPk"
      }
    },
    {
      "cell_type": "code",
      "source": [
        "#visualization forecast\n",
        "m.plot(forecast);"
      ],
      "metadata": {
        "colab": {
          "base_uri": "https://localhost:8080/",
          "height": 441
        },
        "id": "pT63yYk8sC9Y",
        "outputId": "77270cfd-4e61-43cc-a064-c4b1f0be7b28"
      },
      "execution_count": 42,
      "outputs": [
        {
          "output_type": "display_data",
          "data": {
            "text/plain": [
              "<Figure size 720x432 with 1 Axes>"
            ],
            "image/png": "[encoded data removed]"
          },
          "metadata": {}
        }
      ]
    },
    {
      "cell_type": "code",
      "source": [
        "#plot components\n",
        "m.plot_components(forecast);"
      ],
      "metadata": {
        "colab": {
          "base_uri": "https://localhost:8080/",
          "height": 657
        },
        "id": "iPf02yxssD5F",
        "outputId": "2012d1a7-130b-408c-b50d-79465b7bf828"
      },
      "execution_count": 43,
      "outputs": [
        {
          "output_type": "display_data",
          "data": {
            "text/plain": [
              "<Figure size 648x648 with 3 Axes>"
            ],
            "image/png": "[encoded data removed]"
          },
          "metadata": {}
        }
      ]
    },
    {
      "cell_type": "markdown",
      "source": [
        "#Model assessment"
      ],
      "metadata": {
        "id": "jg3wvCQ0A-ws"
      }
    },
    {
      "cell_type": "code",
      "source": [
        "#MAE and RMSE\n",
        "from sklearn.metrics import mean_squared_error, mean_absolute_error\n",
        "print(round(mean_absolute_error(test_set['y'], predictions_prophet),0))\n",
        "print(round(np.sqrt(mean_squared_error(test_set['y'], predictions_prophet)), 0))"
      ],
      "metadata": {
        "colab": {
          "base_uri": "https://localhost:8080/"
        },
        "id": "atONr3rf20es",
        "outputId": "cdd05a2d-0cab-43b1-9dd1-24aa96c6e404"
      },
      "execution_count": 44,
      "outputs": [
        {
          "output_type": "stream",
          "name": "stdout",
          "text": [
            "45859.0\n",
            "47715.0\n"
          ]
        }
      ]
    },
    {
      "cell_type": "code",
      "source": [
        "#MAPE function\n",
        "def MAPE(y_true, y_pred):\n",
        "  y_true, y_pred = np.array(y_true), np.array(y_pred)\n",
        "  return np.mean(np.abs((y_true - y_pred) / y_true)) * 100\n",
        "MAPE(test_set['y'], predictions_prophet)"
      ],
      "metadata": {
        "colab": {
          "base_uri": "https://localhost:8080/"
        },
        "id": "rphpqGRosF6I",
        "outputId": "2f4c18a8-4eac-494a-cdd0-26e349f495cb"
      },
      "execution_count": 45,
      "outputs": [
        {
          "output_type": "execute_result",
          "data": {
            "text/plain": [
              "190.32341114731747"
            ]
          },
          "metadata": {},
          "execution_count": 45
        }
      ]
    },
    {
      "cell_type": "markdown",
      "source": [
        "# Cross-Validation"
      ],
      "metadata": {
        "id": "85P760I3AvWt"
      }
    },
    {
      "cell_type": "markdown",
      "source": [
        "Prophet has a function to measure forecasting error in time series data. That process is done by selecting cutoff points in the data history and each of them is suitable for training the model using the data up to that cutoff point."
      ],
      "metadata": {
        "id": "CJGpVB-aAsHN"
      }
    },
    {
      "cell_type": "markdown",
      "source": [
        "The initial period must be long enough to capture all the components inside the model, especially the seasonalities and extra regressors. In which, we consider at least one year for annual seasonality and weekly for weekly seasonality."
      ],
      "metadata": {
        "id": "IuWXM62TA0XU"
      }
    },
    {
      "cell_type": "markdown",
      "source": [
        "Here, we perform predictability assessment with 1-and-a-half year training data in the first cut and make the prediction again after 31 days."
      ],
      "metadata": {
        "id": "Kkl3DXUeA4ns"
      }
    },
    {
      "cell_type": "code",
      "source": [
        "#CV\n",
        "from fbprophet.diagnostics import cross_validation\n",
        "df_cv = cross_validation(m,\n",
        "                         #Dự đoán 31 ngày tiếp theo\n",
        "                         horizon = '31 days',\n",
        "                         #Lấy 540 ngày dể đào tạo\n",
        "                         initial = '540 days',\n",
        "                         #Xử lý song song\n",
        "                         parallel = \"processes\")\n",
        "df_cv.head()"
      ],
      "metadata": {
        "colab": {
          "base_uri": "https://localhost:8080/",
          "height": 241
        },
        "id": "crHdBXyMsG7O",
        "outputId": "ec192378-3315-406c-a54a-76f811e5de57"
      },
      "execution_count": 46,
      "outputs": [
        {
          "output_type": "stream",
          "name": "stderr",
          "text": [
            "INFO:fbprophet:Making 58 forecasts with cutoffs between 2019-06-25 12:00:00 and 2021-11-25 00:00:00\n",
            "INFO:fbprophet:Applying in parallel with <concurrent.futures.process.ProcessPoolExecutor object at 0x7f36605ab8b0>\n"
          ]
        },
        {
          "output_type": "execute_result",
          "data": {
            "text/plain": [
              "          ds          yhat   yhat_lower    yhat_upper             y  \\\n",
              "0 2019-06-26   9958.189757  9238.903380  10686.797067  13016.231445   \n",
              "1 2019-06-27  10013.781979  9336.352788  10665.916083  11182.806641   \n",
              "2 2019-06-28  10228.696612  9599.247346  10952.533920  12407.332031   \n",
              "3 2019-06-29  10407.011415  9681.173266  11102.142830  11959.371094   \n",
              "4 2019-06-30  10510.783225  9841.124886  11212.058463  10817.155273   \n",
              "\n",
              "               cutoff  \n",
              "0 2019-06-25 12:00:00  \n",
              "1 2019-06-25 12:00:00  \n",
              "2 2019-06-25 12:00:00  \n",
              "3 2019-06-25 12:00:00  \n",
              "4 2019-06-25 12:00:00  "
            ],
            "text/html": [
              "\n",
              "  <div id=\"df-82f2037a-e2b1-434f-aa24-37cc8448a7b5\">\n",
              "    <div class=\"colab-df-container\">\n",
              "      <div>\n",
              "<style scoped>\n",
              "    .dataframe tbody tr th:only-of-type {\n",
              "        vertical-align: middle;\n",
              "    }\n",
              "\n",
              "    .dataframe tbody tr th {\n",
              "        vertical-align: top;\n",
              "    }\n",
              "\n",
              "    .dataframe thead th {\n",
              "        text-align: right;\n",
              "    }\n",
              "</style>\n",
              "<table border=\"1\" class=\"dataframe\">\n",
              "  <thead>\n",
              "    <tr style=\"text-align: right;\">\n",
              "      <th></th>\n",
              "      <th>ds</th>\n",
              "      <th>yhat</th>\n",
              "      <th>yhat_lower</th>\n",
              "      <th>yhat_upper</th>\n",
              "      <th>y</th>\n",
              "      <th>cutoff</th>\n",
              "    </tr>\n",
              "  </thead>\n",
              "  <tbody>\n",
              "    <tr>\n",
              "      <th>0</th>\n",
              "      <td>2019-06-26</td>\n",
              "      <td>9958.189757</td>\n",
              "      <td>9238.903380</td>\n",
              "      <td>10686.797067</td>\n",
              "      <td>13016.231445</td>\n",
              "      <td>2019-06-25 12:00:00</td>\n",
              "    </tr>\n",
              "    <tr>\n",
              "      <th>1</th>\n",
              "      <td>2019-06-27</td>\n",
              "      <td>10013.781979</td>\n",
              "      <td>9336.352788</td>\n",
              "      <td>10665.916083</td>\n",
              "      <td>11182.806641</td>\n",
              "      <td>2019-06-25 12:00:00</td>\n",
              "    </tr>\n",
              "    <tr>\n",
              "      <th>2</th>\n",
              "      <td>2019-06-28</td>\n",
              "      <td>10228.696612</td>\n",
              "      <td>9599.247346</td>\n",
              "      <td>10952.533920</td>\n",
              "      <td>12407.332031</td>\n",
              "      <td>2019-06-25 12:00:00</td>\n",
              "    </tr>\n",
              "    <tr>\n",
              "      <th>3</th>\n",
              "      <td>2019-06-29</td>\n",
              "      <td>10407.011415</td>\n",
              "      <td>9681.173266</td>\n",
              "      <td>11102.142830</td>\n",
              "      <td>11959.371094</td>\n",
              "      <td>2019-06-25 12:00:00</td>\n",
              "    </tr>\n",
              "    <tr>\n",
              "      <th>4</th>\n",
              "      <td>2019-06-30</td>\n",
              "      <td>10510.783225</td>\n",
              "      <td>9841.124886</td>\n",
              "      <td>11212.058463</td>\n",
              "      <td>10817.155273</td>\n",
              "      <td>2019-06-25 12:00:00</td>\n",
              "    </tr>\n",
              "  </tbody>\n",
              "</table>\n",
              "</div>\n",
              "      <button class=\"colab-df-convert\" onclick=\"convertToInteractive('df-82f2037a-e2b1-434f-aa24-37cc8448a7b5')\"\n",
              "              title=\"Convert this dataframe to an interactive table.\"\n",
              "              style=\"display:none;\">\n",
              "        \n",
              "  <svg xmlns=\"http://www.w3.org/2000/svg\" height=\"24px\"viewBox=\"0 0 24 24\"\n",
              "       width=\"24px\">\n",
              "    <path d=\"M0 0h24v24H0V0z\" fill=\"none\"/>\n",
              "    <path d=\"M18.56 5.44l.94 2.06.94-2.06 2.06-.94-2.06-.94-.94-2.06-.94 2.06-2.06.94zm-11 1L8.5 8.5l.94-2.06 2.06-.94-2.06-.94L8.5 2.5l-.94 2.06-2.06.94zm10 10l.94 2.06.94-2.06 2.06-.94-2.06-.94-.94-2.06-.94 2.06-2.06.94z\"/><path d=\"M17.41 7.96l-1.37-1.37c-.4-.4-.92-.59-1.43-.59-.52 0-1.04.2-1.43.59L10.3 9.45l-7.72 7.72c-.78.78-.78 2.05 0 2.83L4 21.41c.39.39.9.59 1.41.59.51 0 1.02-.2 1.41-.59l7.78-7.78 2.81-2.81c.8-.78.8-2.07 0-2.86zM5.41 20L4 18.59l7.72-7.72 1.47 1.35L5.41 20z\"/>\n",
              "  </svg>\n",
              "      </button>\n",
              "      \n",
              "  <style>\n",
              "    .colab-df-container {\n",
              "      display:flex;\n",
              "      flex-wrap:wrap;\n",
              "      gap: 12px;\n",
              "    }\n",
              "\n",
              "    .colab-df-convert {\n",
              "      background-color: #E8F0FE;\n",
              "      border: none;\n",
              "      border-radius: 50%;\n",
              "      cursor: pointer;\n",
              "      display: none;\n",
              "      fill: #1967D2;\n",
              "      height: 32px;\n",
              "      padding: 0 0 0 0;\n",
              "      width: 32px;\n",
              "    }\n",
              "\n",
              "    .colab-df-convert:hover {\n",
              "      background-color: #E2EBFA;\n",
              "      box-shadow: 0px 1px 2px rgba(60, 64, 67, 0.3), 0px 1px 3px 1px rgba(60, 64, 67, 0.15);\n",
              "      fill: #174EA6;\n",
              "    }\n",
              "\n",
              "    [theme=dark] .colab-df-convert {\n",
              "      background-color: #3B4455;\n",
              "      fill: #D2E3FC;\n",
              "    }\n",
              "\n",
              "    [theme=dark] .colab-df-convert:hover {\n",
              "      background-color: #434B5C;\n",
              "      box-shadow: 0px 1px 3px 1px rgba(0, 0, 0, 0.15);\n",
              "      filter: drop-shadow(0px 1px 2px rgba(0, 0, 0, 0.3));\n",
              "      fill: #FFFFFF;\n",
              "    }\n",
              "  </style>\n",
              "\n",
              "      <script>\n",
              "        const buttonEl =\n",
              "          document.querySelector('#df-82f2037a-e2b1-434f-aa24-37cc8448a7b5 button.colab-df-convert');\n",
              "        buttonEl.style.display =\n",
              "          google.colab.kernel.accessAllowed ? 'block' : 'none';\n",
              "\n",
              "        async function convertToInteractive(key) {\n",
              "          const element = document.querySelector('#df-82f2037a-e2b1-434f-aa24-37cc8448a7b5');\n",
              "          const dataTable =\n",
              "            await google.colab.kernel.invokeFunction('convertToInteractive',\n",
              "                                                     [key], {});\n",
              "          if (!dataTable) return;\n",
              "\n",
              "          const docLinkHtml = 'Like what you see? Visit the ' +\n",
              "            '<a target=\"_blank\" href=https://colab.research.google.com/notebooks/data_table.ipynb>data table notebook</a>'\n",
              "            + ' to learn more about interactive tables.';\n",
              "          element.innerHTML = '';\n",
              "          dataTable['output_type'] = 'display_data';\n",
              "          await google.colab.output.renderOutput(dataTable, element);\n",
              "          const docLink = document.createElement('div');\n",
              "          docLink.innerHTML = docLinkHtml;\n",
              "          element.appendChild(docLink);\n",
              "        }\n",
              "      </script>\n",
              "    </div>\n",
              "  </div>\n",
              "  "
            ]
          },
          "metadata": {},
          "execution_count": 46
        }
      ]
    },
    {
      "cell_type": "code",
      "source": [
        "#MAE, RMSE and MAPE\n",
        "print(round(mean_absolute_error(df_cv['y'], df_cv['yhat']),0))\n",
        "print(round(np.sqrt(mean_squared_error(df_cv['y'], df_cv['yhat'])), 0))\n",
        "print(MAPE(df_cv['y'], df_cv['yhat']))"
      ],
      "metadata": {
        "colab": {
          "base_uri": "https://localhost:8080/"
        },
        "id": "IMH3ZM3gA7_0",
        "outputId": "f6f266dd-fca8-4193-f834-287ec15405f0"
      },
      "execution_count": 47,
      "outputs": [
        {
          "output_type": "stream",
          "name": "stdout",
          "text": [
            "4819.0\n",
            "7386.0\n",
            "19.626836367192944\n"
          ]
        }
      ]
    },
    {
      "cell_type": "markdown",
      "source": [
        "#Hyperparameter tuning"
      ],
      "metadata": {
        "id": "aRo0IXCpBMi4"
      }
    },
    {
      "cell_type": "markdown",
      "source": [
        "List the parameters and assign values and choose the model that gives the minimum evaluation criteria."
      ],
      "metadata": {
        "id": "OeMdpBi7BPVW"
      }
    },
    {
      "cell_type": "code",
      "source": [
        "#Parameter grid\n",
        "from sklearn.model_selection import ParameterGrid\n",
        "param_grid = {'seasonality_prior_scale': np.arange(5, 10, 5), #[5, 10]  np.arange(5, 20, 5),\n",
        "              'changepoint_prior_scale': np.arange(0.01, 0.05, 0.01),  # [0.01, 0.02, 0.03, 0.04, 0.05]\n",
        "              'holidays_prior_scale': np.arange(5, 10, 5)}#[5, 10]\n",
        "grid = ParameterGrid(param_grid)\n",
        "list(grid)[:3]            "
      ],
      "metadata": {
        "colab": {
          "base_uri": "https://localhost:8080/"
        },
        "id": "gtMBGywlstDd",
        "outputId": "7deee80c-9a14-430c-ccac-5c5c27ca67fa"
      },
      "execution_count": 48,
      "outputs": [
        {
          "output_type": "execute_result",
          "data": {
            "text/plain": [
              "[{'changepoint_prior_scale': 0.01,\n",
              "  'holidays_prior_scale': 5,\n",
              "  'seasonality_prior_scale': 5},\n",
              " {'changepoint_prior_scale': 0.02,\n",
              "  'holidays_prior_scale': 5,\n",
              "  'seasonality_prior_scale': 5},\n",
              " {'changepoint_prior_scale': 0.03,\n",
              "  'holidays_prior_scale': 5,\n",
              "  'seasonality_prior_scale': 5}]"
            ]
          },
          "metadata": {},
          "execution_count": 48
        }
      ]
    },
    {
      "cell_type": "code",
      "source": [
        "#Hyper parameter tuning\n",
        "rmse = []\n",
        "for params in grid:\n",
        "  #build model\n",
        "  m = Prophet(growth = \"linear\",\n",
        "            yearly_seasonality = True,\n",
        "            weekly_seasonality = True,\n",
        "            daily_seasonality = False,\n",
        "            seasonality_mode = \"multiplicative\",\n",
        "            seasonality_prior_scale = params['seasonality_prior_scale'],\n",
        "            holidays_prior_scale = params['holidays_prior_scale'],\n",
        "            changepoint_prior_scale = params['changepoint_prior_scale'])\n",
        "  m.fit(training_set)\n",
        "\n",
        "  #cross-validation\n",
        "  df_cv = cross_validation(m,\n",
        "                         horizon = '31 days',\n",
        "                         initial = '540 days',\n",
        "                         parallel = \"processes\")\n",
        "  \n",
        "  #gather the results\n",
        "  error = np.sqrt(mean_squared_error(df_cv['y'], \n",
        "                                     df_cv['yhat']))\n",
        "  rmse.append(error)"
      ],
      "metadata": {
        "colab": {
          "base_uri": "https://localhost:8080/"
        },
        "id": "u9scI6q7svQm",
        "outputId": "70cbfa35-02cf-483f-da13-0265ed446c0d"
      },
      "execution_count": 49,
      "outputs": [
        {
          "output_type": "stream",
          "name": "stderr",
          "text": [
            "INFO:fbprophet:Making 58 forecasts with cutoffs between 2019-06-25 12:00:00 and 2021-11-25 00:00:00\n",
            "INFO:fbprophet:Applying in parallel with <concurrent.futures.process.ProcessPoolExecutor object at 0x7f36607af130>\n",
            "INFO:fbprophet:Making 58 forecasts with cutoffs between 2019-06-25 12:00:00 and 2021-11-25 00:00:00\n",
            "INFO:fbprophet:Applying in parallel with <concurrent.futures.process.ProcessPoolExecutor object at 0x7f3660788730>\n",
            "INFO:fbprophet:Making 58 forecasts with cutoffs between 2019-06-25 12:00:00 and 2021-11-25 00:00:00\n",
            "INFO:fbprophet:Applying in parallel with <concurrent.futures.process.ProcessPoolExecutor object at 0x7f3660579070>\n",
            "INFO:fbprophet:Making 58 forecasts with cutoffs between 2019-06-25 12:00:00 and 2021-11-25 00:00:00\n",
            "INFO:fbprophet:Applying in parallel with <concurrent.futures.process.ProcessPoolExecutor object at 0x7f36607aa2b0>\n"
          ]
        }
      ]
    },
    {
      "cell_type": "code",
      "source": [
        "#best parameters\n",
        "best_params = grid[np.argmin(rmse)]\n",
        "print(best_params)"
      ],
      "metadata": {
        "colab": {
          "base_uri": "https://localhost:8080/"
        },
        "id": "xQFtiZ0RBbrl",
        "outputId": "baf645f0-32a1-49bd-9eec-a3a0dc831e05"
      },
      "execution_count": 50,
      "outputs": [
        {
          "output_type": "stream",
          "name": "stdout",
          "text": [
            "{'seasonality_prior_scale': 5, 'holidays_prior_scale': 5, 'changepoint_prior_scale': 0.04}\n"
          ]
        }
      ]
    },
    {
      "cell_type": "markdown",
      "source": [
        "#Final Prophet Model"
      ],
      "metadata": {
        "id": "vRN-aP2BBeA8"
      }
    },
    {
      "cell_type": "markdown",
      "source": [
        "Rebuild models and predictions."
      ],
      "metadata": {
        "id": "83L49vzXBg3p"
      }
    },
    {
      "cell_type": "code",
      "source": [
        "#build model\n",
        "m = Prophet(growth = \"linear\",\n",
        "          yearly_seasonality = True,\n",
        "          weekly_seasonality = True,\n",
        "          daily_seasonality = False,\n",
        "          seasonality_mode = \"multiplicative\",\n",
        "          seasonality_prior_scale = best_params['seasonality_prior_scale'],\n",
        "          holidays_prior_scale = best_params['holidays_prior_scale'],\n",
        "          changepoint_prior_scale = best_params['changepoint_prior_scale'])\n",
        "m.fit(training_set)"
      ],
      "metadata": {
        "colab": {
          "base_uri": "https://localhost:8080/"
        },
        "id": "KwDyIPQLBiRP",
        "outputId": "507e394b-7696-4399-b2c8-fcf0af4d022d"
      },
      "execution_count": 51,
      "outputs": [
        {
          "output_type": "execute_result",
          "data": {
            "text/plain": [
              "<fbprophet.forecaster.Prophet at 0x7f365de45d60>"
            ]
          },
          "metadata": {},
          "execution_count": 51
        }
      ]
    },
    {
      "cell_type": "code",
      "source": [
        "#Create Future Dataframe\n",
        "future = m.make_future_dataframe(periods = len(test_set),\n",
        "                                 freq = \"D\")\n",
        "future = pd.concat([future, dataset.iloc[:,1:]],\n",
        "                   axis = 1)\n",
        "future.tail(1)"
      ],
      "metadata": {
        "colab": {
          "base_uri": "https://localhost:8080/",
          "height": 81
        },
        "id": "3R1ExE2tBjlo",
        "outputId": "7e6e0e96-031e-4877-ebe8-d5cc939a45a4"
      },
      "execution_count": 52,
      "outputs": [
        {
          "output_type": "execute_result",
          "data": {
            "text/plain": [
              "             ds             y\n",
              "1826 2022-12-26  16848.796875"
            ],
            "text/html": [
              "\n",
              "  <div id=\"df-011d7a80-5da3-457b-a434-0544f8e5e196\">\n",
              "    <div class=\"colab-df-container\">\n",
              "      <div>\n",
              "<style scoped>\n",
              "    .dataframe tbody tr th:only-of-type {\n",
              "        vertical-align: middle;\n",
              "    }\n",
              "\n",
              "    .dataframe tbody tr th {\n",
              "        vertical-align: top;\n",
              "    }\n",
              "\n",
              "    .dataframe thead th {\n",
              "        text-align: right;\n",
              "    }\n",
              "</style>\n",
              "<table border=\"1\" class=\"dataframe\">\n",
              "  <thead>\n",
              "    <tr style=\"text-align: right;\">\n",
              "      <th></th>\n",
              "      <th>ds</th>\n",
              "      <th>y</th>\n",
              "    </tr>\n",
              "  </thead>\n",
              "  <tbody>\n",
              "    <tr>\n",
              "      <th>1826</th>\n",
              "      <td>2022-12-26</td>\n",
              "      <td>16848.796875</td>\n",
              "    </tr>\n",
              "  </tbody>\n",
              "</table>\n",
              "</div>\n",
              "      <button class=\"colab-df-convert\" onclick=\"convertToInteractive('df-011d7a80-5da3-457b-a434-0544f8e5e196')\"\n",
              "              title=\"Convert this dataframe to an interactive table.\"\n",
              "              style=\"display:none;\">\n",
              "        \n",
              "  <svg xmlns=\"http://www.w3.org/2000/svg\" height=\"24px\"viewBox=\"0 0 24 24\"\n",
              "       width=\"24px\">\n",
              "    <path d=\"M0 0h24v24H0V0z\" fill=\"none\"/>\n",
              "    <path d=\"M18.56 5.44l.94 2.06.94-2.06 2.06-.94-2.06-.94-.94-2.06-.94 2.06-2.06.94zm-11 1L8.5 8.5l.94-2.06 2.06-.94-2.06-.94L8.5 2.5l-.94 2.06-2.06.94zm10 10l.94 2.06.94-2.06 2.06-.94-2.06-.94-.94-2.06-.94 2.06-2.06.94z\"/><path d=\"M17.41 7.96l-1.37-1.37c-.4-.4-.92-.59-1.43-.59-.52 0-1.04.2-1.43.59L10.3 9.45l-7.72 7.72c-.78.78-.78 2.05 0 2.83L4 21.41c.39.39.9.59 1.41.59.51 0 1.02-.2 1.41-.59l7.78-7.78 2.81-2.81c.8-.78.8-2.07 0-2.86zM5.41 20L4 18.59l7.72-7.72 1.47 1.35L5.41 20z\"/>\n",
              "  </svg>\n",
              "      </button>\n",
              "      \n",
              "  <style>\n",
              "    .colab-df-container {\n",
              "      display:flex;\n",
              "      flex-wrap:wrap;\n",
              "      gap: 12px;\n",
              "    }\n",
              "\n",
              "    .colab-df-convert {\n",
              "      background-color: #E8F0FE;\n",
              "      border: none;\n",
              "      border-radius: 50%;\n",
              "      cursor: pointer;\n",
              "      display: none;\n",
              "      fill: #1967D2;\n",
              "      height: 32px;\n",
              "      padding: 0 0 0 0;\n",
              "      width: 32px;\n",
              "    }\n",
              "\n",
              "    .colab-df-convert:hover {\n",
              "      background-color: #E2EBFA;\n",
              "      box-shadow: 0px 1px 2px rgba(60, 64, 67, 0.3), 0px 1px 3px 1px rgba(60, 64, 67, 0.15);\n",
              "      fill: #174EA6;\n",
              "    }\n",
              "\n",
              "    [theme=dark] .colab-df-convert {\n",
              "      background-color: #3B4455;\n",
              "      fill: #D2E3FC;\n",
              "    }\n",
              "\n",
              "    [theme=dark] .colab-df-convert:hover {\n",
              "      background-color: #434B5C;\n",
              "      box-shadow: 0px 1px 3px 1px rgba(0, 0, 0, 0.15);\n",
              "      filter: drop-shadow(0px 1px 2px rgba(0, 0, 0, 0.3));\n",
              "      fill: #FFFFFF;\n",
              "    }\n",
              "  </style>\n",
              "\n",
              "      <script>\n",
              "        const buttonEl =\n",
              "          document.querySelector('#df-011d7a80-5da3-457b-a434-0544f8e5e196 button.colab-df-convert');\n",
              "        buttonEl.style.display =\n",
              "          google.colab.kernel.accessAllowed ? 'block' : 'none';\n",
              "\n",
              "        async function convertToInteractive(key) {\n",
              "          const element = document.querySelector('#df-011d7a80-5da3-457b-a434-0544f8e5e196');\n",
              "          const dataTable =\n",
              "            await google.colab.kernel.invokeFunction('convertToInteractive',\n",
              "                                                     [key], {});\n",
              "          if (!dataTable) return;\n",
              "\n",
              "          const docLinkHtml = 'Like what you see? Visit the ' +\n",
              "            '<a target=\"_blank\" href=https://colab.research.google.com/notebooks/data_table.ipynb>data table notebook</a>'\n",
              "            + ' to learn more about interactive tables.';\n",
              "          element.innerHTML = '';\n",
              "          dataTable['output_type'] = 'display_data';\n",
              "          await google.colab.output.renderOutput(dataTable, element);\n",
              "          const docLink = document.createElement('div');\n",
              "          docLink.innerHTML = docLinkHtml;\n",
              "          element.appendChild(docLink);\n",
              "        }\n",
              "      </script>\n",
              "    </div>\n",
              "  </div>\n",
              "  "
            ]
          },
          "metadata": {},
          "execution_count": 52
        }
      ]
    },
    {
      "cell_type": "code",
      "source": [
        "#forecast\n",
        "forecast = m.predict(future)\n",
        "forecast.head()"
      ],
      "metadata": {
        "colab": {
          "base_uri": "https://localhost:8080/",
          "height": 357
        },
        "id": "BXIAmeYjBmHV",
        "outputId": "4cb0ddb3-3319-4812-dea0-179369d6418d"
      },
      "execution_count": 53,
      "outputs": [
        {
          "output_type": "execute_result",
          "data": {
            "text/plain": [
              "          ds         trend   yhat_lower    yhat_upper   trend_lower  \\\n",
              "0 2017-12-26  12133.279965  8676.275918  13495.712846  12133.279965   \n",
              "1 2017-12-27  12064.139639  9185.487715  13587.095063  12064.139639   \n",
              "2 2017-12-28  11994.999314  9069.570947  13892.032231  11994.999314   \n",
              "3 2017-12-29  11925.858989  9472.591130  14254.786074  11925.858989   \n",
              "4 2017-12-30  11856.718663  9753.963132  14553.302822  11856.718663   \n",
              "\n",
              "    trend_upper  multiplicative_terms  multiplicative_terms_lower  \\\n",
              "0  12133.279965             -0.093404                   -0.093404   \n",
              "1  12064.139639             -0.060569                   -0.060569   \n",
              "2  11994.999314             -0.036281                   -0.036281   \n",
              "3  11925.858989             -0.005071                   -0.005071   \n",
              "4  11856.718663              0.023438                    0.023438   \n",
              "\n",
              "   multiplicative_terms_upper    weekly  weekly_lower  weekly_upper    yearly  \\\n",
              "0                   -0.093404 -0.001617     -0.001617     -0.001617 -0.091787   \n",
              "1                   -0.060569  0.002623      0.002623      0.002623 -0.063192   \n",
              "2                   -0.036281 -0.002197     -0.002197     -0.002197 -0.034084   \n",
              "3                   -0.005071 -0.000182     -0.000182     -0.000182 -0.004889   \n",
              "4                    0.023438 -0.000526     -0.000526     -0.000526  0.023964   \n",
              "\n",
              "   yearly_lower  yearly_upper  additive_terms  additive_terms_lower  \\\n",
              "0     -0.091787     -0.091787             0.0                   0.0   \n",
              "1     -0.063192     -0.063192             0.0                   0.0   \n",
              "2     -0.034084     -0.034084             0.0                   0.0   \n",
              "3     -0.004889     -0.004889             0.0                   0.0   \n",
              "4      0.023964      0.023964             0.0                   0.0   \n",
              "\n",
              "   additive_terms_upper          yhat  \n",
              "0                   0.0  10999.986575  \n",
              "1                   0.0  11333.426044  \n",
              "2                   0.0  11559.812524  \n",
              "3                   0.0  11865.388390  \n",
              "4                   0.0  12134.618969  "
            ],
            "text/html": [
              "\n",
              "  <div id=\"df-ca5107ff-ef8c-4204-be6e-eacaccb0f382\">\n",
              "    <div class=\"colab-df-container\">\n",
              "      <div>\n",
              "<style scoped>\n",
              "    .dataframe tbody tr th:only-of-type {\n",
              "        vertical-align: middle;\n",
              "    }\n",
              "\n",
              "    .dataframe tbody tr th {\n",
              "        vertical-align: top;\n",
              "    }\n",
              "\n",
              "    .dataframe thead th {\n",
              "        text-align: right;\n",
              "    }\n",
              "</style>\n",
              "<table border=\"1\" class=\"dataframe\">\n",
              "  <thead>\n",
              "    <tr style=\"text-align: right;\">\n",
              "      <th></th>\n",
              "      <th>ds</th>\n",
              "      <th>trend</th>\n",
              "      <th>yhat_lower</th>\n",
              "      <th>yhat_upper</th>\n",
              "      <th>trend_lower</th>\n",
              "      <th>trend_upper</th>\n",
              "      <th>multiplicative_terms</th>\n",
              "      <th>multiplicative_terms_lower</th>\n",
              "      <th>multiplicative_terms_upper</th>\n",
              "      <th>weekly</th>\n",
              "      <th>weekly_lower</th>\n",
              "      <th>weekly_upper</th>\n",
              "      <th>yearly</th>\n",
              "      <th>yearly_lower</th>\n",
              "      <th>yearly_upper</th>\n",
              "      <th>additive_terms</th>\n",
              "      <th>additive_terms_lower</th>\n",
              "      <th>additive_terms_upper</th>\n",
              "      <th>yhat</th>\n",
              "    </tr>\n",
              "  </thead>\n",
              "  <tbody>\n",
              "    <tr>\n",
              "      <th>0</th>\n",
              "      <td>2017-12-26</td>\n",
              "      <td>12133.279965</td>\n",
              "      <td>8676.275918</td>\n",
              "      <td>13495.712846</td>\n",
              "      <td>12133.279965</td>\n",
              "      <td>12133.279965</td>\n",
              "      <td>-0.093404</td>\n",
              "      <td>-0.093404</td>\n",
              "      <td>-0.093404</td>\n",
              "      <td>-0.001617</td>\n",
              "      <td>-0.001617</td>\n",
              "      <td>-0.001617</td>\n",
              "      <td>-0.091787</td>\n",
              "      <td>-0.091787</td>\n",
              "      <td>-0.091787</td>\n",
              "      <td>0.0</td>\n",
              "      <td>0.0</td>\n",
              "      <td>0.0</td>\n",
              "      <td>10999.986575</td>\n",
              "    </tr>\n",
              "    <tr>\n",
              "      <th>1</th>\n",
              "      <td>2017-12-27</td>\n",
              "      <td>12064.139639</td>\n",
              "      <td>9185.487715</td>\n",
              "      <td>13587.095063</td>\n",
              "      <td>12064.139639</td>\n",
              "      <td>12064.139639</td>\n",
              "      <td>-0.060569</td>\n",
              "      <td>-0.060569</td>\n",
              "      <td>-0.060569</td>\n",
              "      <td>0.002623</td>\n",
              "      <td>0.002623</td>\n",
              "      <td>0.002623</td>\n",
              "      <td>-0.063192</td>\n",
              "      <td>-0.063192</td>\n",
              "      <td>-0.063192</td>\n",
              "      <td>0.0</td>\n",
              "      <td>0.0</td>\n",
              "      <td>0.0</td>\n",
              "      <td>11333.426044</td>\n",
              "    </tr>\n",
              "    <tr>\n",
              "      <th>2</th>\n",
              "      <td>2017-12-28</td>\n",
              "      <td>11994.999314</td>\n",
              "      <td>9069.570947</td>\n",
              "      <td>13892.032231</td>\n",
              "      <td>11994.999314</td>\n",
              "      <td>11994.999314</td>\n",
              "      <td>-0.036281</td>\n",
              "      <td>-0.036281</td>\n",
              "      <td>-0.036281</td>\n",
              "      <td>-0.002197</td>\n",
              "      <td>-0.002197</td>\n",
              "      <td>-0.002197</td>\n",
              "      <td>-0.034084</td>\n",
              "      <td>-0.034084</td>\n",
              "      <td>-0.034084</td>\n",
              "      <td>0.0</td>\n",
              "      <td>0.0</td>\n",
              "      <td>0.0</td>\n",
              "      <td>11559.812524</td>\n",
              "    </tr>\n",
              "    <tr>\n",
              "      <th>3</th>\n",
              "      <td>2017-12-29</td>\n",
              "      <td>11925.858989</td>\n",
              "      <td>9472.591130</td>\n",
              "      <td>14254.786074</td>\n",
              "      <td>11925.858989</td>\n",
              "      <td>11925.858989</td>\n",
              "      <td>-0.005071</td>\n",
              "      <td>-0.005071</td>\n",
              "      <td>-0.005071</td>\n",
              "      <td>-0.000182</td>\n",
              "      <td>-0.000182</td>\n",
              "      <td>-0.000182</td>\n",
              "      <td>-0.004889</td>\n",
              "      <td>-0.004889</td>\n",
              "      <td>-0.004889</td>\n",
              "      <td>0.0</td>\n",
              "      <td>0.0</td>\n",
              "      <td>0.0</td>\n",
              "      <td>11865.388390</td>\n",
              "    </tr>\n",
              "    <tr>\n",
              "      <th>4</th>\n",
              "      <td>2017-12-30</td>\n",
              "      <td>11856.718663</td>\n",
              "      <td>9753.963132</td>\n",
              "      <td>14553.302822</td>\n",
              "      <td>11856.718663</td>\n",
              "      <td>11856.718663</td>\n",
              "      <td>0.023438</td>\n",
              "      <td>0.023438</td>\n",
              "      <td>0.023438</td>\n",
              "      <td>-0.000526</td>\n",
              "      <td>-0.000526</td>\n",
              "      <td>-0.000526</td>\n",
              "      <td>0.023964</td>\n",
              "      <td>0.023964</td>\n",
              "      <td>0.023964</td>\n",
              "      <td>0.0</td>\n",
              "      <td>0.0</td>\n",
              "      <td>0.0</td>\n",
              "      <td>12134.618969</td>\n",
              "    </tr>\n",
              "  </tbody>\n",
              "</table>\n",
              "</div>\n",
              "      <button class=\"colab-df-convert\" onclick=\"convertToInteractive('df-ca5107ff-ef8c-4204-be6e-eacaccb0f382')\"\n",
              "              title=\"Convert this dataframe to an interactive table.\"\n",
              "              style=\"display:none;\">\n",
              "        \n",
              "  <svg xmlns=\"http://www.w3.org/2000/svg\" height=\"24px\"viewBox=\"0 0 24 24\"\n",
              "       width=\"24px\">\n",
              "    <path d=\"M0 0h24v24H0V0z\" fill=\"none\"/>\n",
              "    <path d=\"M18.56 5.44l.94 2.06.94-2.06 2.06-.94-2.06-.94-.94-2.06-.94 2.06-2.06.94zm-11 1L8.5 8.5l.94-2.06 2.06-.94-2.06-.94L8.5 2.5l-.94 2.06-2.06.94zm10 10l.94 2.06.94-2.06 2.06-.94-2.06-.94-.94-2.06-.94 2.06-2.06.94z\"/><path d=\"M17.41 7.96l-1.37-1.37c-.4-.4-.92-.59-1.43-.59-.52 0-1.04.2-1.43.59L10.3 9.45l-7.72 7.72c-.78.78-.78 2.05 0 2.83L4 21.41c.39.39.9.59 1.41.59.51 0 1.02-.2 1.41-.59l7.78-7.78 2.81-2.81c.8-.78.8-2.07 0-2.86zM5.41 20L4 18.59l7.72-7.72 1.47 1.35L5.41 20z\"/>\n",
              "  </svg>\n",
              "      </button>\n",
              "      \n",
              "  <style>\n",
              "    .colab-df-container {\n",
              "      display:flex;\n",
              "      flex-wrap:wrap;\n",
              "      gap: 12px;\n",
              "    }\n",
              "\n",
              "    .colab-df-convert {\n",
              "      background-color: #E8F0FE;\n",
              "      border: none;\n",
              "      border-radius: 50%;\n",
              "      cursor: pointer;\n",
              "      display: none;\n",
              "      fill: #1967D2;\n",
              "      height: 32px;\n",
              "      padding: 0 0 0 0;\n",
              "      width: 32px;\n",
              "    }\n",
              "\n",
              "    .colab-df-convert:hover {\n",
              "      background-color: #E2EBFA;\n",
              "      box-shadow: 0px 1px 2px rgba(60, 64, 67, 0.3), 0px 1px 3px 1px rgba(60, 64, 67, 0.15);\n",
              "      fill: #174EA6;\n",
              "    }\n",
              "\n",
              "    [theme=dark] .colab-df-convert {\n",
              "      background-color: #3B4455;\n",
              "      fill: #D2E3FC;\n",
              "    }\n",
              "\n",
              "    [theme=dark] .colab-df-convert:hover {\n",
              "      background-color: #434B5C;\n",
              "      box-shadow: 0px 1px 3px 1px rgba(0, 0, 0, 0.15);\n",
              "      filter: drop-shadow(0px 1px 2px rgba(0, 0, 0, 0.3));\n",
              "      fill: #FFFFFF;\n",
              "    }\n",
              "  </style>\n",
              "\n",
              "      <script>\n",
              "        const buttonEl =\n",
              "          document.querySelector('#df-ca5107ff-ef8c-4204-be6e-eacaccb0f382 button.colab-df-convert');\n",
              "        buttonEl.style.display =\n",
              "          google.colab.kernel.accessAllowed ? 'block' : 'none';\n",
              "\n",
              "        async function convertToInteractive(key) {\n",
              "          const element = document.querySelector('#df-ca5107ff-ef8c-4204-be6e-eacaccb0f382');\n",
              "          const dataTable =\n",
              "            await google.colab.kernel.invokeFunction('convertToInteractive',\n",
              "                                                     [key], {});\n",
              "          if (!dataTable) return;\n",
              "\n",
              "          const docLinkHtml = 'Like what you see? Visit the ' +\n",
              "            '<a target=\"_blank\" href=https://colab.research.google.com/notebooks/data_table.ipynb>data table notebook</a>'\n",
              "            + ' to learn more about interactive tables.';\n",
              "          element.innerHTML = '';\n",
              "          dataTable['output_type'] = 'display_data';\n",
              "          await google.colab.output.renderOutput(dataTable, element);\n",
              "          const docLink = document.createElement('div');\n",
              "          docLink.innerHTML = docLinkHtml;\n",
              "          element.appendChild(docLink);\n",
              "        }\n",
              "      </script>\n",
              "    </div>\n",
              "  </div>\n",
              "  "
            ]
          },
          "metadata": {},
          "execution_count": 53
        }
      ]
    },
    {
      "cell_type": "code",
      "source": [
        "#MAE, RMSE and MAPE\n",
        "print(round(mean_absolute_error(df_cv['y'], df_cv['yhat']),0))\n",
        "print(round(np.sqrt(mean_squared_error(df_cv['y'], df_cv['yhat'])), 0))\n",
        "print(MAPE(df_cv['y'], df_cv['yhat']))"
      ],
      "metadata": {
        "colab": {
          "base_uri": "https://localhost:8080/"
        },
        "id": "exvNs6z7CorT",
        "outputId": "d6c3d81a-662e-44e3-e42a-0c4059be00ec"
      },
      "execution_count": 54,
      "outputs": [
        {
          "output_type": "stream",
          "name": "stdout",
          "text": [
            "5066.0\n",
            "7650.0\n",
            "20.34052704842758\n"
          ]
        }
      ]
    }
  ]
}